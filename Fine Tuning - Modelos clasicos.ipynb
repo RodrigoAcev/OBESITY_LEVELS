{
 "cells": [
  {
   "cell_type": "code",
   "execution_count": 1,
   "id": "c950bd7d",
   "metadata": {},
   "outputs": [],
   "source": [
    "import pandas as pd\n",
    "import numpy as np\n",
    "import os\n",
    "import pickle as pk\n",
    "import matplotlib.pyplot as plt\n",
    "import seaborn as sns\n",
    "\n",
    "import warnings\n",
    "\n",
    "warnings.filterwarnings('ignore')\n",
    "plt.style.use('ggplot')"
   ]
  },
  {
   "cell_type": "markdown",
   "id": "e22e7b6a",
   "metadata": {},
   "source": [
    "## Dataset:"
   ]
  },
  {
   "cell_type": "code",
   "execution_count": 2,
   "id": "f0db6935",
   "metadata": {},
   "outputs": [],
   "source": [
    "DATA_path= 'https://raw.githubusercontent.com/RodrigoAcev/OBESITY_LEVELS/master/data/ObesityDataSet_raw_and_data_sinthetic.csv'"
   ]
  },
  {
   "cell_type": "code",
   "execution_count": 3,
   "id": "b9155fa5",
   "metadata": {},
   "outputs": [
    {
     "data": {
      "text/html": [
       "<div>\n",
       "<style scoped>\n",
       "    .dataframe tbody tr th:only-of-type {\n",
       "        vertical-align: middle;\n",
       "    }\n",
       "\n",
       "    .dataframe tbody tr th {\n",
       "        vertical-align: top;\n",
       "    }\n",
       "\n",
       "    .dataframe thead th {\n",
       "        text-align: right;\n",
       "    }\n",
       "</style>\n",
       "<table border=\"1\" class=\"dataframe\">\n",
       "  <thead>\n",
       "    <tr style=\"text-align: right;\">\n",
       "      <th></th>\n",
       "      <th>Gender</th>\n",
       "      <th>Age</th>\n",
       "      <th>Height</th>\n",
       "      <th>Weight</th>\n",
       "      <th>family_history_with_overweight</th>\n",
       "      <th>FAVC</th>\n",
       "      <th>FCVC</th>\n",
       "      <th>NCP</th>\n",
       "      <th>CAEC</th>\n",
       "      <th>SMOKE</th>\n",
       "      <th>CH2O</th>\n",
       "      <th>SCC</th>\n",
       "      <th>FAF</th>\n",
       "      <th>TUE</th>\n",
       "      <th>CALC</th>\n",
       "      <th>MTRANS</th>\n",
       "      <th>NObeyesdad</th>\n",
       "    </tr>\n",
       "  </thead>\n",
       "  <tbody>\n",
       "    <tr>\n",
       "      <th>0</th>\n",
       "      <td>Female</td>\n",
       "      <td>21.0</td>\n",
       "      <td>1.62</td>\n",
       "      <td>64.0</td>\n",
       "      <td>yes</td>\n",
       "      <td>no</td>\n",
       "      <td>2.0</td>\n",
       "      <td>3.0</td>\n",
       "      <td>Sometimes</td>\n",
       "      <td>no</td>\n",
       "      <td>2.0</td>\n",
       "      <td>no</td>\n",
       "      <td>0.0</td>\n",
       "      <td>1.0</td>\n",
       "      <td>no</td>\n",
       "      <td>Public_Transportation</td>\n",
       "      <td>Normal_Weight</td>\n",
       "    </tr>\n",
       "    <tr>\n",
       "      <th>1</th>\n",
       "      <td>Female</td>\n",
       "      <td>21.0</td>\n",
       "      <td>1.52</td>\n",
       "      <td>56.0</td>\n",
       "      <td>yes</td>\n",
       "      <td>no</td>\n",
       "      <td>3.0</td>\n",
       "      <td>3.0</td>\n",
       "      <td>Sometimes</td>\n",
       "      <td>yes</td>\n",
       "      <td>3.0</td>\n",
       "      <td>yes</td>\n",
       "      <td>3.0</td>\n",
       "      <td>0.0</td>\n",
       "      <td>Sometimes</td>\n",
       "      <td>Public_Transportation</td>\n",
       "      <td>Normal_Weight</td>\n",
       "    </tr>\n",
       "    <tr>\n",
       "      <th>2</th>\n",
       "      <td>Male</td>\n",
       "      <td>23.0</td>\n",
       "      <td>1.80</td>\n",
       "      <td>77.0</td>\n",
       "      <td>yes</td>\n",
       "      <td>no</td>\n",
       "      <td>2.0</td>\n",
       "      <td>3.0</td>\n",
       "      <td>Sometimes</td>\n",
       "      <td>no</td>\n",
       "      <td>2.0</td>\n",
       "      <td>no</td>\n",
       "      <td>2.0</td>\n",
       "      <td>1.0</td>\n",
       "      <td>Frequently</td>\n",
       "      <td>Public_Transportation</td>\n",
       "      <td>Normal_Weight</td>\n",
       "    </tr>\n",
       "    <tr>\n",
       "      <th>3</th>\n",
       "      <td>Male</td>\n",
       "      <td>27.0</td>\n",
       "      <td>1.80</td>\n",
       "      <td>87.0</td>\n",
       "      <td>no</td>\n",
       "      <td>no</td>\n",
       "      <td>3.0</td>\n",
       "      <td>3.0</td>\n",
       "      <td>Sometimes</td>\n",
       "      <td>no</td>\n",
       "      <td>2.0</td>\n",
       "      <td>no</td>\n",
       "      <td>2.0</td>\n",
       "      <td>0.0</td>\n",
       "      <td>Frequently</td>\n",
       "      <td>Walking</td>\n",
       "      <td>Overweight_Level_I</td>\n",
       "    </tr>\n",
       "    <tr>\n",
       "      <th>4</th>\n",
       "      <td>Male</td>\n",
       "      <td>22.0</td>\n",
       "      <td>1.78</td>\n",
       "      <td>89.8</td>\n",
       "      <td>no</td>\n",
       "      <td>no</td>\n",
       "      <td>2.0</td>\n",
       "      <td>1.0</td>\n",
       "      <td>Sometimes</td>\n",
       "      <td>no</td>\n",
       "      <td>2.0</td>\n",
       "      <td>no</td>\n",
       "      <td>0.0</td>\n",
       "      <td>0.0</td>\n",
       "      <td>Sometimes</td>\n",
       "      <td>Public_Transportation</td>\n",
       "      <td>Overweight_Level_II</td>\n",
       "    </tr>\n",
       "  </tbody>\n",
       "</table>\n",
       "</div>"
      ],
      "text/plain": [
       "   Gender   Age  Height  Weight family_history_with_overweight FAVC  FCVC  \\\n",
       "0  Female  21.0    1.62    64.0                            yes   no   2.0   \n",
       "1  Female  21.0    1.52    56.0                            yes   no   3.0   \n",
       "2    Male  23.0    1.80    77.0                            yes   no   2.0   \n",
       "3    Male  27.0    1.80    87.0                             no   no   3.0   \n",
       "4    Male  22.0    1.78    89.8                             no   no   2.0   \n",
       "\n",
       "   NCP       CAEC SMOKE  CH2O  SCC  FAF  TUE        CALC  \\\n",
       "0  3.0  Sometimes    no   2.0   no  0.0  1.0          no   \n",
       "1  3.0  Sometimes   yes   3.0  yes  3.0  0.0   Sometimes   \n",
       "2  3.0  Sometimes    no   2.0   no  2.0  1.0  Frequently   \n",
       "3  3.0  Sometimes    no   2.0   no  2.0  0.0  Frequently   \n",
       "4  1.0  Sometimes    no   2.0   no  0.0  0.0   Sometimes   \n",
       "\n",
       "                  MTRANS           NObeyesdad  \n",
       "0  Public_Transportation        Normal_Weight  \n",
       "1  Public_Transportation        Normal_Weight  \n",
       "2  Public_Transportation        Normal_Weight  \n",
       "3                Walking   Overweight_Level_I  \n",
       "4  Public_Transportation  Overweight_Level_II  "
      ]
     },
     "execution_count": 3,
     "metadata": {},
     "output_type": "execute_result"
    }
   ],
   "source": [
    "df = pd.read_csv(DATA_path)\n",
    "df.head()"
   ]
  },
  {
   "cell_type": "markdown",
   "id": "78070f10",
   "metadata": {},
   "source": [
    "## Transformación variables categóricas:"
   ]
  },
  {
   "cell_type": "code",
   "execution_count": 4,
   "id": "3feba626",
   "metadata": {},
   "outputs": [],
   "source": [
    "#Nombre de columnas con datos categoricos y numericos:\n",
    "cat_cols = ['Gender', 'family_history_with_overweight', 'FAVC', 'CAEC', 'SMOKE',\n",
    "            'SCC', 'CALC', 'MTRANS']\n",
    "\n",
    "num_cols = ['Age', 'Height', 'Weight', 'FCVC', 'NCP', 'CH2O', 'FAF', 'TUE']"
   ]
  },
  {
   "cell_type": "code",
   "execution_count": 5,
   "id": "b1c4302f",
   "metadata": {},
   "outputs": [],
   "source": [
    "#Diccionario con clases \n",
    "class_dict = {'Insufficient_Weight': 0,\n",
    "              'Normal_Weight': 1,\n",
    "              'Overweight_Level_I': 2,\n",
    "              'Overweight_Level_II': 3,\n",
    "              'Obesity_Type_I': 4,\n",
    "              'Obesity_Type_II': 5,\n",
    "              'Obesity_Type_III': 6}\n",
    "\n",
    "inv_class = dict((v_i,k_i) for k_i, v_i in class_dict.items())\n",
    "#inv_class\n",
    "\n",
    "df['NObeyesdad'] = df['NObeyesdad'].apply(lambda x: class_dict[x])"
   ]
  },
  {
   "cell_type": "code",
   "execution_count": 6,
   "id": "0c62d166",
   "metadata": {},
   "outputs": [],
   "source": [
    "#Diccionario para transformacion de variables categoricas a numericas:\n",
    "attr_dic = {'yes':1,\n",
    "            'no':0,\n",
    "            'Sometimes':1,\n",
    "            'Frequently':2,\n",
    "            'Always':3,\n",
    "            'Male':0,\n",
    "            'Female':1,\n",
    "            'Walking':0,\n",
    "            'Bike':1,\n",
    "            'Public_Transportation':2,\n",
    "            'Motorbike':3,\n",
    "            'Automobile':4\n",
    "           }"
   ]
  },
  {
   "cell_type": "code",
   "execution_count": 7,
   "id": "b743f91e",
   "metadata": {},
   "outputs": [
    {
     "name": "stdout",
     "output_type": "stream",
     "text": [
      "<class 'pandas.core.frame.DataFrame'>\n",
      "RangeIndex: 2111 entries, 0 to 2110\n",
      "Data columns (total 17 columns):\n",
      " #   Column                          Non-Null Count  Dtype  \n",
      "---  ------                          --------------  -----  \n",
      " 0   Gender                          2111 non-null   int64  \n",
      " 1   Age                             2111 non-null   float64\n",
      " 2   Height                          2111 non-null   float64\n",
      " 3   Weight                          2111 non-null   float64\n",
      " 4   family_history_with_overweight  2111 non-null   int64  \n",
      " 5   FAVC                            2111 non-null   int64  \n",
      " 6   FCVC                            2111 non-null   float64\n",
      " 7   NCP                             2111 non-null   float64\n",
      " 8   CAEC                            2111 non-null   int64  \n",
      " 9   SMOKE                           2111 non-null   int64  \n",
      " 10  CH2O                            2111 non-null   float64\n",
      " 11  SCC                             2111 non-null   int64  \n",
      " 12  FAF                             2111 non-null   float64\n",
      " 13  TUE                             2111 non-null   float64\n",
      " 14  CALC                            2111 non-null   int64  \n",
      " 15  MTRANS                          2111 non-null   int64  \n",
      " 16  NObeyesdad                      2111 non-null   int64  \n",
      "dtypes: float64(8), int64(9)\n",
      "memory usage: 280.5 KB\n"
     ]
    }
   ],
   "source": [
    "df.replace(attr_dic, inplace=True)\n",
    "df.info()"
   ]
  },
  {
   "cell_type": "code",
   "execution_count": 8,
   "id": "f7101ccc",
   "metadata": {},
   "outputs": [
    {
     "name": "stdout",
     "output_type": "stream",
     "text": [
      "<class 'pandas.core.frame.DataFrame'>\n",
      "RangeIndex: 2111 entries, 0 to 2110\n",
      "Data columns (total 13 columns):\n",
      " #   Column                          Non-Null Count  Dtype  \n",
      "---  ------                          --------------  -----  \n",
      " 0   Gender                          2111 non-null   int64  \n",
      " 1   Age                             2111 non-null   float64\n",
      " 2   Height                          2111 non-null   float64\n",
      " 3   Weight                          2111 non-null   float64\n",
      " 4   family_history_with_overweight  2111 non-null   int64  \n",
      " 5   NCP                             2111 non-null   float64\n",
      " 6   SMOKE                           2111 non-null   int64  \n",
      " 7   CH2O                            2111 non-null   float64\n",
      " 8   SCC                             2111 non-null   int64  \n",
      " 9   FAF                             2111 non-null   float64\n",
      " 10  CALC                            2111 non-null   int64  \n",
      " 11  MTRANS                          2111 non-null   int64  \n",
      " 12  NObeyesdad                      2111 non-null   int64  \n",
      "dtypes: float64(6), int64(7)\n",
      "memory usage: 214.5 KB\n"
     ]
    }
   ],
   "source": [
    "#ELiminacion de columnas:\n",
    "df.drop(['FAVC', 'CAEC', 'TUE', 'FCVC'], axis=1, inplace=True)\n",
    "df.info()"
   ]
  },
  {
   "cell_type": "markdown",
   "id": "9ac0891f",
   "metadata": {},
   "source": [
    "## Train & Test Split"
   ]
  },
  {
   "cell_type": "code",
   "execution_count": 9,
   "id": "5c7eb815",
   "metadata": {},
   "outputs": [],
   "source": [
    "X = df.drop(['NObeyesdad'], axis=1).copy()\n",
    "y = df['NObeyesdad'].copy()"
   ]
  },
  {
   "cell_type": "code",
   "execution_count": 10,
   "id": "e252f042",
   "metadata": {},
   "outputs": [
    {
     "data": {
      "text/plain": [
       "((1688, 12), (423, 12))"
      ]
     },
     "execution_count": 10,
     "metadata": {},
     "output_type": "execute_result"
    }
   ],
   "source": [
    "from sklearn.model_selection import train_test_split\n",
    "\n",
    "X_train, X_test, y_train, y_test = train_test_split(X, y, test_size=.2, stratify=y, random_state=2)\n",
    "X_train.shape, X_test.shape"
   ]
  },
  {
   "cell_type": "markdown",
   "id": "b9737388",
   "metadata": {},
   "source": [
    "## Normalización de datos"
   ]
  },
  {
   "cell_type": "code",
   "execution_count": 11,
   "id": "2b35e2e3",
   "metadata": {},
   "outputs": [
    {
     "data": {
      "text/html": [
       "<div>\n",
       "<style scoped>\n",
       "    .dataframe tbody tr th:only-of-type {\n",
       "        vertical-align: middle;\n",
       "    }\n",
       "\n",
       "    .dataframe tbody tr th {\n",
       "        vertical-align: top;\n",
       "    }\n",
       "\n",
       "    .dataframe thead th {\n",
       "        text-align: right;\n",
       "    }\n",
       "</style>\n",
       "<table border=\"1\" class=\"dataframe\">\n",
       "  <thead>\n",
       "    <tr style=\"text-align: right;\">\n",
       "      <th></th>\n",
       "      <th>Gender</th>\n",
       "      <th>Age</th>\n",
       "      <th>Height</th>\n",
       "      <th>Weight</th>\n",
       "      <th>family_history_with_overweight</th>\n",
       "      <th>NCP</th>\n",
       "      <th>SMOKE</th>\n",
       "      <th>CH2O</th>\n",
       "      <th>SCC</th>\n",
       "      <th>FAF</th>\n",
       "      <th>CALC</th>\n",
       "      <th>MTRANS</th>\n",
       "    </tr>\n",
       "  </thead>\n",
       "  <tbody>\n",
       "    <tr>\n",
       "      <th>count</th>\n",
       "      <td>1.688000e+03</td>\n",
       "      <td>1.688000e+03</td>\n",
       "      <td>1.688000e+03</td>\n",
       "      <td>1.688000e+03</td>\n",
       "      <td>1.688000e+03</td>\n",
       "      <td>1.688000e+03</td>\n",
       "      <td>1.688000e+03</td>\n",
       "      <td>1.688000e+03</td>\n",
       "      <td>1.688000e+03</td>\n",
       "      <td>1.688000e+03</td>\n",
       "      <td>1.688000e+03</td>\n",
       "      <td>1.688000e+03</td>\n",
       "    </tr>\n",
       "    <tr>\n",
       "      <th>mean</th>\n",
       "      <td>2.907101e-17</td>\n",
       "      <td>3.306662e-17</td>\n",
       "      <td>1.902770e-16</td>\n",
       "      <td>-4.331711e-16</td>\n",
       "      <td>2.175064e-16</td>\n",
       "      <td>3.811459e-16</td>\n",
       "      <td>1.820884e-16</td>\n",
       "      <td>-1.472788e-16</td>\n",
       "      <td>-3.199784e-17</td>\n",
       "      <td>1.099700e-16</td>\n",
       "      <td>2.221761e-16</td>\n",
       "      <td>2.997208e-16</td>\n",
       "    </tr>\n",
       "    <tr>\n",
       "      <th>std</th>\n",
       "      <td>1.000296e+00</td>\n",
       "      <td>1.000296e+00</td>\n",
       "      <td>1.000296e+00</td>\n",
       "      <td>1.000296e+00</td>\n",
       "      <td>1.000296e+00</td>\n",
       "      <td>1.000296e+00</td>\n",
       "      <td>1.000296e+00</td>\n",
       "      <td>1.000296e+00</td>\n",
       "      <td>1.000296e+00</td>\n",
       "      <td>1.000296e+00</td>\n",
       "      <td>1.000296e+00</td>\n",
       "      <td>1.000296e+00</td>\n",
       "    </tr>\n",
       "    <tr>\n",
       "      <th>min</th>\n",
       "      <td>-9.940933e-01</td>\n",
       "      <td>-1.642070e+00</td>\n",
       "      <td>-2.693071e+00</td>\n",
       "      <td>-1.818819e+00</td>\n",
       "      <td>-2.120936e+00</td>\n",
       "      <td>-2.089368e+00</td>\n",
       "      <td>-1.455116e-01</td>\n",
       "      <td>-1.630419e+00</td>\n",
       "      <td>-2.033040e-01</td>\n",
       "      <td>-1.189390e+00</td>\n",
       "      <td>-1.409166e+00</td>\n",
       "      <td>-2.614045e+00</td>\n",
       "    </tr>\n",
       "    <tr>\n",
       "      <th>25%</th>\n",
       "      <td>-9.940933e-01</td>\n",
       "      <td>-6.927107e-01</td>\n",
       "      <td>-7.660327e-01</td>\n",
       "      <td>-8.109895e-01</td>\n",
       "      <td>4.714899e-01</td>\n",
       "      <td>-2.176345e-01</td>\n",
       "      <td>-1.455116e-01</td>\n",
       "      <td>-7.365456e-01</td>\n",
       "      <td>-2.033040e-01</td>\n",
       "      <td>-1.037004e+00</td>\n",
       "      <td>-1.409166e+00</td>\n",
       "      <td>-4.225834e-01</td>\n",
       "    </tr>\n",
       "    <tr>\n",
       "      <th>50%</th>\n",
       "      <td>-9.940933e-01</td>\n",
       "      <td>-2.280389e-01</td>\n",
       "      <td>-8.855673e-03</td>\n",
       "      <td>-1.452212e-01</td>\n",
       "      <td>4.714899e-01</td>\n",
       "      <td>4.300598e-01</td>\n",
       "      <td>-1.455116e-01</td>\n",
       "      <td>-5.086387e-03</td>\n",
       "      <td>-2.033040e-01</td>\n",
       "      <td>-1.978376e-02</td>\n",
       "      <td>5.137704e-01</td>\n",
       "      <td>-4.225834e-01</td>\n",
       "    </tr>\n",
       "    <tr>\n",
       "      <th>75%</th>\n",
       "      <td>1.005942e+00</td>\n",
       "      <td>2.828651e-01</td>\n",
       "      <td>7.237420e-01</td>\n",
       "      <td>7.723947e-01</td>\n",
       "      <td>4.714899e-01</td>\n",
       "      <td>4.300598e-01</td>\n",
       "      <td>-1.455116e-01</td>\n",
       "      <td>7.607783e-01</td>\n",
       "      <td>-2.033040e-01</td>\n",
       "      <td>7.539764e-01</td>\n",
       "      <td>5.137704e-01</td>\n",
       "      <td>-4.225834e-01</td>\n",
       "    </tr>\n",
       "    <tr>\n",
       "      <th>max</th>\n",
       "      <td>1.005942e+00</td>\n",
       "      <td>5.095203e+00</td>\n",
       "      <td>2.997466e+00</td>\n",
       "      <td>3.321025e+00</td>\n",
       "      <td>4.714899e-01</td>\n",
       "      <td>1.689774e+00</td>\n",
       "      <td>6.872305e+00</td>\n",
       "      <td>1.620246e+00</td>\n",
       "      <td>4.918743e+00</td>\n",
       "      <td>2.319429e+00</td>\n",
       "      <td>4.359644e+00</td>\n",
       "      <td>1.768878e+00</td>\n",
       "    </tr>\n",
       "  </tbody>\n",
       "</table>\n",
       "</div>"
      ],
      "text/plain": [
       "             Gender           Age        Height        Weight  \\\n",
       "count  1.688000e+03  1.688000e+03  1.688000e+03  1.688000e+03   \n",
       "mean   2.907101e-17  3.306662e-17  1.902770e-16 -4.331711e-16   \n",
       "std    1.000296e+00  1.000296e+00  1.000296e+00  1.000296e+00   \n",
       "min   -9.940933e-01 -1.642070e+00 -2.693071e+00 -1.818819e+00   \n",
       "25%   -9.940933e-01 -6.927107e-01 -7.660327e-01 -8.109895e-01   \n",
       "50%   -9.940933e-01 -2.280389e-01 -8.855673e-03 -1.452212e-01   \n",
       "75%    1.005942e+00  2.828651e-01  7.237420e-01  7.723947e-01   \n",
       "max    1.005942e+00  5.095203e+00  2.997466e+00  3.321025e+00   \n",
       "\n",
       "       family_history_with_overweight           NCP         SMOKE  \\\n",
       "count                    1.688000e+03  1.688000e+03  1.688000e+03   \n",
       "mean                     2.175064e-16  3.811459e-16  1.820884e-16   \n",
       "std                      1.000296e+00  1.000296e+00  1.000296e+00   \n",
       "min                     -2.120936e+00 -2.089368e+00 -1.455116e-01   \n",
       "25%                      4.714899e-01 -2.176345e-01 -1.455116e-01   \n",
       "50%                      4.714899e-01  4.300598e-01 -1.455116e-01   \n",
       "75%                      4.714899e-01  4.300598e-01 -1.455116e-01   \n",
       "max                      4.714899e-01  1.689774e+00  6.872305e+00   \n",
       "\n",
       "               CH2O           SCC           FAF          CALC        MTRANS  \n",
       "count  1.688000e+03  1.688000e+03  1.688000e+03  1.688000e+03  1.688000e+03  \n",
       "mean  -1.472788e-16 -3.199784e-17  1.099700e-16  2.221761e-16  2.997208e-16  \n",
       "std    1.000296e+00  1.000296e+00  1.000296e+00  1.000296e+00  1.000296e+00  \n",
       "min   -1.630419e+00 -2.033040e-01 -1.189390e+00 -1.409166e+00 -2.614045e+00  \n",
       "25%   -7.365456e-01 -2.033040e-01 -1.037004e+00 -1.409166e+00 -4.225834e-01  \n",
       "50%   -5.086387e-03 -2.033040e-01 -1.978376e-02  5.137704e-01 -4.225834e-01  \n",
       "75%    7.607783e-01 -2.033040e-01  7.539764e-01  5.137704e-01 -4.225834e-01  \n",
       "max    1.620246e+00  4.918743e+00  2.319429e+00  4.359644e+00  1.768878e+00  "
      ]
     },
     "execution_count": 11,
     "metadata": {},
     "output_type": "execute_result"
    }
   ],
   "source": [
    "from sklearn.preprocessing import StandardScaler\n",
    "\n",
    "cat_cols.remove('FAVC')\n",
    "cat_cols.remove('CAEC')\n",
    "\n",
    "num_cols.remove('TUE')\n",
    "num_cols.remove('FCVC')\n",
    "\n",
    "\n",
    "\n",
    "#Normalizacion datos categoricos:\n",
    "scaler_cat = StandardScaler()\n",
    "X_train.loc[:,cat_cols] = scaler_cat.fit_transform(X_train.loc[:,cat_cols].values)\n",
    "\n",
    "#Normalizacion datos numericos:\n",
    "scaler_num = StandardScaler()\n",
    "X_train.loc[:,num_cols] = scaler_num.fit_transform(X_train.loc[:,num_cols].values)\n",
    "X_train.describe()"
   ]
  },
  {
   "cell_type": "code",
   "execution_count": 12,
   "id": "e59d310d",
   "metadata": {},
   "outputs": [],
   "source": [
    "#Guardar scalers:\n",
    "if not(os.path.exists('./Scalers/')):\n",
    "    os.mkdir('./Scalers/')\n",
    "\n",
    "with open('./Scalers/scaler_cat.scaler', 'wb') as f:\n",
    "    pk.dump(scaler_cat, f)\n",
    "\n",
    "with open('./Scalers/scaler_num.scaler', 'wb') as f:\n",
    "    pk.dump(scaler_num, f)"
   ]
  },
  {
   "cell_type": "markdown",
   "id": "69f69ed8",
   "metadata": {},
   "source": [
    "## Multinomial Logistic Regression"
   ]
  },
  {
   "cell_type": "code",
   "execution_count": 14,
   "id": "e2f17930",
   "metadata": {
    "scrolled": true
   },
   "outputs": [
    {
     "data": {
      "text/plain": [
       "12108"
      ]
     },
     "execution_count": 14,
     "metadata": {},
     "output_type": "execute_result"
    }
   ],
   "source": [
    "from sklearn.linear_model import LogisticRegression\n",
    "from sklearn.model_selection import GridSearchCV, RandomizedSearchCV\n",
    "from sklearn.metrics import f1_score\n",
    "\n",
    "params_dict = {'multi_class': ['multinomial'],\n",
    "               'penalty': ['l1', 'l2', 'elasticnet'],\n",
    "               'C': np.arange(0.1,101,.1),\n",
    "               'class_weight': ['balanced'],\n",
    "               'solver' : ['newton-cg', 'sag', 'saga', 'lbfgs']\n",
    "              }\n",
    "\n",
    "model = LogisticRegression()\n",
    "\n",
    "combinacion_total=1\n",
    "for k, v in params_dict.items():\n",
    "    combinacion_total *=len(v)\n",
    "combinacion_total"
   ]
  },
  {
   "cell_type": "code",
   "execution_count": 15,
   "id": "e4fb5f85",
   "metadata": {},
   "outputs": [
    {
     "data": {
      "text/plain": [
       "{'solver': 'newton-cg',\n",
       " 'penalty': 'l2',\n",
       " 'multi_class': 'multinomial',\n",
       " 'class_weight': 'balanced',\n",
       " 'C': 94.1}"
      ]
     },
     "execution_count": 15,
     "metadata": {},
     "output_type": "execute_result"
    }
   ],
   "source": [
    "#Random search:\n",
    "random_cv = RandomizedSearchCV(LogisticRegression(), \n",
    "                               params_dict, \n",
    "                               scoring='f1_macro', \n",
    "                               cv=10, \n",
    "                               n_iter=120,\n",
    "                               n_jobs=-1,\n",
    "                               random_state=42)\n",
    "random_cv.fit(X_train, y_train)\n",
    "random_cv.best_params_"
   ]
  },
  {
   "cell_type": "code",
   "execution_count": 16,
   "id": "ba36fdad",
   "metadata": {},
   "outputs": [
    {
     "data": {
      "text/plain": [
       "0.9757109004739336"
      ]
     },
     "execution_count": 16,
     "metadata": {},
     "output_type": "execute_result"
    }
   ],
   "source": [
    "best_random = random_cv.best_estimator_\n",
    "best_random.score(X_train, y_train)"
   ]
  },
  {
   "cell_type": "code",
   "execution_count": 17,
   "id": "0b631c6b",
   "metadata": {},
   "outputs": [
    {
     "data": {
      "text/plain": [
       "10"
      ]
     },
     "execution_count": 17,
     "metadata": {},
     "output_type": "execute_result"
    }
   ],
   "source": [
    "params_dict = {'multi_class': ['multinomial'],\n",
    "               'penalty': ['l2'],\n",
    "               'C': np.arange(90,100,1),\n",
    "               'class_weight': ['balanced'],\n",
    "               'solver' : ['newton-cg']\n",
    "              }\n",
    "combinacion_total=1\n",
    "for k, v in params_dict.items():\n",
    "    combinacion_total *=len(v)\n",
    "combinacion_total"
   ]
  },
  {
   "cell_type": "code",
   "execution_count": 18,
   "id": "f19cf170",
   "metadata": {},
   "outputs": [
    {
     "name": "stdout",
     "output_type": "stream",
     "text": [
      "Fitting 10 folds for each of 10 candidates, totalling 100 fits\n"
     ]
    },
    {
     "data": {
      "text/plain": [
       "GridSearchCV(cv=10, estimator=LogisticRegression(), n_jobs=-1,\n",
       "             param_grid={'C': array([90, 91, 92, 93, 94, 95, 96, 97, 98, 99]),\n",
       "                         'class_weight': ['balanced'],\n",
       "                         'multi_class': ['multinomial'], 'penalty': ['l2'],\n",
       "                         'solver': ['newton-cg']},\n",
       "             scoring='accuracy', verbose=2)"
      ]
     },
     "execution_count": 18,
     "metadata": {},
     "output_type": "execute_result"
    }
   ],
   "source": [
    "#GridSearch:\n",
    "model = LogisticRegression()\n",
    "grid_cv = GridSearchCV(estimator = model, \n",
    "                       param_grid = params_dict, \n",
    "                       scoring='accuracy',\n",
    "                       cv = 10,\n",
    "                       verbose=2, \n",
    "                       n_jobs = -1\n",
    "                       )\n",
    "grid_cv.fit(X_train, y_train)"
   ]
  },
  {
   "cell_type": "code",
   "execution_count": 20,
   "id": "3340e156",
   "metadata": {},
   "outputs": [
    {
     "data": {
      "text/plain": [
       "({'C': 92,\n",
       "  'class_weight': 'balanced',\n",
       "  'multi_class': 'multinomial',\n",
       "  'penalty': 'l2',\n",
       "  'solver': 'newton-cg'},\n",
       " 0.9668392504930967)"
      ]
     },
     "execution_count": 20,
     "metadata": {},
     "output_type": "execute_result"
    }
   ],
   "source": [
    "grid_cv.best_params_, grid_cv.best_score_"
   ]
  },
  {
   "cell_type": "code",
   "execution_count": 21,
   "id": "500e7894",
   "metadata": {},
   "outputs": [
    {
     "data": {
      "text/plain": [
       "LogisticRegression(C=92, class_weight='balanced', multi_class='multinomial',\n",
       "                   random_state=42, solver='newton-cg')"
      ]
     },
     "execution_count": 21,
     "metadata": {},
     "output_type": "execute_result"
    }
   ],
   "source": [
    "lgr_model = LogisticRegression(**grid_cv.best_params_, random_state=42)\n",
    "lgr_model.fit(X_train, y_train)"
   ]
  },
  {
   "cell_type": "code",
   "execution_count": 22,
   "id": "d42f93ba",
   "metadata": {},
   "outputs": [
    {
     "data": {
      "text/plain": [
       "0.9747364209335608"
      ]
     },
     "execution_count": 22,
     "metadata": {},
     "output_type": "execute_result"
    }
   ],
   "source": [
    "f1_score(y_train, lgr_model.predict(X_train), average='macro')"
   ]
  },
  {
   "cell_type": "code",
   "execution_count": 23,
   "id": "c2bb83ed",
   "metadata": {},
   "outputs": [
    {
     "data": {
      "text/plain": [
       "(423, 12)"
      ]
     },
     "execution_count": 23,
     "metadata": {},
     "output_type": "execute_result"
    }
   ],
   "source": [
    "#Preparar datos de prueba:\n",
    "X_test.loc[:, cat_cols] = scaler_cat.transform(X_test.loc[:,cat_cols].values)\n",
    "X_test.loc[:, num_cols] = scaler_num.transform(X_test.loc[:,num_cols].values)\n",
    "\n",
    "#X_test = obs_pca.transform(X_test)\n",
    "X_test.shape"
   ]
  },
  {
   "cell_type": "code",
   "execution_count": 24,
   "id": "a8739436",
   "metadata": {},
   "outputs": [
    {
     "data": {
      "text/plain": [
       "0.9440401163529009"
      ]
     },
     "execution_count": 24,
     "metadata": {},
     "output_type": "execute_result"
    }
   ],
   "source": [
    "y_hat = lgr_model.predict(X_test)\n",
    "f1_score(y_test, y_hat, average='macro')"
   ]
  },
  {
   "cell_type": "code",
   "execution_count": 25,
   "id": "1221ae16",
   "metadata": {},
   "outputs": [
    {
     "name": "stdout",
     "output_type": "stream",
     "text": [
      "                     precision    recall  f1-score   support\n",
      "\n",
      "Insufficient_Weight       0.93      1.00      0.96        54\n",
      "      Normal_Weight       0.98      0.91      0.95        58\n",
      " Overweight_Level_I       0.84      0.97      0.90        58\n",
      "Overweight_Level_II       0.96      0.81      0.88        58\n",
      "     Obesity_Type_I       0.97      0.96      0.96        70\n",
      "    Obesity_Type_II       0.97      0.97      0.97        60\n",
      "   Obesity_Type_III       0.98      1.00      0.99        65\n",
      "\n",
      "           accuracy                           0.95       423\n",
      "          macro avg       0.95      0.94      0.94       423\n",
      "       weighted avg       0.95      0.95      0.95       423\n",
      "\n"
     ]
    },
    {
     "data": {
      "image/png": "[encoded data removed]",
      "text/plain": [
       "<Figure size 504x360 with 2 Axes>"
      ]
     },
     "metadata": {},
     "output_type": "display_data"
    }
   ],
   "source": [
    "from sklearn.metrics import confusion_matrix, ConfusionMatrixDisplay, classification_report\n",
    "\n",
    "def GraficaCM(y_test, y_hat, class_dict):\n",
    "\n",
    "    labels_classes = list(class_dict.keys())\n",
    "    \n",
    "    cm = confusion_matrix(y_test, y_hat)\n",
    "\n",
    "    print(classification_report(y_test, y_hat, target_names=labels_classes))\n",
    "\n",
    "    fig, axs = plt.subplots(figsize=(7,5))\n",
    "\n",
    "    sns.heatmap(cm, annot=True, ax=axs, cmap='magma_r')\n",
    "\n",
    "    axs.set_yticks(np.arange(len(labels_classes))+.5)\n",
    "    axs.set_xticks(np.arange(len(labels_classes))+.5)\n",
    "\n",
    "    axs.set_xticklabels(labels_classes, rotation=90)\n",
    "    axs.set_yticklabels(labels_classes, rotation=0)\n",
    "\n",
    "    axs.set_ylabel('Verdadero')\n",
    "    axs.set_xlabel('Estimado')\n",
    "\n",
    "    plt.show()\n",
    "    \n",
    "GraficaCM(y_test, y_hat, class_dict)"
   ]
  },
  {
   "cell_type": "markdown",
   "id": "f80984e2",
   "metadata": {},
   "source": [
    "## SVM"
   ]
  },
  {
   "cell_type": "code",
   "execution_count": 26,
   "id": "b49d0748",
   "metadata": {},
   "outputs": [
    {
     "data": {
      "text/plain": [
       "8072"
      ]
     },
     "execution_count": 26,
     "metadata": {},
     "output_type": "execute_result"
    }
   ],
   "source": [
    "from sklearn.svm import SVC\n",
    "\n",
    "params_dict = {'kernel':[ 'sigmoid', 'rbf', 'poly', 'linear'],\n",
    "               'C': np.arange(0.1,101,.1),\n",
    "               'class_weight': ['balanced', None],\n",
    "               'probability' : [True]\n",
    "              }\n",
    "\n",
    "model = SVC()\n",
    "\n",
    "combinacion_total=1\n",
    "for k, v in params_dict.items():\n",
    "    combinacion_total *=len(v)\n",
    "combinacion_total"
   ]
  },
  {
   "cell_type": "code",
   "execution_count": 27,
   "id": "a5540035",
   "metadata": {},
   "outputs": [
    {
     "data": {
      "text/plain": [
       "{'probability': True, 'kernel': 'linear', 'class_weight': None, 'C': 77.9}"
      ]
     },
     "execution_count": 27,
     "metadata": {},
     "output_type": "execute_result"
    }
   ],
   "source": [
    "#Random search:\n",
    "random_cv = RandomizedSearchCV(model, \n",
    "                               params_dict, \n",
    "                               scoring='f1_macro', \n",
    "                               cv=10, \n",
    "                               n_iter=20,\n",
    "                               n_jobs=-1,\n",
    "                               random_state=42)\n",
    "random_cv.fit(X_train, y_train)\n",
    "random_cv.best_params_"
   ]
  },
  {
   "cell_type": "code",
   "execution_count": 28,
   "id": "6ec0b05e",
   "metadata": {},
   "outputs": [
    {
     "data": {
      "text/plain": [
       "0.981042654028436"
      ]
     },
     "execution_count": 28,
     "metadata": {},
     "output_type": "execute_result"
    }
   ],
   "source": [
    "best_random = random_cv.best_estimator_\n",
    "best_random.score(X_train, y_train)"
   ]
  },
  {
   "cell_type": "code",
   "execution_count": 29,
   "id": "e26cc98e",
   "metadata": {},
   "outputs": [
    {
     "data": {
      "text/plain": [
       "20"
      ]
     },
     "execution_count": 29,
     "metadata": {},
     "output_type": "execute_result"
    }
   ],
   "source": [
    "params_dict = {'kernel':['linear'],\n",
    "              #'degree': [2,3,4],\n",
    "               'C': np.arange(70,80,.5),\n",
    "               'class_weight': ['balanced'],\n",
    "               'probability' : [True]\n",
    "              }\n",
    "combinacion_total=1\n",
    "for k, v in params_dict.items():\n",
    "    combinacion_total *=len(v)\n",
    "combinacion_total"
   ]
  },
  {
   "cell_type": "code",
   "execution_count": 30,
   "id": "dfb2c781",
   "metadata": {},
   "outputs": [
    {
     "name": "stdout",
     "output_type": "stream",
     "text": [
      "Fitting 10 folds for each of 20 candidates, totalling 200 fits\n"
     ]
    },
    {
     "data": {
      "text/plain": [
       "GridSearchCV(cv=10, estimator=SVC(), n_jobs=-1,\n",
       "             param_grid={'C': array([70. , 70.5, 71. , 71.5, 72. , 72.5, 73. , 73.5, 74. , 74.5, 75. ,\n",
       "       75.5, 76. , 76.5, 77. , 77.5, 78. , 78.5, 79. , 79.5]),\n",
       "                         'class_weight': ['balanced'], 'kernel': ['linear'],\n",
       "                         'probability': [True]},\n",
       "             scoring='f1_macro', verbose=2)"
      ]
     },
     "execution_count": 30,
     "metadata": {},
     "output_type": "execute_result"
    }
   ],
   "source": [
    "#GridSearch:\n",
    "model = SVC()\n",
    "grid_cv = GridSearchCV(estimator = model, \n",
    "                       param_grid = params_dict, \n",
    "                       scoring='f1_macro',\n",
    "                       cv = 10,\n",
    "                       verbose=2, \n",
    "                       n_jobs = -1\n",
    "                       )\n",
    "grid_cv.fit(X_train, y_train)"
   ]
  },
  {
   "cell_type": "code",
   "execution_count": 31,
   "id": "543d827c",
   "metadata": {},
   "outputs": [
    {
     "data": {
      "text/plain": [
       "({'C': 70.0,\n",
       "  'class_weight': 'balanced',\n",
       "  'kernel': 'linear',\n",
       "  'probability': True},\n",
       " 0.968705545860759)"
      ]
     },
     "execution_count": 31,
     "metadata": {},
     "output_type": "execute_result"
    }
   ],
   "source": [
    "grid_cv.best_params_, grid_cv.best_score_"
   ]
  },
  {
   "cell_type": "code",
   "execution_count": 32,
   "id": "92b0deaf",
   "metadata": {},
   "outputs": [
    {
     "data": {
      "text/plain": [
       "SVC(C=70.0, class_weight='balanced', kernel='linear', probability=True)"
      ]
     },
     "execution_count": 32,
     "metadata": {},
     "output_type": "execute_result"
    }
   ],
   "source": [
    "svm_model = SVC(**grid_cv.best_params_)\n",
    "svm_model.fit(X_train, y_train)"
   ]
  },
  {
   "cell_type": "code",
   "execution_count": 33,
   "id": "770716a6",
   "metadata": {},
   "outputs": [
    {
     "data": {
      "text/plain": [
       "0.9536624028517856"
      ]
     },
     "execution_count": 33,
     "metadata": {},
     "output_type": "execute_result"
    }
   ],
   "source": [
    "y_hat_svm = svm_model.predict(X_test)\n",
    "f1_svm = f1_score(y_test, y_hat_svm, average='macro')\n",
    "f1_svm"
   ]
  },
  {
   "cell_type": "code",
   "execution_count": 34,
   "id": "9a6ddef3",
   "metadata": {},
   "outputs": [
    {
     "data": {
      "text/plain": [
       "0.9550827423167849"
      ]
     },
     "execution_count": 34,
     "metadata": {},
     "output_type": "execute_result"
    }
   ],
   "source": [
    "from sklearn.metrics import accuracy_score\n",
    "\n",
    "accuracy_score(y_test, y_hat_svm)"
   ]
  },
  {
   "cell_type": "code",
   "execution_count": 35,
   "id": "235cd2fc",
   "metadata": {},
   "outputs": [
    {
     "name": "stdout",
     "output_type": "stream",
     "text": [
      "                     precision    recall  f1-score   support\n",
      "\n",
      "Insufficient_Weight       0.95      1.00      0.97        54\n",
      "      Normal_Weight       0.96      0.91      0.94        58\n",
      " Overweight_Level_I       0.85      0.95      0.89        58\n",
      "Overweight_Level_II       0.98      0.86      0.92        58\n",
      "     Obesity_Type_I       0.99      0.99      0.99        70\n",
      "    Obesity_Type_II       0.98      0.97      0.97        60\n",
      "   Obesity_Type_III       0.98      1.00      0.99        65\n",
      "\n",
      "           accuracy                           0.96       423\n",
      "          macro avg       0.96      0.95      0.95       423\n",
      "       weighted avg       0.96      0.96      0.96       423\n",
      "\n"
     ]
    },
    {
     "data": {
      "image/png": "[encoded data removed]",
      "text/plain": [
       "<Figure size 504x360 with 2 Axes>"
      ]
     },
     "metadata": {},
     "output_type": "display_data"
    }
   ],
   "source": [
    "GraficaCM(y_test, y_hat_svm, class_dict)"
   ]
  },
  {
   "cell_type": "markdown",
   "id": "b563038c",
   "metadata": {},
   "source": [
    "## Decision Trees"
   ]
  },
  {
   "cell_type": "code",
   "execution_count": 36,
   "id": "4442054c",
   "metadata": {},
   "outputs": [
    {
     "data": {
      "text/plain": [
       "2860"
      ]
     },
     "execution_count": 36,
     "metadata": {},
     "output_type": "execute_result"
    }
   ],
   "source": [
    "from sklearn.tree import DecisionTreeClassifier\n",
    "\n",
    "params_dict = {'max_depth':np.arange(3,16),\n",
    "               'min_samples_split': np.arange(2,200,10),\n",
    "               'class_weight': ['balanced'],\n",
    "               'max_features' : list(np.arange(0.1,1.1,.1))+['sqrt']\n",
    "              }\n",
    "\n",
    "model = DecisionTreeClassifier()\n",
    "\n",
    "combinacion_total=1\n",
    "for k, v in params_dict.items():\n",
    "    combinacion_total *=len(v)\n",
    "combinacion_total"
   ]
  },
  {
   "cell_type": "code",
   "execution_count": 37,
   "id": "50205176",
   "metadata": {},
   "outputs": [
    {
     "data": {
      "text/plain": [
       "{'min_samples_split': 22,\n",
       " 'max_features': 0.9,\n",
       " 'max_depth': 9,\n",
       " 'class_weight': 'balanced'}"
      ]
     },
     "execution_count": 37,
     "metadata": {},
     "output_type": "execute_result"
    }
   ],
   "source": [
    "#Random search:\n",
    "random_cv = RandomizedSearchCV(model, \n",
    "                               params_dict, \n",
    "                               scoring='f1_macro', \n",
    "                               cv=10, \n",
    "                               n_iter=20,\n",
    "                               n_jobs=-1,\n",
    "                               random_state=42)\n",
    "random_cv.fit(X_train, y_train)\n",
    "random_cv.best_params_"
   ]
  },
  {
   "cell_type": "code",
   "execution_count": 38,
   "id": "6c44bc88",
   "metadata": {},
   "outputs": [
    {
     "data": {
      "text/plain": [
       "0.9520142180094787"
      ]
     },
     "execution_count": 38,
     "metadata": {},
     "output_type": "execute_result"
    }
   ],
   "source": [
    "best_random = random_cv.best_estimator_\n",
    "best_random.score(X_train, y_train)"
   ]
  },
  {
   "cell_type": "code",
   "execution_count": 39,
   "id": "a98595e6",
   "metadata": {},
   "outputs": [
    {
     "data": {
      "text/plain": [
       "72"
      ]
     },
     "execution_count": 39,
     "metadata": {},
     "output_type": "execute_result"
    }
   ],
   "source": [
    "params_dict = {'max_depth':np.arange(7,11),\n",
    "               'min_samples_split': np.arange(20,26),\n",
    "               'class_weight': ['balanced'],\n",
    "               'max_features' : [1,0.9,'sqrt']\n",
    "              }\n",
    "\n",
    "combinacion_total=1\n",
    "for k, v in params_dict.items():\n",
    "    combinacion_total *=len(v)\n",
    "combinacion_total"
   ]
  },
  {
   "cell_type": "code",
   "execution_count": 40,
   "id": "f4759c4e",
   "metadata": {},
   "outputs": [
    {
     "name": "stdout",
     "output_type": "stream",
     "text": [
      "Fitting 10 folds for each of 72 candidates, totalling 720 fits\n"
     ]
    },
    {
     "data": {
      "text/plain": [
       "GridSearchCV(cv=10, estimator=DecisionTreeClassifier(), n_jobs=-1,\n",
       "             param_grid={'class_weight': ['balanced'],\n",
       "                         'max_depth': array([ 7,  8,  9, 10]),\n",
       "                         'max_features': [1, 0.9, 'sqrt'],\n",
       "                         'min_samples_split': array([20, 21, 22, 23, 24, 25])},\n",
       "             scoring='f1_macro', verbose=2)"
      ]
     },
     "execution_count": 40,
     "metadata": {},
     "output_type": "execute_result"
    }
   ],
   "source": [
    "#GridSearch:\n",
    "model = DecisionTreeClassifier()\n",
    "grid_cv = GridSearchCV(estimator = model, \n",
    "                       param_grid = params_dict, \n",
    "                       scoring='f1_macro',\n",
    "                       cv = 10,\n",
    "                       verbose=2, \n",
    "                       n_jobs = -1\n",
    "                       )\n",
    "grid_cv.fit(X_train, y_train)"
   ]
  },
  {
   "cell_type": "code",
   "execution_count": 41,
   "id": "fa6ce4ec",
   "metadata": {},
   "outputs": [
    {
     "data": {
      "text/plain": [
       "({'class_weight': 'balanced',\n",
       "  'max_depth': 10,\n",
       "  'max_features': 0.9,\n",
       "  'min_samples_split': 21},\n",
       " 0.9000412831418071)"
      ]
     },
     "execution_count": 41,
     "metadata": {},
     "output_type": "execute_result"
    }
   ],
   "source": [
    "grid_cv.best_params_, grid_cv.best_score_"
   ]
  },
  {
   "cell_type": "code",
   "execution_count": 42,
   "id": "24a61fbb",
   "metadata": {},
   "outputs": [
    {
     "data": {
      "text/plain": [
       "DecisionTreeClassifier(class_weight='balanced', max_depth=10, max_features=0.9,\n",
       "                       min_samples_split=21)"
      ]
     },
     "execution_count": 42,
     "metadata": {},
     "output_type": "execute_result"
    }
   ],
   "source": [
    "dt_model = DecisionTreeClassifier(**grid_cv.best_params_)\n",
    "dt_model.fit(X_train, y_train)"
   ]
  },
  {
   "cell_type": "code",
   "execution_count": 43,
   "id": "6d5ea0a8",
   "metadata": {},
   "outputs": [
    {
     "data": {
      "text/plain": [
       "0.8825753199867751"
      ]
     },
     "execution_count": 43,
     "metadata": {},
     "output_type": "execute_result"
    }
   ],
   "source": [
    "y_hat_dt = dt_model.predict(X_test)\n",
    "f1_dt = f1_score(y_test, y_hat_dt, average='macro')\n",
    "f1_dt"
   ]
  },
  {
   "cell_type": "code",
   "execution_count": 44,
   "id": "c0dd3ad5",
   "metadata": {},
   "outputs": [
    {
     "data": {
      "text/plain": [
       "0.8841607565011821"
      ]
     },
     "execution_count": 44,
     "metadata": {},
     "output_type": "execute_result"
    }
   ],
   "source": [
    "accuracy_score(y_test, y_hat_dt)"
   ]
  },
  {
   "cell_type": "code",
   "execution_count": 45,
   "id": "24fb831b",
   "metadata": {},
   "outputs": [
    {
     "name": "stdout",
     "output_type": "stream",
     "text": [
      "                     precision    recall  f1-score   support\n",
      "\n",
      "Insufficient_Weight       0.86      0.89      0.87        54\n",
      "      Normal_Weight       0.80      0.84      0.82        58\n",
      " Overweight_Level_I       0.92      0.81      0.86        58\n",
      "Overweight_Level_II       0.81      0.86      0.83        58\n",
      "     Obesity_Type_I       0.89      0.83      0.86        70\n",
      "    Obesity_Type_II       0.92      0.95      0.93        60\n",
      "   Obesity_Type_III       0.98      1.00      0.99        65\n",
      "\n",
      "           accuracy                           0.88       423\n",
      "          macro avg       0.88      0.88      0.88       423\n",
      "       weighted avg       0.89      0.88      0.88       423\n",
      "\n"
     ]
    },
    {
     "data": {
      "image/png": "[encoded data removed]",
      "text/plain": [
       "<Figure size 504x360 with 2 Axes>"
      ]
     },
     "metadata": {},
     "output_type": "display_data"
    }
   ],
   "source": [
    "GraficaCM(y_test, y_hat_dt, class_dict)"
   ]
  },
  {
   "cell_type": "markdown",
   "id": "611c37ea",
   "metadata": {},
   "source": [
    "## Kneighbors"
   ]
  },
  {
   "cell_type": "code",
   "execution_count": 46,
   "id": "63f7f084",
   "metadata": {},
   "outputs": [
    {
     "data": {
      "text/plain": [
       "72"
      ]
     },
     "execution_count": 46,
     "metadata": {},
     "output_type": "execute_result"
    }
   ],
   "source": [
    "from sklearn.neighbors import KNeighborsClassifier\n",
    "\n",
    "params_dict = {'n_neighbors':np.arange(4,16),\n",
    "               'weights': ['distance', 'uniform'],\n",
    "               'algorithm': ['ball_tree', 'kd_tree', 'brute']\n",
    "              }\n",
    "\n",
    "model = KNeighborsClassifier()\n",
    "\n",
    "\n",
    "combinacion_total=1\n",
    "for k, v in params_dict.items():\n",
    "    combinacion_total *=len(v)\n",
    "combinacion_total"
   ]
  },
  {
   "cell_type": "code",
   "execution_count": 47,
   "id": "7aceaa63",
   "metadata": {},
   "outputs": [
    {
     "data": {
      "text/plain": [
       "{'weights': 'distance', 'n_neighbors': 4, 'algorithm': 'ball_tree'}"
      ]
     },
     "execution_count": 47,
     "metadata": {},
     "output_type": "execute_result"
    }
   ],
   "source": [
    "#Random search:\n",
    "random_cv = RandomizedSearchCV(model, \n",
    "                               params_dict, \n",
    "                               scoring='f1_macro', \n",
    "                               cv=10, \n",
    "                               n_iter=20,\n",
    "                               n_jobs=-1,\n",
    "                               random_state=42)\n",
    "random_cv.fit(X_train, y_train)\n",
    "random_cv.best_params_"
   ]
  },
  {
   "cell_type": "code",
   "execution_count": 48,
   "id": "c5dc627b",
   "metadata": {},
   "outputs": [
    {
     "data": {
      "text/plain": [
       "1.0"
      ]
     },
     "execution_count": 48,
     "metadata": {},
     "output_type": "execute_result"
    }
   ],
   "source": [
    "best_random = random_cv.best_estimator_\n",
    "best_random.score(X_train, y_train)"
   ]
  },
  {
   "cell_type": "code",
   "execution_count": 49,
   "id": "ac3db30f",
   "metadata": {},
   "outputs": [
    {
     "data": {
      "text/plain": [
       "3"
      ]
     },
     "execution_count": 49,
     "metadata": {},
     "output_type": "execute_result"
    }
   ],
   "source": [
    "params_dict = {'n_neighbors':np.arange(3,6),\n",
    "               'weights': ['distance'],\n",
    "               'algorithm': ['ball_tree']\n",
    "              }\n",
    "\n",
    "\n",
    "combinacion_total=1\n",
    "for k, v in params_dict.items():\n",
    "    combinacion_total *=len(v)\n",
    "combinacion_total"
   ]
  },
  {
   "cell_type": "code",
   "execution_count": 50,
   "id": "cc5fb0a1",
   "metadata": {},
   "outputs": [
    {
     "name": "stdout",
     "output_type": "stream",
     "text": [
      "Fitting 10 folds for each of 3 candidates, totalling 30 fits\n"
     ]
    },
    {
     "data": {
      "text/plain": [
       "GridSearchCV(cv=10, estimator=KNeighborsClassifier(), n_jobs=-1,\n",
       "             param_grid={'algorithm': ['ball_tree'],\n",
       "                         'n_neighbors': array([3, 4, 5]),\n",
       "                         'weights': ['distance']},\n",
       "             scoring='f1_macro', verbose=2)"
      ]
     },
     "execution_count": 50,
     "metadata": {},
     "output_type": "execute_result"
    }
   ],
   "source": [
    "#GridSearch:\n",
    "model = KNeighborsClassifier()\n",
    "grid_cv = GridSearchCV(estimator = model, \n",
    "                       param_grid = params_dict, \n",
    "                       scoring='f1_macro',\n",
    "                       cv = 10,\n",
    "                       verbose=2, \n",
    "                       n_jobs = -1\n",
    "                       )\n",
    "grid_cv.fit(X_train, y_train)"
   ]
  },
  {
   "cell_type": "code",
   "execution_count": 51,
   "id": "3698c0ab",
   "metadata": {},
   "outputs": [
    {
     "data": {
      "text/plain": [
       "({'algorithm': 'ball_tree', 'n_neighbors': 3, 'weights': 'distance'},\n",
       " 0.8266049247618212)"
      ]
     },
     "execution_count": 51,
     "metadata": {},
     "output_type": "execute_result"
    }
   ],
   "source": [
    "grid_cv.best_params_, grid_cv.best_score_"
   ]
  },
  {
   "cell_type": "code",
   "execution_count": 52,
   "id": "86158a57",
   "metadata": {},
   "outputs": [
    {
     "data": {
      "text/plain": [
       "KNeighborsClassifier(algorithm='ball_tree', n_neighbors=3, weights='distance')"
      ]
     },
     "execution_count": 52,
     "metadata": {},
     "output_type": "execute_result"
    }
   ],
   "source": [
    "kn_model = KNeighborsClassifier(**grid_cv.best_params_)\n",
    "kn_model.fit(X_train, y_train)"
   ]
  },
  {
   "cell_type": "code",
   "execution_count": 53,
   "id": "cf79f174",
   "metadata": {},
   "outputs": [
    {
     "data": {
      "text/plain": [
       "0.8223306168469412"
      ]
     },
     "execution_count": 53,
     "metadata": {},
     "output_type": "execute_result"
    }
   ],
   "source": [
    "y_hat_kn = kn_model.predict(X_test)\n",
    "f1_kn = f1_score(y_test, y_hat_kn, average='macro')\n",
    "f1_kn"
   ]
  },
  {
   "cell_type": "code",
   "execution_count": 54,
   "id": "6e4a358b",
   "metadata": {},
   "outputs": [
    {
     "name": "stdout",
     "output_type": "stream",
     "text": [
      "                     precision    recall  f1-score   support\n",
      "\n",
      "Insufficient_Weight       0.80      0.89      0.84        54\n",
      "      Normal_Weight       0.61      0.52      0.56        58\n",
      " Overweight_Level_I       0.79      0.76      0.77        58\n",
      "Overweight_Level_II       0.76      0.83      0.79        58\n",
      "     Obesity_Type_I       0.88      0.84      0.86        70\n",
      "    Obesity_Type_II       0.90      0.95      0.93        60\n",
      "   Obesity_Type_III       1.00      1.00      1.00        65\n",
      "\n",
      "           accuracy                           0.83       423\n",
      "          macro avg       0.82      0.83      0.82       423\n",
      "       weighted avg       0.83      0.83      0.83       423\n",
      "\n"
     ]
    },
    {
     "data": {
      "image/png": "[encoded data removed]",
      "text/plain": [
       "<Figure size 504x360 with 2 Axes>"
      ]
     },
     "metadata": {},
     "output_type": "display_data"
    }
   ],
   "source": [
    "GraficaCM(y_test, y_hat_kn, class_dict)"
   ]
  },
  {
   "cell_type": "markdown",
   "id": "0fce6c1d",
   "metadata": {},
   "source": [
    "## RandomForest"
   ]
  },
  {
   "cell_type": "code",
   "execution_count": 55,
   "id": "1b175831",
   "metadata": {},
   "outputs": [
    {
     "data": {
      "text/plain": [
       "5200"
      ]
     },
     "execution_count": 55,
     "metadata": {},
     "output_type": "execute_result"
    }
   ],
   "source": [
    "from sklearn.ensemble import RandomForestClassifier\n",
    "\n",
    "params_dict = {'n_estimators':np.arange(25,1001,25),\n",
    "            'max_depth': np.arange(3,16),\n",
    "            'max_features': ['sqrt', 0.2, .3, .4, .5, \n",
    "                             .6, .7, .8, .9, 1],\n",
    "            'class_weight':['balanced']\n",
    "            }\n",
    "\n",
    "model = RandomForestClassifier()\n",
    "\n",
    "\n",
    "combinacion_total=1\n",
    "for k, v in params_dict.items():\n",
    "    combinacion_total *=len(v)\n",
    "combinacion_total"
   ]
  },
  {
   "cell_type": "code",
   "execution_count": 56,
   "id": "44edc775",
   "metadata": {},
   "outputs": [
    {
     "data": {
      "text/plain": [
       "{'n_estimators': 125,\n",
       " 'max_features': 0.7,\n",
       " 'max_depth': 11,\n",
       " 'class_weight': 'balanced'}"
      ]
     },
     "execution_count": 56,
     "metadata": {},
     "output_type": "execute_result"
    }
   ],
   "source": [
    "#Random search:\n",
    "random_cv = RandomizedSearchCV(model, \n",
    "                               params_dict, \n",
    "                               scoring='f1_macro', \n",
    "                               cv=10, \n",
    "                               n_iter=10,\n",
    "                               n_jobs=-1,\n",
    "                               random_state=42)\n",
    "random_cv.fit(X_train, y_train)\n",
    "random_cv.best_params_"
   ]
  },
  {
   "cell_type": "code",
   "execution_count": 57,
   "id": "9c65af70",
   "metadata": {},
   "outputs": [
    {
     "data": {
      "text/plain": [
       "1.0"
      ]
     },
     "execution_count": 57,
     "metadata": {},
     "output_type": "execute_result"
    }
   ],
   "source": [
    "best_random = random_cv.best_estimator_\n",
    "best_random.score(X_train, y_train)"
   ]
  },
  {
   "cell_type": "code",
   "execution_count": 58,
   "id": "bda8c50f",
   "metadata": {},
   "outputs": [
    {
     "data": {
      "text/plain": [
       "30"
      ]
     },
     "execution_count": 58,
     "metadata": {},
     "output_type": "execute_result"
    }
   ],
   "source": [
    "params_dict = {'n_estimators':np.arange(100,150,5),\n",
    "            'max_depth': np.arange(10,13),\n",
    "            'max_features': np.arange(0.65,.75,.1),\n",
    "            'class_weight':['balanced']\n",
    "            }\n",
    "\n",
    "\n",
    "combinacion_total=1\n",
    "for k, v in params_dict.items():\n",
    "    combinacion_total *=len(v)\n",
    "combinacion_total"
   ]
  },
  {
   "cell_type": "code",
   "execution_count": 59,
   "id": "40d18adf",
   "metadata": {},
   "outputs": [
    {
     "name": "stdout",
     "output_type": "stream",
     "text": [
      "Fitting 10 folds for each of 30 candidates, totalling 300 fits\n"
     ]
    },
    {
     "data": {
      "text/plain": [
       "GridSearchCV(cv=10, estimator=RandomForestClassifier(), n_jobs=-1,\n",
       "             param_grid={'class_weight': ['balanced'],\n",
       "                         'max_depth': array([10, 11, 12]),\n",
       "                         'max_features': array([0.65]),\n",
       "                         'n_estimators': array([100, 105, 110, 115, 120, 125, 130, 135, 140, 145])},\n",
       "             scoring='f1_macro', verbose=2)"
      ]
     },
     "execution_count": 59,
     "metadata": {},
     "output_type": "execute_result"
    }
   ],
   "source": [
    "#GridSearch:\n",
    "model = RandomForestClassifier()\n",
    "grid_cv = GridSearchCV(estimator = model, \n",
    "                       param_grid = params_dict, \n",
    "                       scoring='f1_macro',\n",
    "                       cv = 10,\n",
    "                       verbose=2, \n",
    "                       n_jobs = -1\n",
    "                       )\n",
    "grid_cv.fit(X_train, y_train)"
   ]
  },
  {
   "cell_type": "code",
   "execution_count": 60,
   "id": "6cf73465",
   "metadata": {},
   "outputs": [
    {
     "data": {
      "text/plain": [
       "({'class_weight': 'balanced',\n",
       "  'max_depth': 12,\n",
       "  'max_features': 0.65,\n",
       "  'n_estimators': 130},\n",
       " 0.9676793184746305)"
      ]
     },
     "execution_count": 60,
     "metadata": {},
     "output_type": "execute_result"
    }
   ],
   "source": [
    "grid_cv.best_params_, grid_cv.best_score_"
   ]
  },
  {
   "cell_type": "code",
   "execution_count": 61,
   "id": "8e6e6651",
   "metadata": {},
   "outputs": [
    {
     "data": {
      "text/plain": [
       "RandomForestClassifier(class_weight='balanced', max_depth=12, max_features=0.65,\n",
       "                       n_estimators=130, oob_score=True)"
      ]
     },
     "execution_count": 61,
     "metadata": {},
     "output_type": "execute_result"
    }
   ],
   "source": [
    "rf_model = RandomForestClassifier(**grid_cv.best_params_, oob_score=True)\n",
    "rf_model.fit(X_train, y_train)"
   ]
  },
  {
   "cell_type": "code",
   "execution_count": 62,
   "id": "f38e5de3",
   "metadata": {},
   "outputs": [
    {
     "data": {
      "text/plain": [
       "0.9593290493964873"
      ]
     },
     "execution_count": 62,
     "metadata": {},
     "output_type": "execute_result"
    }
   ],
   "source": [
    "y_hat_rf = rf_model.predict(X_test)\n",
    "f1_rf = f1_score(y_test, y_hat_rf, average='macro')\n",
    "f1_rf"
   ]
  },
  {
   "cell_type": "code",
   "execution_count": 63,
   "id": "d383112b",
   "metadata": {},
   "outputs": [
    {
     "name": "stdout",
     "output_type": "stream",
     "text": [
      "                     precision    recall  f1-score   support\n",
      "\n",
      "Insufficient_Weight       0.98      1.00      0.99        54\n",
      "      Normal_Weight       0.95      0.91      0.93        58\n",
      " Overweight_Level_I       0.87      0.95      0.91        58\n",
      "Overweight_Level_II       0.95      0.93      0.94        58\n",
      "     Obesity_Type_I       0.99      0.96      0.97        70\n",
      "    Obesity_Type_II       1.00      0.97      0.98        60\n",
      "   Obesity_Type_III       0.98      1.00      0.99        65\n",
      "\n",
      "           accuracy                           0.96       423\n",
      "          macro avg       0.96      0.96      0.96       423\n",
      "       weighted avg       0.96      0.96      0.96       423\n",
      "\n"
     ]
    },
    {
     "data": {
      "image/png": "[encoded data removed]",
      "text/plain": [
       "<Figure size 504x360 with 2 Axes>"
      ]
     },
     "metadata": {},
     "output_type": "display_data"
    }
   ],
   "source": [
    "GraficaCM(y_test, y_hat_rf, class_dict)"
   ]
  },
  {
   "cell_type": "markdown",
   "id": "fb48f310",
   "metadata": {},
   "source": [
    "## XGBoosting"
   ]
  },
  {
   "cell_type": "code",
   "execution_count": 65,
   "id": "9d8c1a3a",
   "metadata": {},
   "outputs": [
    {
     "data": {
      "text/plain": [
       "5200"
      ]
     },
     "execution_count": 65,
     "metadata": {},
     "output_type": "execute_result"
    }
   ],
   "source": [
    "from xgboost import XGBClassifier\n",
    "\n",
    "\n",
    "params_dict = {'n_estimators':np.arange(25,1001,25),\n",
    "            'max_depth': np.arange(3,16),\n",
    "            'colsample_bytree': np.arange(0.1,1.1,.1)\n",
    "            }\n",
    "\n",
    "\n",
    "model = XGBClassifier()\n",
    "\n",
    "\n",
    "combinacion_total=1\n",
    "for k, v in params_dict.items():\n",
    "    combinacion_total *=len(v)\n",
    "combinacion_total"
   ]
  },
  {
   "cell_type": "code",
   "execution_count": 66,
   "id": "6403ff1d",
   "metadata": {},
   "outputs": [
    {
     "name": "stdout",
     "output_type": "stream",
     "text": [
      "[02:58:14] WARNING: D:\\bld\\xgboost-split_1637426510059\\work\\src\\learner.cc:1115: Starting in XGBoost 1.3.0, the default evaluation metric used with the objective 'multi:softprob' was changed from 'merror' to 'mlogloss'. Explicitly set eval_metric if you'd like to restore the old behavior.\n"
     ]
    },
    {
     "data": {
      "text/plain": [
       "{'n_estimators': 300, 'max_depth': 4, 'colsample_bytree': 0.7000000000000001}"
      ]
     },
     "execution_count": 66,
     "metadata": {},
     "output_type": "execute_result"
    }
   ],
   "source": [
    "#Random search:\n",
    "random_cv = RandomizedSearchCV(model, \n",
    "                               params_dict, \n",
    "                               scoring='f1_macro', \n",
    "                               cv=10, \n",
    "                               n_iter=10,\n",
    "                               n_jobs=-1,\n",
    "                               random_state=42)\n",
    "random_cv.fit(X_train, y_train)\n",
    "random_cv.best_params_"
   ]
  },
  {
   "cell_type": "code",
   "execution_count": 67,
   "id": "5677148c",
   "metadata": {},
   "outputs": [
    {
     "data": {
      "text/plain": [
       "1.0"
      ]
     },
     "execution_count": 67,
     "metadata": {},
     "output_type": "execute_result"
    }
   ],
   "source": [
    "best_random = random_cv.best_estimator_\n",
    "best_random.score(X_train, y_train)"
   ]
  },
  {
   "cell_type": "code",
   "execution_count": 69,
   "id": "57a0a314",
   "metadata": {},
   "outputs": [
    {
     "data": {
      "text/plain": [
       "66"
      ]
     },
     "execution_count": 69,
     "metadata": {},
     "output_type": "execute_result"
    }
   ],
   "source": [
    "params_dict = {'n_estimators':np.arange(250,351,10),\n",
    "            'max_depth': np.arange(3,5),\n",
    "            'colsample_bytree': np.arange(0.65,0.76,.05)\n",
    "            }\n",
    "\n",
    "combinacion_total=1\n",
    "for k, v in params_dict.items():\n",
    "    combinacion_total *=len(v)\n",
    "combinacion_total"
   ]
  },
  {
   "cell_type": "code",
   "execution_count": 70,
   "id": "0ac6d66e",
   "metadata": {},
   "outputs": [
    {
     "name": "stdout",
     "output_type": "stream",
     "text": [
      "Fitting 10 folds for each of 66 candidates, totalling 660 fits\n",
      "[03:02:31] WARNING: D:\\bld\\xgboost-split_1637426510059\\work\\src\\learner.cc:1115: Starting in XGBoost 1.3.0, the default evaluation metric used with the objective 'multi:softprob' was changed from 'merror' to 'mlogloss'. Explicitly set eval_metric if you'd like to restore the old behavior.\n"
     ]
    },
    {
     "data": {
      "text/plain": [
       "GridSearchCV(cv=10,\n",
       "             estimator=XGBClassifier(base_score=None, booster=None,\n",
       "                                     colsample_bylevel=None,\n",
       "                                     colsample_bynode=None,\n",
       "                                     colsample_bytree=None,\n",
       "                                     enable_categorical=False, gamma=None,\n",
       "                                     gpu_id=None, importance_type=None,\n",
       "                                     interaction_constraints=None,\n",
       "                                     learning_rate=None, max_delta_step=None,\n",
       "                                     max_depth=None, min_child_weight=None,\n",
       "                                     missing=nan, monotone_constraints=None...\n",
       "                                     num_parallel_tree=None, predictor=None,\n",
       "                                     random_state=None, reg_alpha=None,\n",
       "                                     reg_lambda=None, scale_pos_weight=None,\n",
       "                                     subsample=None, tree_method=None,\n",
       "                                     validate_parameters=None, verbosity=None),\n",
       "             n_jobs=-1,\n",
       "             param_grid={'colsample_bytree': array([0.65, 0.7 , 0.75]),\n",
       "                         'max_depth': array([3, 4]),\n",
       "                         'n_estimators': array([250, 260, 270, 280, 290, 300, 310, 320, 330, 340, 350])},\n",
       "             scoring='f1_macro', verbose=2)"
      ]
     },
     "execution_count": 70,
     "metadata": {},
     "output_type": "execute_result"
    }
   ],
   "source": [
    "#GridSearch:\n",
    "model = XGBClassifier()\n",
    "grid_cv = GridSearchCV(estimator = model, \n",
    "                       param_grid = params_dict, \n",
    "                       scoring='f1_macro',\n",
    "                       cv = 10,\n",
    "                       verbose=2, \n",
    "                       n_jobs = -1\n",
    "                       )\n",
    "grid_cv.fit(X_train, y_train)"
   ]
  },
  {
   "cell_type": "code",
   "execution_count": 71,
   "id": "ad36986f",
   "metadata": {},
   "outputs": [
    {
     "data": {
      "text/plain": [
       "({'colsample_bytree': 0.7000000000000001, 'max_depth': 4, 'n_estimators': 260},\n",
       " 0.9689902007591007)"
      ]
     },
     "execution_count": 71,
     "metadata": {},
     "output_type": "execute_result"
    }
   ],
   "source": [
    "grid_cv.best_params_, grid_cv.best_score_"
   ]
  },
  {
   "cell_type": "code",
   "execution_count": 72,
   "id": "90169f72",
   "metadata": {},
   "outputs": [
    {
     "name": "stdout",
     "output_type": "stream",
     "text": [
      "[03:02:40] WARNING: D:\\bld\\xgboost-split_1637426510059\\work\\src\\learner.cc:1115: Starting in XGBoost 1.3.0, the default evaluation metric used with the objective 'multi:softprob' was changed from 'merror' to 'mlogloss'. Explicitly set eval_metric if you'd like to restore the old behavior.\n"
     ]
    },
    {
     "data": {
      "text/plain": [
       "XGBClassifier(base_score=0.5, booster='gbtree', colsample_bylevel=1,\n",
       "              colsample_bynode=1, colsample_bytree=0.7000000000000001,\n",
       "              enable_categorical=False, gamma=0, gpu_id=-1,\n",
       "              importance_type=None, interaction_constraints='',\n",
       "              learning_rate=0.300000012, max_delta_step=0, max_depth=4,\n",
       "              min_child_weight=1, missing=nan, monotone_constraints='()',\n",
       "              n_estimators=260, n_jobs=12, num_parallel_tree=1,\n",
       "              objective='multi:softprob', predictor='auto', random_state=0,\n",
       "              reg_alpha=0, reg_lambda=1, scale_pos_weight=None, subsample=1,\n",
       "              tree_method='exact', validate_parameters=1, verbosity=None)"
      ]
     },
     "execution_count": 72,
     "metadata": {},
     "output_type": "execute_result"
    }
   ],
   "source": [
    "xgb_model = XGBClassifier(**grid_cv.best_params_)\n",
    "xgb_model.fit(X_train, y_train)"
   ]
  },
  {
   "cell_type": "code",
   "execution_count": 73,
   "id": "de116ec7",
   "metadata": {},
   "outputs": [
    {
     "data": {
      "text/plain": [
       "0.9680291518570233"
      ]
     },
     "execution_count": 73,
     "metadata": {},
     "output_type": "execute_result"
    }
   ],
   "source": [
    "y_hat_xgb = xgb_model.predict(X_test)\n",
    "f1_xgb = f1_score(y_test, y_hat_xgb, average='macro')\n",
    "f1_xgb"
   ]
  },
  {
   "cell_type": "code",
   "execution_count": 74,
   "id": "0c50c91b",
   "metadata": {},
   "outputs": [
    {
     "name": "stdout",
     "output_type": "stream",
     "text": [
      "                     precision    recall  f1-score   support\n",
      "\n",
      "Insufficient_Weight       0.95      1.00      0.97        54\n",
      "      Normal_Weight       0.93      0.90      0.91        58\n",
      " Overweight_Level_I       0.93      0.97      0.95        58\n",
      "Overweight_Level_II       1.00      0.93      0.96        58\n",
      "     Obesity_Type_I       0.97      1.00      0.99        70\n",
      "    Obesity_Type_II       1.00      0.98      0.99        60\n",
      "   Obesity_Type_III       1.00      1.00      1.00        65\n",
      "\n",
      "           accuracy                           0.97       423\n",
      "          macro avg       0.97      0.97      0.97       423\n",
      "       weighted avg       0.97      0.97      0.97       423\n",
      "\n"
     ]
    },
    {
     "data": {
      "image/png": "[encoded data removed]",
      "text/plain": [
       "<Figure size 504x360 with 2 Axes>"
      ]
     },
     "metadata": {},
     "output_type": "display_data"
    }
   ],
   "source": [
    "GraficaCM(y_test, y_hat_xgb, class_dict)"
   ]
  },
  {
   "cell_type": "markdown",
   "id": "450fcad1",
   "metadata": {},
   "source": [
    "## Resultados"
   ]
  },
  {
   "cell_type": "code",
   "execution_count": 75,
   "id": "d3f61fc5",
   "metadata": {},
   "outputs": [],
   "source": [
    "#Valores estimados:\n",
    "y_hat_log = lgr_model.predict(X_test)\n",
    "y_hat_rf = rf_model.predict(X_test)\n",
    "y_hat_svm = svm_model.predict(X_test)\n",
    "y_hat_kn = kn_model.predict(X_test)\n",
    "y_hat_dt = dt_model.predict(X_test)\n",
    "y_hat_xgb = xgb_model.predict(X_test)"
   ]
  },
  {
   "cell_type": "code",
   "execution_count": 76,
   "id": "53ff4c82",
   "metadata": {},
   "outputs": [],
   "source": [
    "from sklearn.metrics import precision_score, f1_score, recall_score\n",
    "\n",
    "#Precision:\n",
    "from sklearn.metrics import precision_score, f1_score, recall_score\n",
    "lg_pre = precision_score(y_test, y_hat_log, average='macro')\n",
    "rf_pre = precision_score(y_test, y_hat_rf, average='macro')\n",
    "svm_pre = precision_score(y_test, y_hat_svm, average='macro')\n",
    "dt_pre = precision_score(y_test, y_hat_dt, average='macro')\n",
    "kn_pre = precision_score(y_test, y_hat_kn, average='macro')\n",
    "xgb_pre = precision_score(y_test, y_hat_xgb, average='macro')\n",
    "\n",
    "#F1:\n",
    "lg_f1 = f1_score(y_test, y_hat_log, average='macro')\n",
    "rf_f1 = f1_score(y_test, y_hat_rf, average='macro')\n",
    "svm_f1 = f1_score(y_test, y_hat_svm, average='macro')\n",
    "dt_f1 = f1_score(y_test, y_hat_dt, average='macro')\n",
    "kn_f1 = f1_score(y_test, y_hat_kn, average='macro')\n",
    "xgb_f1 = f1_score(y_test, y_hat_xgb, average='macro')\n",
    "\n",
    "#Sensibilidad:\n",
    "lg_re = recall_score(y_test, y_hat_log, average='macro')\n",
    "rf_re = recall_score(y_test, y_hat_rf, average='macro')\n",
    "svm_re = recall_score(y_test, y_hat_svm, average='macro')\n",
    "dt_re = recall_score(y_test, y_hat_dt, average='macro')\n",
    "kn_re = recall_score(y_test, y_hat_kn, average='macro')\n",
    "xgb_re = recall_score(y_test, y_hat_xgb, average='macro')\n",
    "\n",
    "#accuracy:\n",
    "lg_ac = accuracy_score(y_test, y_hat_log)\n",
    "rf_ac = accuracy_score(y_test, y_hat_rf)\n",
    "svm_ac = accuracy_score(y_test, y_hat_svm)\n",
    "dt_ac = accuracy_score(y_test, y_hat_dt)\n",
    "kn_ac = accuracy_score(y_test, y_hat_kn)\n",
    "xgb_ac = accuracy_score(y_test, y_hat_xgb)"
   ]
  },
  {
   "cell_type": "code",
   "execution_count": 77,
   "id": "942bfcd9",
   "metadata": {},
   "outputs": [
    {
     "data": {
      "text/html": [
       "<div>\n",
       "<style scoped>\n",
       "    .dataframe tbody tr th:only-of-type {\n",
       "        vertical-align: middle;\n",
       "    }\n",
       "\n",
       "    .dataframe tbody tr th {\n",
       "        vertical-align: top;\n",
       "    }\n",
       "\n",
       "    .dataframe thead th {\n",
       "        text-align: right;\n",
       "    }\n",
       "</style>\n",
       "<table border=\"1\" class=\"dataframe\">\n",
       "  <thead>\n",
       "    <tr style=\"text-align: right;\">\n",
       "      <th></th>\n",
       "      <th>Modelo</th>\n",
       "      <th>Precision</th>\n",
       "      <th>Recall</th>\n",
       "      <th>f1_score</th>\n",
       "      <th>accuracy</th>\n",
       "    </tr>\n",
       "  </thead>\n",
       "  <tbody>\n",
       "    <tr>\n",
       "      <th>0</th>\n",
       "      <td>RandomForest</td>\n",
       "      <td>0.959825</td>\n",
       "      <td>0.959559</td>\n",
       "      <td>0.959329</td>\n",
       "      <td>0.959811</td>\n",
       "    </tr>\n",
       "    <tr>\n",
       "      <th>1</th>\n",
       "      <td>LogisticRegression</td>\n",
       "      <td>0.947150</td>\n",
       "      <td>0.944781</td>\n",
       "      <td>0.944040</td>\n",
       "      <td>0.945626</td>\n",
       "    </tr>\n",
       "    <tr>\n",
       "      <th>2</th>\n",
       "      <td>SVM</td>\n",
       "      <td>0.955881</td>\n",
       "      <td>0.953788</td>\n",
       "      <td>0.953662</td>\n",
       "      <td>0.955083</td>\n",
       "    </tr>\n",
       "    <tr>\n",
       "      <th>3</th>\n",
       "      <td>DecisionTree</td>\n",
       "      <td>0.883565</td>\n",
       "      <td>0.883529</td>\n",
       "      <td>0.882575</td>\n",
       "      <td>0.884161</td>\n",
       "    </tr>\n",
       "    <tr>\n",
       "      <th>4</th>\n",
       "      <td>XGBClassifier</td>\n",
       "      <td>0.968785</td>\n",
       "      <td>0.968062</td>\n",
       "      <td>0.968029</td>\n",
       "      <td>0.969267</td>\n",
       "    </tr>\n",
       "    <tr>\n",
       "      <th>5</th>\n",
       "      <td>KNeighbors</td>\n",
       "      <td>0.820746</td>\n",
       "      <td>0.826456</td>\n",
       "      <td>0.822331</td>\n",
       "      <td>0.829787</td>\n",
       "    </tr>\n",
       "  </tbody>\n",
       "</table>\n",
       "</div>"
      ],
      "text/plain": [
       "               Modelo  Precision    Recall  f1_score  accuracy\n",
       "0        RandomForest   0.959825  0.959559  0.959329  0.959811\n",
       "1  LogisticRegression   0.947150  0.944781  0.944040  0.945626\n",
       "2                 SVM   0.955881  0.953788  0.953662  0.955083\n",
       "3        DecisionTree   0.883565  0.883529  0.882575  0.884161\n",
       "4       XGBClassifier   0.968785  0.968062  0.968029  0.969267\n",
       "5          KNeighbors   0.820746  0.826456  0.822331  0.829787"
      ]
     },
     "execution_count": 77,
     "metadata": {},
     "output_type": "execute_result"
    }
   ],
   "source": [
    "df_results = pd.DataFrame({'Modelo': ['RandomForest', 'LogisticRegression', 'SVM', 'DecisionTree', \n",
    "                                     'XGBClassifier', 'KNeighbors'],\n",
    "                          'Precision': [rf_pre, lg_pre, svm_pre,\n",
    "                                           dt_pre, xgb_pre, kn_pre],\n",
    "                          'Recall': [rf_re, lg_re, svm_re,\n",
    "                                           dt_re, xgb_re, kn_re],\n",
    "                          'f1_score': [rf_f1, lg_f1, svm_f1,\n",
    "                                           dt_f1, xgb_f1, kn_f1],\n",
    "                          'accuracy': [rf_ac, lg_ac, svm_ac,\n",
    "                                           dt_ac, xgb_ac, kn_ac]})\n",
    "df_results"
   ]
  },
  {
   "cell_type": "code",
   "execution_count": 78,
   "id": "a473fd37",
   "metadata": {},
   "outputs": [
    {
     "data": {
      "text/html": [
       "<div>\n",
       "<style scoped>\n",
       "    .dataframe tbody tr th:only-of-type {\n",
       "        vertical-align: middle;\n",
       "    }\n",
       "\n",
       "    .dataframe tbody tr th {\n",
       "        vertical-align: top;\n",
       "    }\n",
       "\n",
       "    .dataframe thead th {\n",
       "        text-align: right;\n",
       "    }\n",
       "</style>\n",
       "<table border=\"1\" class=\"dataframe\">\n",
       "  <thead>\n",
       "    <tr style=\"text-align: right;\">\n",
       "      <th></th>\n",
       "      <th>Modelo</th>\n",
       "      <th>Precision</th>\n",
       "      <th>Recall</th>\n",
       "      <th>f1_score</th>\n",
       "      <th>accuracy</th>\n",
       "    </tr>\n",
       "  </thead>\n",
       "  <tbody>\n",
       "    <tr>\n",
       "      <th>0</th>\n",
       "      <td>XGBClassifier</td>\n",
       "      <td>0.968785</td>\n",
       "      <td>0.968062</td>\n",
       "      <td>0.968029</td>\n",
       "      <td>0.969267</td>\n",
       "    </tr>\n",
       "    <tr>\n",
       "      <th>1</th>\n",
       "      <td>RandomForest</td>\n",
       "      <td>0.959825</td>\n",
       "      <td>0.959559</td>\n",
       "      <td>0.959329</td>\n",
       "      <td>0.959811</td>\n",
       "    </tr>\n",
       "    <tr>\n",
       "      <th>2</th>\n",
       "      <td>SVM</td>\n",
       "      <td>0.955881</td>\n",
       "      <td>0.953788</td>\n",
       "      <td>0.953662</td>\n",
       "      <td>0.955083</td>\n",
       "    </tr>\n",
       "    <tr>\n",
       "      <th>3</th>\n",
       "      <td>LogisticRegression</td>\n",
       "      <td>0.947150</td>\n",
       "      <td>0.944781</td>\n",
       "      <td>0.944040</td>\n",
       "      <td>0.945626</td>\n",
       "    </tr>\n",
       "    <tr>\n",
       "      <th>4</th>\n",
       "      <td>DecisionTree</td>\n",
       "      <td>0.883565</td>\n",
       "      <td>0.883529</td>\n",
       "      <td>0.882575</td>\n",
       "      <td>0.884161</td>\n",
       "    </tr>\n",
       "    <tr>\n",
       "      <th>5</th>\n",
       "      <td>KNeighbors</td>\n",
       "      <td>0.820746</td>\n",
       "      <td>0.826456</td>\n",
       "      <td>0.822331</td>\n",
       "      <td>0.829787</td>\n",
       "    </tr>\n",
       "  </tbody>\n",
       "</table>\n",
       "</div>"
      ],
      "text/plain": [
       "               Modelo  Precision    Recall  f1_score  accuracy\n",
       "0       XGBClassifier   0.968785  0.968062  0.968029  0.969267\n",
       "1        RandomForest   0.959825  0.959559  0.959329  0.959811\n",
       "2                 SVM   0.955881  0.953788  0.953662  0.955083\n",
       "3  LogisticRegression   0.947150  0.944781  0.944040  0.945626\n",
       "4        DecisionTree   0.883565  0.883529  0.882575  0.884161\n",
       "5          KNeighbors   0.820746  0.826456  0.822331  0.829787"
      ]
     },
     "execution_count": 78,
     "metadata": {},
     "output_type": "execute_result"
    }
   ],
   "source": [
    "df_results.sort_values(['f1_score', 'Recall'], ascending=False, ignore_index=True)"
   ]
  },
  {
   "cell_type": "markdown",
   "id": "c7e0c6b3",
   "metadata": {},
   "source": [
    "Se **eliminaron** las siguientes variables: **\"FAVC\", \"CAEC\", \"TUE\", \"FCVC\"**"
   ]
  },
  {
   "cell_type": "markdown",
   "id": "903646a6",
   "metadata": {},
   "source": [
    "## Voting"
   ]
  },
  {
   "cell_type": "code",
   "execution_count": 81,
   "id": "dcd05653",
   "metadata": {},
   "outputs": [],
   "source": [
    "from copy import copy"
   ]
  },
  {
   "cell_type": "code",
   "execution_count": 108,
   "id": "539d6637",
   "metadata": {
    "scrolled": true
   },
   "outputs": [
    {
     "name": "stdout",
     "output_type": "stream",
     "text": [
      "[03:26:52] WARNING: D:\\bld\\xgboost-split_1637426510059\\work\\src\\learner.cc:1115: Starting in XGBoost 1.3.0, the default evaluation metric used with the objective 'multi:softprob' was changed from 'merror' to 'mlogloss'. Explicitly set eval_metric if you'd like to restore the old behavior.\n"
     ]
    },
    {
     "data": {
      "text/plain": [
       "VotingClassifier(estimators=[('lr',\n",
       "                              LogisticRegression(C=92, class_weight='balanced',\n",
       "                                                 multi_class='multinomial',\n",
       "                                                 random_state=42,\n",
       "                                                 solver='newton-cg')),\n",
       "                             ('xGB',\n",
       "                              XGBClassifier(base_score=0.5, booster='gbtree',\n",
       "                                            colsample_bylevel=1,\n",
       "                                            colsample_bynode=1,\n",
       "                                            colsample_bytree=0.7000000000000001,\n",
       "                                            enable_categorical=False, gamma=0,\n",
       "                                            gpu_id=-1, importance_type=None,\n",
       "                                            interaction_...\n",
       "                                                     max_features=0.65,\n",
       "                                                     n_estimators=130,\n",
       "                                                     oob_score=True)),\n",
       "                             ('SVM',\n",
       "                              SVC(C=70.0, class_weight='balanced',\n",
       "                                  kernel='linear', probability=True)),\n",
       "                             ('kn',\n",
       "                              KNeighborsClassifier(algorithm='ball_tree',\n",
       "                                                   n_neighbors=3,\n",
       "                                                   weights='distance')),\n",
       "                             ('dt',\n",
       "                              DecisionTreeClassifier(class_weight='balanced',\n",
       "                                                     max_depth=10,\n",
       "                                                     max_features=0.9,\n",
       "                                                     min_samples_split=21))],\n",
       "                 weights=[1, 2, 1.5, 1.3, 0.9, 0.9])"
      ]
     },
     "execution_count": 108,
     "metadata": {},
     "output_type": "execute_result"
    }
   ],
   "source": [
    "from sklearn.ensemble import VotingClassifier\n",
    "\n",
    "vt_model = VotingClassifier(estimators=[('lr', copy(lgr_model)),\n",
    "                                     ('xGB', copy(xgb_model)),\n",
    "                                     ('RF', copy(rf_model)),\n",
    "                                     ('SVM', copy(svm_model)),\n",
    "                                     ('kn', copy(kn_model)),\n",
    "                                     ('dt', copy(dt_model))\n",
    "                                    ],\n",
    "                           weights=[1,2,1.5,1.3,.9,.9],\n",
    "                         voting='hard')\n",
    "\n",
    "vt_model.fit(X_train, y_train)"
   ]
  },
  {
   "cell_type": "code",
   "execution_count": 109,
   "id": "583c31c4",
   "metadata": {},
   "outputs": [
    {
     "data": {
      "text/plain": [
       "0.9729776704403034"
      ]
     },
     "execution_count": 109,
     "metadata": {},
     "output_type": "execute_result"
    }
   ],
   "source": [
    "y_hat_voting = vt_model.predict(X_test)\n",
    "\n",
    "f1_score(y_test, y_hat_voting, average='macro')"
   ]
  },
  {
   "cell_type": "code",
   "execution_count": 113,
   "id": "428bfccf",
   "metadata": {},
   "outputs": [],
   "source": [
    "#with open('./Modelos/voting.model','wb') as f:\n",
    "#    pk.dump(vt_model,f)"
   ]
  },
  {
   "cell_type": "markdown",
   "id": "eb72ee1e",
   "metadata": {},
   "source": [
    "## Stacking"
   ]
  },
  {
   "cell_type": "code",
   "execution_count": 117,
   "id": "e18e0b92",
   "metadata": {
    "scrolled": true
   },
   "outputs": [
    {
     "name": "stdout",
     "output_type": "stream",
     "text": [
      "[03:49:14] WARNING: D:\\bld\\xgboost-split_1637426510059\\work\\src\\learner.cc:1115: Starting in XGBoost 1.3.0, the default evaluation metric used with the objective 'multi:softprob' was changed from 'merror' to 'mlogloss'. Explicitly set eval_metric if you'd like to restore the old behavior.\n",
      "[03:49:16] WARNING: D:\\bld\\xgboost-split_1637426510059\\work\\src\\learner.cc:1115: Starting in XGBoost 1.3.0, the default evaluation metric used with the objective 'multi:softprob' was changed from 'merror' to 'mlogloss'. Explicitly set eval_metric if you'd like to restore the old behavior.\n",
      "[03:49:17] WARNING: D:\\bld\\xgboost-split_1637426510059\\work\\src\\learner.cc:1115: Starting in XGBoost 1.3.0, the default evaluation metric used with the objective 'multi:softprob' was changed from 'merror' to 'mlogloss'. Explicitly set eval_metric if you'd like to restore the old behavior.\n",
      "[03:49:17] WARNING: D:\\bld\\xgboost-split_1637426510059\\work\\src\\learner.cc:1115: Starting in XGBoost 1.3.0, the default evaluation metric used with the objective 'multi:softprob' was changed from 'merror' to 'mlogloss'. Explicitly set eval_metric if you'd like to restore the old behavior.\n",
      "[03:49:18] WARNING: D:\\bld\\xgboost-split_1637426510059\\work\\src\\learner.cc:1115: Starting in XGBoost 1.3.0, the default evaluation metric used with the objective 'multi:softprob' was changed from 'merror' to 'mlogloss'. Explicitly set eval_metric if you'd like to restore the old behavior.\n",
      "[03:49:18] WARNING: D:\\bld\\xgboost-split_1637426510059\\work\\src\\learner.cc:1115: Starting in XGBoost 1.3.0, the default evaluation metric used with the objective 'multi:softprob' was changed from 'merror' to 'mlogloss'. Explicitly set eval_metric if you'd like to restore the old behavior.\n"
     ]
    },
    {
     "data": {
      "text/plain": [
       "StackingClassifier(estimators=[('lr',\n",
       "                                LogisticRegression(C=92,\n",
       "                                                   class_weight='balanced',\n",
       "                                                   multi_class='multinomial',\n",
       "                                                   random_state=42,\n",
       "                                                   solver='newton-cg')),\n",
       "                               ('xGB',\n",
       "                                XGBClassifier(base_score=0.5, booster='gbtree',\n",
       "                                              colsample_bylevel=1,\n",
       "                                              colsample_bynode=1,\n",
       "                                              colsample_bytree=0.7000000000000001,\n",
       "                                              enable_categorical=False, gamma=0,\n",
       "                                              gpu_id=-1, importance_type=None,\n",
       "                                              interactio...\n",
       "                                                       n_estimators=130,\n",
       "                                                       oob_score=True)),\n",
       "                               ('SVM',\n",
       "                                SVC(C=70.0, class_weight='balanced',\n",
       "                                    kernel='linear', probability=True)),\n",
       "                               ('kn',\n",
       "                                KNeighborsClassifier(algorithm='ball_tree',\n",
       "                                                     n_neighbors=3,\n",
       "                                                     weights='distance')),\n",
       "                               ('dt',\n",
       "                                DecisionTreeClassifier(class_weight='balanced',\n",
       "                                                       max_depth=10,\n",
       "                                                       max_features=0.9,\n",
       "                                                       min_samples_split=21))],\n",
       "                   final_estimator=LogisticRegression(multi_class='multinomial'))"
      ]
     },
     "execution_count": 117,
     "metadata": {},
     "output_type": "execute_result"
    }
   ],
   "source": [
    "from sklearn.ensemble import StackingClassifier\n",
    "\n",
    "st_model = StackingClassifier(estimators=[('lr', copy(lgr_model)),\n",
    "                                     ('xGB', copy(xgb_model)),\n",
    "                                     ('RF', copy(rf_model)),\n",
    "                                     ('SVM', copy(svm_model)),\n",
    "                                     ('kn', copy(kn_model)),\n",
    "                                     ('dt', copy(dt_model))\n",
    "                                    ],\n",
    "                              final_estimator= LogisticRegression(multi_class='multinomial')\n",
    "                             )\n",
    "\n",
    "st_model.fit(X_train, y_train)"
   ]
  },
  {
   "cell_type": "code",
   "execution_count": 120,
   "id": "461f0317",
   "metadata": {},
   "outputs": [
    {
     "data": {
      "text/plain": [
       "0.9758531891052957"
      ]
     },
     "execution_count": 120,
     "metadata": {},
     "output_type": "execute_result"
    }
   ],
   "source": [
    "y_hat_stack = st_model.predict(X_test)\n",
    "f1_score(y_test, y_hat_stack, average='macro')"
   ]
  },
  {
   "cell_type": "code",
   "execution_count": 124,
   "id": "78dd9659",
   "metadata": {},
   "outputs": [],
   "source": [
    "#with open('./Modelos/stacking.model','wb') as f:\n",
    "#    pk.dump(st_model,f)"
   ]
  },
  {
   "cell_type": "code",
   "execution_count": 121,
   "id": "32a8c2a6",
   "metadata": {},
   "outputs": [],
   "source": [
    "#precision:\n",
    "vt_pre = precision_score(y_test, y_hat_voting, average='macro')\n",
    "st_pre = precision_score(y_test, y_hat_stack, average='macro')\n",
    "\n",
    "#f1\n",
    "st_f1 = f1_score(y_test, y_hat_stack, average='macro')\n",
    "vt_f1 = f1_score(y_test, y_hat_voting, average='macro')\n",
    "#sensibilidad\n",
    "vt_re = recall_score(y_test, y_hat_voting, average='macro')\n",
    "st_re = recall_score(y_test, y_hat_stack, average='macro')\n",
    "\n",
    "#accuracy\n",
    "st_ac = accuracy_score(y_test, y_hat_stack)\n",
    "vt_ac = accuracy_score(y_test, y_hat_voting)"
   ]
  },
  {
   "cell_type": "code",
   "execution_count": 122,
   "id": "320a6a47",
   "metadata": {},
   "outputs": [
    {
     "data": {
      "text/html": [
       "<div>\n",
       "<style scoped>\n",
       "    .dataframe tbody tr th:only-of-type {\n",
       "        vertical-align: middle;\n",
       "    }\n",
       "\n",
       "    .dataframe tbody tr th {\n",
       "        vertical-align: top;\n",
       "    }\n",
       "\n",
       "    .dataframe thead th {\n",
       "        text-align: right;\n",
       "    }\n",
       "</style>\n",
       "<table border=\"1\" class=\"dataframe\">\n",
       "  <thead>\n",
       "    <tr style=\"text-align: right;\">\n",
       "      <th></th>\n",
       "      <th>Modelo</th>\n",
       "      <th>Precision</th>\n",
       "      <th>Recall</th>\n",
       "      <th>f1_score</th>\n",
       "      <th>accuracy</th>\n",
       "    </tr>\n",
       "  </thead>\n",
       "  <tbody>\n",
       "    <tr>\n",
       "      <th>0</th>\n",
       "      <td>RandomForest</td>\n",
       "      <td>0.959825</td>\n",
       "      <td>0.959559</td>\n",
       "      <td>0.959329</td>\n",
       "      <td>0.959811</td>\n",
       "    </tr>\n",
       "    <tr>\n",
       "      <th>1</th>\n",
       "      <td>LogisticRegression</td>\n",
       "      <td>0.947150</td>\n",
       "      <td>0.944781</td>\n",
       "      <td>0.944040</td>\n",
       "      <td>0.945626</td>\n",
       "    </tr>\n",
       "    <tr>\n",
       "      <th>2</th>\n",
       "      <td>SVM</td>\n",
       "      <td>0.955881</td>\n",
       "      <td>0.953788</td>\n",
       "      <td>0.953662</td>\n",
       "      <td>0.955083</td>\n",
       "    </tr>\n",
       "    <tr>\n",
       "      <th>3</th>\n",
       "      <td>DecisionTree</td>\n",
       "      <td>0.883565</td>\n",
       "      <td>0.883529</td>\n",
       "      <td>0.882575</td>\n",
       "      <td>0.884161</td>\n",
       "    </tr>\n",
       "    <tr>\n",
       "      <th>4</th>\n",
       "      <td>XGBClassifier</td>\n",
       "      <td>0.968785</td>\n",
       "      <td>0.968062</td>\n",
       "      <td>0.968029</td>\n",
       "      <td>0.969267</td>\n",
       "    </tr>\n",
       "    <tr>\n",
       "      <th>5</th>\n",
       "      <td>KNeighbors</td>\n",
       "      <td>0.820746</td>\n",
       "      <td>0.826456</td>\n",
       "      <td>0.822331</td>\n",
       "      <td>0.829787</td>\n",
       "    </tr>\n",
       "    <tr>\n",
       "      <th>6</th>\n",
       "      <td>VotingClassifier</td>\n",
       "      <td>0.973388</td>\n",
       "      <td>0.973071</td>\n",
       "      <td>0.972978</td>\n",
       "      <td>0.973995</td>\n",
       "    </tr>\n",
       "    <tr>\n",
       "      <th>7</th>\n",
       "      <td>StackingClassifier</td>\n",
       "      <td>0.977156</td>\n",
       "      <td>0.975534</td>\n",
       "      <td>0.975853</td>\n",
       "      <td>0.976359</td>\n",
       "    </tr>\n",
       "  </tbody>\n",
       "</table>\n",
       "</div>"
      ],
      "text/plain": [
       "               Modelo  Precision    Recall  f1_score  accuracy\n",
       "0        RandomForest   0.959825  0.959559  0.959329  0.959811\n",
       "1  LogisticRegression   0.947150  0.944781  0.944040  0.945626\n",
       "2                 SVM   0.955881  0.953788  0.953662  0.955083\n",
       "3        DecisionTree   0.883565  0.883529  0.882575  0.884161\n",
       "4       XGBClassifier   0.968785  0.968062  0.968029  0.969267\n",
       "5          KNeighbors   0.820746  0.826456  0.822331  0.829787\n",
       "6    VotingClassifier   0.973388  0.973071  0.972978  0.973995\n",
       "7  StackingClassifier   0.977156  0.975534  0.975853  0.976359"
      ]
     },
     "execution_count": 122,
     "metadata": {},
     "output_type": "execute_result"
    }
   ],
   "source": [
    "df_results = pd.DataFrame({'Modelo': ['RandomForest', 'LogisticRegression', 'SVM', 'DecisionTree', \n",
    "                                     'XGBClassifier', 'KNeighbors', 'VotingClassifier',\n",
    "                                     'StackingClassifier'],\n",
    "                          'Precision': [rf_pre, lg_pre, svm_pre,\n",
    "                                           dt_pre, xgb_pre, kn_pre, vt_pre, st_pre],\n",
    "                          'Recall': [rf_re, lg_re, svm_re,\n",
    "                                           dt_re, xgb_re, kn_re, vt_re, st_re],\n",
    "                          'f1_score': [rf_f1, lg_f1, svm_f1,\n",
    "                                           dt_f1, xgb_f1, kn_f1, vt_f1, st_f1],\n",
    "                          'accuracy': [rf_ac, lg_ac, svm_ac,\n",
    "                                           dt_ac, xgb_ac, kn_ac, vt_ac, st_ac]})\n",
    "df_results"
   ]
  },
  {
   "cell_type": "code",
   "execution_count": 123,
   "id": "f6cfa186",
   "metadata": {},
   "outputs": [
    {
     "data": {
      "text/html": [
       "<div>\n",
       "<style scoped>\n",
       "    .dataframe tbody tr th:only-of-type {\n",
       "        vertical-align: middle;\n",
       "    }\n",
       "\n",
       "    .dataframe tbody tr th {\n",
       "        vertical-align: top;\n",
       "    }\n",
       "\n",
       "    .dataframe thead th {\n",
       "        text-align: right;\n",
       "    }\n",
       "</style>\n",
       "<table border=\"1\" class=\"dataframe\">\n",
       "  <thead>\n",
       "    <tr style=\"text-align: right;\">\n",
       "      <th></th>\n",
       "      <th>Modelo</th>\n",
       "      <th>Precision</th>\n",
       "      <th>Recall</th>\n",
       "      <th>f1_score</th>\n",
       "      <th>accuracy</th>\n",
       "    </tr>\n",
       "  </thead>\n",
       "  <tbody>\n",
       "    <tr>\n",
       "      <th>0</th>\n",
       "      <td>StackingClassifier</td>\n",
       "      <td>0.977156</td>\n",
       "      <td>0.975534</td>\n",
       "      <td>0.975853</td>\n",
       "      <td>0.976359</td>\n",
       "    </tr>\n",
       "    <tr>\n",
       "      <th>1</th>\n",
       "      <td>VotingClassifier</td>\n",
       "      <td>0.973388</td>\n",
       "      <td>0.973071</td>\n",
       "      <td>0.972978</td>\n",
       "      <td>0.973995</td>\n",
       "    </tr>\n",
       "    <tr>\n",
       "      <th>2</th>\n",
       "      <td>XGBClassifier</td>\n",
       "      <td>0.968785</td>\n",
       "      <td>0.968062</td>\n",
       "      <td>0.968029</td>\n",
       "      <td>0.969267</td>\n",
       "    </tr>\n",
       "    <tr>\n",
       "      <th>3</th>\n",
       "      <td>RandomForest</td>\n",
       "      <td>0.959825</td>\n",
       "      <td>0.959559</td>\n",
       "      <td>0.959329</td>\n",
       "      <td>0.959811</td>\n",
       "    </tr>\n",
       "    <tr>\n",
       "      <th>4</th>\n",
       "      <td>SVM</td>\n",
       "      <td>0.955881</td>\n",
       "      <td>0.953788</td>\n",
       "      <td>0.953662</td>\n",
       "      <td>0.955083</td>\n",
       "    </tr>\n",
       "    <tr>\n",
       "      <th>5</th>\n",
       "      <td>LogisticRegression</td>\n",
       "      <td>0.947150</td>\n",
       "      <td>0.944781</td>\n",
       "      <td>0.944040</td>\n",
       "      <td>0.945626</td>\n",
       "    </tr>\n",
       "    <tr>\n",
       "      <th>6</th>\n",
       "      <td>DecisionTree</td>\n",
       "      <td>0.883565</td>\n",
       "      <td>0.883529</td>\n",
       "      <td>0.882575</td>\n",
       "      <td>0.884161</td>\n",
       "    </tr>\n",
       "    <tr>\n",
       "      <th>7</th>\n",
       "      <td>KNeighbors</td>\n",
       "      <td>0.820746</td>\n",
       "      <td>0.826456</td>\n",
       "      <td>0.822331</td>\n",
       "      <td>0.829787</td>\n",
       "    </tr>\n",
       "  </tbody>\n",
       "</table>\n",
       "</div>"
      ],
      "text/plain": [
       "               Modelo  Precision    Recall  f1_score  accuracy\n",
       "0  StackingClassifier   0.977156  0.975534  0.975853  0.976359\n",
       "1    VotingClassifier   0.973388  0.973071  0.972978  0.973995\n",
       "2       XGBClassifier   0.968785  0.968062  0.968029  0.969267\n",
       "3        RandomForest   0.959825  0.959559  0.959329  0.959811\n",
       "4                 SVM   0.955881  0.953788  0.953662  0.955083\n",
       "5  LogisticRegression   0.947150  0.944781  0.944040  0.945626\n",
       "6        DecisionTree   0.883565  0.883529  0.882575  0.884161\n",
       "7          KNeighbors   0.820746  0.826456  0.822331  0.829787"
      ]
     },
     "execution_count": 123,
     "metadata": {},
     "output_type": "execute_result"
    }
   ],
   "source": [
    "df_results.sort_values(['f1_score', 'Recall'], ascending=False, ignore_index=True)"
   ]
  },
  {
   "cell_type": "markdown",
   "id": "ecd273ae",
   "metadata": {},
   "source": [
    "## Feature importance:"
   ]
  },
  {
   "cell_type": "code",
   "execution_count": 82,
   "id": "9a08b3e4",
   "metadata": {},
   "outputs": [
    {
     "data": {
      "image/png": "[encoded data removed]",
      "text/plain": [
       "<Figure size 432x288 with 1 Axes>"
      ]
     },
     "metadata": {},
     "output_type": "display_data"
    }
   ],
   "source": [
    "#Implementation modified from https://github.com/parrt/random-forest-importances/blob/master/src/rfpimp.py#L284\n",
    "def custom_permutation_importance(random_forest, x, y):\n",
    "    baseline =  f1_score(y, random_forest.predict(x), average='macro')\n",
    "    x_copy = x.copy()\n",
    "    importances = []\n",
    "    for col in x_copy.columns:\n",
    "        save = x_copy[col].copy()\n",
    "        x_copy[col] = np.random.permutation(x_copy[col])\n",
    "        m = f1_score(y, random_forest.predict(x_copy), average='macro')\n",
    "        x_copy[col] = save\n",
    "        importances.append(baseline - m)\n",
    "    importances = np.array(importances)\n",
    "\n",
    "    I = pd.DataFrame(data={\"names\": x.columns, \"importances\": importances})\n",
    "    I = I.sort_values(\"importances\", ascending=True)\n",
    "\n",
    "    return I\n",
    "\n",
    "importances = custom_permutation_importance(rf_model, X_test, y_test)\n",
    "fig = plt.figure(figsize=(6, 4))\n",
    "plt.barh(importances.names,\n",
    "        importances.importances.values,\n",
    "        height=0.7)\n",
    "fig = fig.tight_layout()\n",
    "plt.show()"
   ]
  },
  {
   "cell_type": "code",
   "execution_count": 83,
   "id": "e2a7bc82",
   "metadata": {},
   "outputs": [
    {
     "data": {
      "image/png": "[encoded data removed]",
      "text/plain": [
       "<Figure size 432x288 with 1 Axes>"
      ]
     },
     "metadata": {},
     "output_type": "display_data"
    }
   ],
   "source": [
    "importances = custom_permutation_importance(xgb_model, X_test, y_test)\n",
    "fig = plt.figure(figsize=(6, 4))\n",
    "plt.barh(importances.names,\n",
    "        importances.importances.values,\n",
    "        height=0.7)\n",
    "fig = fig.tight_layout()\n",
    "plt.show()"
   ]
  },
  {
   "cell_type": "code",
   "execution_count": 84,
   "id": "dcfb1422",
   "metadata": {},
   "outputs": [
    {
     "data": {
      "image/png": "[encoded data removed]",
      "text/plain": [
       "<Figure size 432x288 with 1 Axes>"
      ]
     },
     "metadata": {},
     "output_type": "display_data"
    }
   ],
   "source": [
    "importances = custom_permutation_importance(svm_model, X_test, y_test)\n",
    "fig = plt.figure(figsize=(6, 4))\n",
    "plt.barh(importances.names,\n",
    "        importances.importances.values,\n",
    "        height=0.7)\n",
    "fig = fig.tight_layout()\n",
    "plt.show()"
   ]
  },
  {
   "cell_type": "code",
   "execution_count": 85,
   "id": "4a53c3f6",
   "metadata": {},
   "outputs": [
    {
     "data": {
      "image/png": "[encoded data removed]",
      "text/plain": [
       "<Figure size 432x288 with 1 Axes>"
      ]
     },
     "metadata": {},
     "output_type": "display_data"
    }
   ],
   "source": [
    "importances = custom_permutation_importance(lgr_model, X_test, y_test)\n",
    "fig = plt.figure(figsize=(6, 4))\n",
    "plt.barh(importances.names,\n",
    "        importances.importances.values,\n",
    "        height=0.7)\n",
    "fig = fig.tight_layout()\n",
    "plt.show()"
   ]
  },
  {
   "cell_type": "markdown",
   "id": "121a188b",
   "metadata": {},
   "source": [
    "## Drop column"
   ]
  },
  {
   "cell_type": "code",
   "execution_count": 86,
   "id": "117a2b7b",
   "metadata": {},
   "outputs": [
    {
     "data": {
      "image/png": "[encoded data removed]",
      "text/plain": [
       "<Figure size 432x288 with 1 Axes>"
      ]
     },
     "metadata": {},
     "output_type": "display_data"
    }
   ],
   "source": [
    "#Implementation modified from https://github.com/parrt/random-forest-importances/blob/master/src/rfpimp.py#L292\n",
    "from sklearn.base import clone\n",
    "def custom_dropcol_importance(random_forest, x_train, y_train,x_test,y_test):\n",
    "    random_forest_ = clone(random_forest)\n",
    "    random_forest_.random_state = 999\n",
    "    random_forest_.fit(x_train, y_train)\n",
    "    baseline = f1_score(y_test, random_forest_.predict(x_test), average='macro')\n",
    "    importances = []\n",
    "    for col in x_train.columns:\n",
    "        x_train_without_column = x_train.drop(col, axis=1)\n",
    "        x_test_without_column = x_test.drop(col, axis=1)\n",
    "        random_forest_ = clone(random_forest)\n",
    "        random_forest_.random_state = 999\n",
    "        random_forest_.fit(x_train_without_column, y_train)\n",
    "        o = f1_score(y_test, \n",
    "                     random_forest_.predict(x_test_without_column), \n",
    "                     average='macro')\n",
    "        importances.append(baseline - o)\n",
    "    importances = np.array(importances)\n",
    "  \n",
    "    I = pd.DataFrame(data={\"names\": x_train.columns, \"importances\": importances})\n",
    "    I = I.sort_values(\"importances\", ascending=True)\n",
    "\n",
    "    return I\n",
    "\n",
    "importances = custom_dropcol_importance(rf_model,\n",
    "                                        X_train, y_train, \n",
    "                                        X_test, y_test)\n",
    "fig = plt.figure(figsize=(6, 4))\n",
    "plt.barh(importances.names,\n",
    "        importances.importances.values,\n",
    "        height=0.7)\n",
    "fig = fig.tight_layout()\n",
    "plt.show()"
   ]
  },
  {
   "cell_type": "code",
   "execution_count": 87,
   "id": "d5ffa236",
   "metadata": {
    "scrolled": true
   },
   "outputs": [
    {
     "name": "stdout",
     "output_type": "stream",
     "text": [
      "[02:44:21] WARNING: D:\\bld\\xgboost-split_1637426510059\\work\\src\\learner.cc:1115: Starting in XGBoost 1.3.0, the default evaluation metric used with the objective 'multi:softprob' was changed from 'merror' to 'mlogloss'. Explicitly set eval_metric if you'd like to restore the old behavior.\n",
      "[02:44:22] WARNING: D:\\bld\\xgboost-split_1637426510059\\work\\src\\learner.cc:1115: Starting in XGBoost 1.3.0, the default evaluation metric used with the objective 'multi:softprob' was changed from 'merror' to 'mlogloss'. Explicitly set eval_metric if you'd like to restore the old behavior.\n",
      "[02:44:22] WARNING: D:\\bld\\xgboost-split_1637426510059\\work\\src\\learner.cc:1115: Starting in XGBoost 1.3.0, the default evaluation metric used with the objective 'multi:softprob' was changed from 'merror' to 'mlogloss'. Explicitly set eval_metric if you'd like to restore the old behavior.\n",
      "[02:44:23] WARNING: D:\\bld\\xgboost-split_1637426510059\\work\\src\\learner.cc:1115: Starting in XGBoost 1.3.0, the default evaluation metric used with the objective 'multi:softprob' was changed from 'merror' to 'mlogloss'. Explicitly set eval_metric if you'd like to restore the old behavior.\n",
      "[02:44:24] WARNING: D:\\bld\\xgboost-split_1637426510059\\work\\src\\learner.cc:1115: Starting in XGBoost 1.3.0, the default evaluation metric used with the objective 'multi:softprob' was changed from 'merror' to 'mlogloss'. Explicitly set eval_metric if you'd like to restore the old behavior.\n",
      "[02:44:25] WARNING: D:\\bld\\xgboost-split_1637426510059\\work\\src\\learner.cc:1115: Starting in XGBoost 1.3.0, the default evaluation metric used with the objective 'multi:softprob' was changed from 'merror' to 'mlogloss'. Explicitly set eval_metric if you'd like to restore the old behavior.\n",
      "[02:44:25] WARNING: D:\\bld\\xgboost-split_1637426510059\\work\\src\\learner.cc:1115: Starting in XGBoost 1.3.0, the default evaluation metric used with the objective 'multi:softprob' was changed from 'merror' to 'mlogloss'. Explicitly set eval_metric if you'd like to restore the old behavior.\n",
      "[02:44:26] WARNING: D:\\bld\\xgboost-split_1637426510059\\work\\src\\learner.cc:1115: Starting in XGBoost 1.3.0, the default evaluation metric used with the objective 'multi:softprob' was changed from 'merror' to 'mlogloss'. Explicitly set eval_metric if you'd like to restore the old behavior.\n",
      "[02:44:26] WARNING: D:\\bld\\xgboost-split_1637426510059\\work\\src\\learner.cc:1115: Starting in XGBoost 1.3.0, the default evaluation metric used with the objective 'multi:softprob' was changed from 'merror' to 'mlogloss'. Explicitly set eval_metric if you'd like to restore the old behavior.\n",
      "[02:44:27] WARNING: D:\\bld\\xgboost-split_1637426510059\\work\\src\\learner.cc:1115: Starting in XGBoost 1.3.0, the default evaluation metric used with the objective 'multi:softprob' was changed from 'merror' to 'mlogloss'. Explicitly set eval_metric if you'd like to restore the old behavior.\n",
      "[02:44:28] WARNING: D:\\bld\\xgboost-split_1637426510059\\work\\src\\learner.cc:1115: Starting in XGBoost 1.3.0, the default evaluation metric used with the objective 'multi:softprob' was changed from 'merror' to 'mlogloss'. Explicitly set eval_metric if you'd like to restore the old behavior.\n",
      "[02:44:28] WARNING: D:\\bld\\xgboost-split_1637426510059\\work\\src\\learner.cc:1115: Starting in XGBoost 1.3.0, the default evaluation metric used with the objective 'multi:softprob' was changed from 'merror' to 'mlogloss'. Explicitly set eval_metric if you'd like to restore the old behavior.\n",
      "[02:44:29] WARNING: D:\\bld\\xgboost-split_1637426510059\\work\\src\\learner.cc:1115: Starting in XGBoost 1.3.0, the default evaluation metric used with the objective 'multi:softprob' was changed from 'merror' to 'mlogloss'. Explicitly set eval_metric if you'd like to restore the old behavior.\n",
      "[02:44:30] WARNING: D:\\bld\\xgboost-split_1637426510059\\work\\src\\learner.cc:1115: Starting in XGBoost 1.3.0, the default evaluation metric used with the objective 'multi:softprob' was changed from 'merror' to 'mlogloss'. Explicitly set eval_metric if you'd like to restore the old behavior.\n",
      "[02:44:30] WARNING: D:\\bld\\xgboost-split_1637426510059\\work\\src\\learner.cc:1115: Starting in XGBoost 1.3.0, the default evaluation metric used with the objective 'multi:softprob' was changed from 'merror' to 'mlogloss'. Explicitly set eval_metric if you'd like to restore the old behavior.\n",
      "[02:44:31] WARNING: D:\\bld\\xgboost-split_1637426510059\\work\\src\\learner.cc:1115: Starting in XGBoost 1.3.0, the default evaluation metric used with the objective 'multi:softprob' was changed from 'merror' to 'mlogloss'. Explicitly set eval_metric if you'd like to restore the old behavior.\n"
     ]
    },
    {
     "data": {
      "image/png": "[encoded data removed]",
      "text/plain": [
       "<Figure size 432x288 with 1 Axes>"
      ]
     },
     "metadata": {},
     "output_type": "display_data"
    }
   ],
   "source": [
    "importances = custom_dropcol_importance(xgb_model,\n",
    "                                        X_train, y_train, \n",
    "                                        X_test, y_test)\n",
    "fig = plt.figure(figsize=(6, 4))\n",
    "plt.barh(importances.names,\n",
    "        importances.importances.values,\n",
    "        height=0.7)\n",
    "fig = fig.tight_layout()\n",
    "plt.show()"
   ]
  },
  {
   "cell_type": "code",
   "execution_count": 88,
   "id": "4b48e8bf",
   "metadata": {},
   "outputs": [
    {
     "data": {
      "image/png": "[encoded data removed]",
      "text/plain": [
       "<Figure size 432x288 with 1 Axes>"
      ]
     },
     "metadata": {},
     "output_type": "display_data"
    }
   ],
   "source": [
    "importances = custom_dropcol_importance(svm_model,\n",
    "                                        X_train, y_train, \n",
    "                                        X_test, y_test)\n",
    "fig = plt.figure(figsize=(6, 4))\n",
    "plt.barh(importances.names,\n",
    "        importances.importances.values,\n",
    "        height=0.7)\n",
    "fig = fig.tight_layout()\n",
    "plt.show()"
   ]
  },
  {
   "cell_type": "code",
   "execution_count": 89,
   "id": "a0136c93",
   "metadata": {},
   "outputs": [
    {
     "data": {
      "image/png": "[encoded data removed]",
      "text/plain": [
       "<Figure size 432x288 with 1 Axes>"
      ]
     },
     "metadata": {},
     "output_type": "display_data"
    }
   ],
   "source": [
    "importances = custom_dropcol_importance(lgr_model,\n",
    "                                        X_train, y_train, \n",
    "                                        X_test, y_test)\n",
    "fig = plt.figure(figsize=(6, 4))\n",
    "plt.barh(importances.names,\n",
    "        importances.importances.values,\n",
    "        height=0.7)\n",
    "fig = fig.tight_layout()\n",
    "plt.show()"
   ]
  },
  {
   "cell_type": "markdown",
   "id": "12676e49",
   "metadata": {},
   "source": [
    "## Iteration Feature selection"
   ]
  },
  {
   "cell_type": "code",
   "execution_count": 89,
   "id": "ff7af24e",
   "metadata": {},
   "outputs": [
    {
     "name": "stdout",
     "output_type": "stream",
     "text": [
      "[02:23:19] WARNING: D:\\bld\\xgboost-split_1637426510059\\work\\src\\learner.cc:1115: Starting in XGBoost 1.3.0, the default evaluation metric used with the objective 'multi:softprob' was changed from 'merror' to 'mlogloss'. Explicitly set eval_metric if you'd like to restore the old behavior.\n"
     ]
    },
    {
     "data": {
      "text/plain": [
       "0.9630849916866958"
      ]
     },
     "execution_count": 89,
     "metadata": {},
     "output_type": "execute_result"
    }
   ],
   "source": [
    "#XGBoost:\n",
    "from copy import copy\n",
    "\n",
    "X_no_FAVC = X_train.drop(['CAEC'], axis=1).copy()\n",
    "xgb_model_copy =  copy(xgb_model)\n",
    "xgb_model_copy.fit(X_no_FAVC, y_train)\n",
    "\n",
    "y_hat_xgb = xgb_model_copy.predict(X_test.drop(['CAEC'], axis=1).copy())\n",
    "f1_xgb = f1_score(y_test, y_hat_xgb, average='macro')\n",
    "f1_xgb"
   ]
  },
  {
   "cell_type": "code",
   "execution_count": 124,
   "id": "95609ca1",
   "metadata": {},
   "outputs": [
    {
     "data": {
      "text/plain": [
       "0.9585518136189567"
      ]
     },
     "execution_count": 124,
     "metadata": {},
     "output_type": "execute_result"
    }
   ],
   "source": [
    "#XGBoost:\n",
    "from copy import copy\n",
    "\n",
    "X_no_FAVC = X_train.drop(['FAVC', 'TUE'], axis=1).copy()\n",
    "svm_model_copy =  copy(svm_model)\n",
    "svm_model_copy.fit(X_no_FAVC, y_train)\n",
    "\n",
    "y_hat_svm= svm_model_copy.predict(X_test.drop(['FAVC', 'TUE'], axis=1).copy())\n",
    "f1_svm = f1_score(y_test, y_hat_svm, average='macro')\n",
    "f1_svm"
   ]
  }
 ],
 "metadata": {
  "kernelspec": {
   "display_name": "Python 3 (ipykernel)",
   "language": "python",
   "name": "python3"
  },
  "language_info": {
   "codemirror_mode": {
    "name": "ipython",
    "version": 3
   },
   "file_extension": ".py",
   "mimetype": "text/x-python",
   "name": "python",
   "nbconvert_exporter": "python",
   "pygments_lexer": "ipython3",
   "version": "3.8.0"
  }
 },
 "nbformat": 4,
 "nbformat_minor": 5
}
