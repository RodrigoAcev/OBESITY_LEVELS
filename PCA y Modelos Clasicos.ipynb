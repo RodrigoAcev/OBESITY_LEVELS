{
 "cells": [
  {
   "cell_type": "code",
   "execution_count": 1,
   "id": "c950bd7d",
   "metadata": {},
   "outputs": [],
   "source": [
    "import pandas as pd\n",
    "import numpy as np\n",
    "import os\n",
    "import pickle as pk\n",
    "import matplotlib.pyplot as plt\n",
    "import seaborn as sns\n",
    "\n",
    "import warnings\n",
    "\n",
    "warnings.filterwarnings('ignore')\n",
    "plt.style.use('ggplot')"
   ]
  },
  {
   "cell_type": "markdown",
   "id": "e22e7b6a",
   "metadata": {},
   "source": [
    "## Dataset:"
   ]
  },
  {
   "cell_type": "code",
   "execution_count": 2,
   "id": "f0db6935",
   "metadata": {},
   "outputs": [],
   "source": [
    "DATA_path= 'https://raw.githubusercontent.com/RodrigoAcev/OBESITY_LEVELS/master/data/ObesityDataSet_raw_and_data_sinthetic.csv'"
   ]
  },
  {
   "cell_type": "code",
   "execution_count": 3,
   "id": "b9155fa5",
   "metadata": {},
   "outputs": [
    {
     "data": {
      "text/html": [
       "<div>\n",
       "<style scoped>\n",
       "    .dataframe tbody tr th:only-of-type {\n",
       "        vertical-align: middle;\n",
       "    }\n",
       "\n",
       "    .dataframe tbody tr th {\n",
       "        vertical-align: top;\n",
       "    }\n",
       "\n",
       "    .dataframe thead th {\n",
       "        text-align: right;\n",
       "    }\n",
       "</style>\n",
       "<table border=\"1\" class=\"dataframe\">\n",
       "  <thead>\n",
       "    <tr style=\"text-align: right;\">\n",
       "      <th></th>\n",
       "      <th>Gender</th>\n",
       "      <th>Age</th>\n",
       "      <th>Height</th>\n",
       "      <th>Weight</th>\n",
       "      <th>family_history_with_overweight</th>\n",
       "      <th>FAVC</th>\n",
       "      <th>FCVC</th>\n",
       "      <th>NCP</th>\n",
       "      <th>CAEC</th>\n",
       "      <th>SMOKE</th>\n",
       "      <th>CH2O</th>\n",
       "      <th>SCC</th>\n",
       "      <th>FAF</th>\n",
       "      <th>TUE</th>\n",
       "      <th>CALC</th>\n",
       "      <th>MTRANS</th>\n",
       "      <th>NObeyesdad</th>\n",
       "    </tr>\n",
       "  </thead>\n",
       "  <tbody>\n",
       "    <tr>\n",
       "      <th>0</th>\n",
       "      <td>Female</td>\n",
       "      <td>21.0</td>\n",
       "      <td>1.62</td>\n",
       "      <td>64.0</td>\n",
       "      <td>yes</td>\n",
       "      <td>no</td>\n",
       "      <td>2.0</td>\n",
       "      <td>3.0</td>\n",
       "      <td>Sometimes</td>\n",
       "      <td>no</td>\n",
       "      <td>2.0</td>\n",
       "      <td>no</td>\n",
       "      <td>0.0</td>\n",
       "      <td>1.0</td>\n",
       "      <td>no</td>\n",
       "      <td>Public_Transportation</td>\n",
       "      <td>Normal_Weight</td>\n",
       "    </tr>\n",
       "    <tr>\n",
       "      <th>1</th>\n",
       "      <td>Female</td>\n",
       "      <td>21.0</td>\n",
       "      <td>1.52</td>\n",
       "      <td>56.0</td>\n",
       "      <td>yes</td>\n",
       "      <td>no</td>\n",
       "      <td>3.0</td>\n",
       "      <td>3.0</td>\n",
       "      <td>Sometimes</td>\n",
       "      <td>yes</td>\n",
       "      <td>3.0</td>\n",
       "      <td>yes</td>\n",
       "      <td>3.0</td>\n",
       "      <td>0.0</td>\n",
       "      <td>Sometimes</td>\n",
       "      <td>Public_Transportation</td>\n",
       "      <td>Normal_Weight</td>\n",
       "    </tr>\n",
       "    <tr>\n",
       "      <th>2</th>\n",
       "      <td>Male</td>\n",
       "      <td>23.0</td>\n",
       "      <td>1.80</td>\n",
       "      <td>77.0</td>\n",
       "      <td>yes</td>\n",
       "      <td>no</td>\n",
       "      <td>2.0</td>\n",
       "      <td>3.0</td>\n",
       "      <td>Sometimes</td>\n",
       "      <td>no</td>\n",
       "      <td>2.0</td>\n",
       "      <td>no</td>\n",
       "      <td>2.0</td>\n",
       "      <td>1.0</td>\n",
       "      <td>Frequently</td>\n",
       "      <td>Public_Transportation</td>\n",
       "      <td>Normal_Weight</td>\n",
       "    </tr>\n",
       "    <tr>\n",
       "      <th>3</th>\n",
       "      <td>Male</td>\n",
       "      <td>27.0</td>\n",
       "      <td>1.80</td>\n",
       "      <td>87.0</td>\n",
       "      <td>no</td>\n",
       "      <td>no</td>\n",
       "      <td>3.0</td>\n",
       "      <td>3.0</td>\n",
       "      <td>Sometimes</td>\n",
       "      <td>no</td>\n",
       "      <td>2.0</td>\n",
       "      <td>no</td>\n",
       "      <td>2.0</td>\n",
       "      <td>0.0</td>\n",
       "      <td>Frequently</td>\n",
       "      <td>Walking</td>\n",
       "      <td>Overweight_Level_I</td>\n",
       "    </tr>\n",
       "    <tr>\n",
       "      <th>4</th>\n",
       "      <td>Male</td>\n",
       "      <td>22.0</td>\n",
       "      <td>1.78</td>\n",
       "      <td>89.8</td>\n",
       "      <td>no</td>\n",
       "      <td>no</td>\n",
       "      <td>2.0</td>\n",
       "      <td>1.0</td>\n",
       "      <td>Sometimes</td>\n",
       "      <td>no</td>\n",
       "      <td>2.0</td>\n",
       "      <td>no</td>\n",
       "      <td>0.0</td>\n",
       "      <td>0.0</td>\n",
       "      <td>Sometimes</td>\n",
       "      <td>Public_Transportation</td>\n",
       "      <td>Overweight_Level_II</td>\n",
       "    </tr>\n",
       "  </tbody>\n",
       "</table>\n",
       "</div>"
      ],
      "text/plain": [
       "   Gender   Age  Height  Weight family_history_with_overweight FAVC  FCVC  \\\n",
       "0  Female  21.0    1.62    64.0                            yes   no   2.0   \n",
       "1  Female  21.0    1.52    56.0                            yes   no   3.0   \n",
       "2    Male  23.0    1.80    77.0                            yes   no   2.0   \n",
       "3    Male  27.0    1.80    87.0                             no   no   3.0   \n",
       "4    Male  22.0    1.78    89.8                             no   no   2.0   \n",
       "\n",
       "   NCP       CAEC SMOKE  CH2O  SCC  FAF  TUE        CALC  \\\n",
       "0  3.0  Sometimes    no   2.0   no  0.0  1.0          no   \n",
       "1  3.0  Sometimes   yes   3.0  yes  3.0  0.0   Sometimes   \n",
       "2  3.0  Sometimes    no   2.0   no  2.0  1.0  Frequently   \n",
       "3  3.0  Sometimes    no   2.0   no  2.0  0.0  Frequently   \n",
       "4  1.0  Sometimes    no   2.0   no  0.0  0.0   Sometimes   \n",
       "\n",
       "                  MTRANS           NObeyesdad  \n",
       "0  Public_Transportation        Normal_Weight  \n",
       "1  Public_Transportation        Normal_Weight  \n",
       "2  Public_Transportation        Normal_Weight  \n",
       "3                Walking   Overweight_Level_I  \n",
       "4  Public_Transportation  Overweight_Level_II  "
      ]
     },
     "execution_count": 3,
     "metadata": {},
     "output_type": "execute_result"
    }
   ],
   "source": [
    "df = pd.read_csv(DATA_path)\n",
    "df.head()"
   ]
  },
  {
   "cell_type": "markdown",
   "id": "78070f10",
   "metadata": {},
   "source": [
    "## Transformación variables categóricas:"
   ]
  },
  {
   "cell_type": "code",
   "execution_count": 4,
   "id": "3feba626",
   "metadata": {},
   "outputs": [],
   "source": [
    "#Nombre de columnas con datos categoricos y numericos:\n",
    "cat_cols = ['Gender', 'family_history_with_overweight', 'FAVC', 'CAEC', 'SMOKE',\n",
    "            'SCC', 'CALC', 'MTRANS']\n",
    "\n",
    "num_cols = ['Age', 'Height', 'Weight', 'FCVC', 'NCP', 'CH2O', 'FAF', 'TUE']"
   ]
  },
  {
   "cell_type": "code",
   "execution_count": 5,
   "id": "b1c4302f",
   "metadata": {},
   "outputs": [],
   "source": [
    "#Diccionario con clases \n",
    "class_dict = {'Insufficient_Weight': 0,\n",
    "              'Normal_Weight': 1,\n",
    "              'Overweight_Level_I': 2,\n",
    "              'Overweight_Level_II': 3,\n",
    "              'Obesity_Type_I': 4,\n",
    "              'Obesity_Type_II': 5,\n",
    "              'Obesity_Type_III': 6}\n",
    "\n",
    "inv_class = dict((v_i,k_i) for k_i, v_i in class_dict.items())\n",
    "#inv_class\n",
    "\n",
    "df['NObeyesdad'] = df['NObeyesdad'].apply(lambda x: class_dict[x])"
   ]
  },
  {
   "cell_type": "code",
   "execution_count": 6,
   "id": "0c62d166",
   "metadata": {},
   "outputs": [],
   "source": [
    "#Diccionario para transformacion de variables categoricas a numericas:\n",
    "attr_dic = {'yes':1,\n",
    "            'no':0,\n",
    "            'Sometimes':1,\n",
    "            'Frequently':2,\n",
    "            'Always':3,\n",
    "            'Male':0,\n",
    "            'Female':1,\n",
    "            'Walking':0,\n",
    "            'Bike':1,\n",
    "            'Public_Transportation':2,\n",
    "            'Motorbike':3,\n",
    "            'Automobile':4\n",
    "           }"
   ]
  },
  {
   "cell_type": "code",
   "execution_count": 7,
   "id": "b743f91e",
   "metadata": {},
   "outputs": [
    {
     "name": "stdout",
     "output_type": "stream",
     "text": [
      "<class 'pandas.core.frame.DataFrame'>\n",
      "RangeIndex: 2111 entries, 0 to 2110\n",
      "Data columns (total 17 columns):\n",
      " #   Column                          Non-Null Count  Dtype  \n",
      "---  ------                          --------------  -----  \n",
      " 0   Gender                          2111 non-null   int64  \n",
      " 1   Age                             2111 non-null   float64\n",
      " 2   Height                          2111 non-null   float64\n",
      " 3   Weight                          2111 non-null   float64\n",
      " 4   family_history_with_overweight  2111 non-null   int64  \n",
      " 5   FAVC                            2111 non-null   int64  \n",
      " 6   FCVC                            2111 non-null   float64\n",
      " 7   NCP                             2111 non-null   float64\n",
      " 8   CAEC                            2111 non-null   int64  \n",
      " 9   SMOKE                           2111 non-null   int64  \n",
      " 10  CH2O                            2111 non-null   float64\n",
      " 11  SCC                             2111 non-null   int64  \n",
      " 12  FAF                             2111 non-null   float64\n",
      " 13  TUE                             2111 non-null   float64\n",
      " 14  CALC                            2111 non-null   int64  \n",
      " 15  MTRANS                          2111 non-null   int64  \n",
      " 16  NObeyesdad                      2111 non-null   int64  \n",
      "dtypes: float64(8), int64(9)\n",
      "memory usage: 280.5 KB\n"
     ]
    }
   ],
   "source": [
    "df.replace(attr_dic, inplace=True)\n",
    "df.info()"
   ]
  },
  {
   "cell_type": "markdown",
   "id": "9ac0891f",
   "metadata": {},
   "source": [
    "## Train & Test Split"
   ]
  },
  {
   "cell_type": "code",
   "execution_count": 8,
   "id": "5c7eb815",
   "metadata": {},
   "outputs": [],
   "source": [
    "X = df.drop('NObeyesdad', axis=1).copy()\n",
    "y = df['NObeyesdad'].copy()"
   ]
  },
  {
   "cell_type": "code",
   "execution_count": 9,
   "id": "e252f042",
   "metadata": {},
   "outputs": [
    {
     "data": {
      "text/plain": [
       "((1688, 16), (423, 16))"
      ]
     },
     "execution_count": 9,
     "metadata": {},
     "output_type": "execute_result"
    }
   ],
   "source": [
    "from sklearn.model_selection import train_test_split\n",
    "\n",
    "X_train, X_test, y_train, y_test = train_test_split(X, y, test_size=.2, stratify=y, random_state=42)\n",
    "X_train.shape, X_test.shape"
   ]
  },
  {
   "cell_type": "markdown",
   "id": "b9737388",
   "metadata": {},
   "source": [
    "## Normalización de datos"
   ]
  },
  {
   "cell_type": "code",
   "execution_count": 10,
   "id": "2b35e2e3",
   "metadata": {},
   "outputs": [
    {
     "data": {
      "text/html": [
       "<div>\n",
       "<style scoped>\n",
       "    .dataframe tbody tr th:only-of-type {\n",
       "        vertical-align: middle;\n",
       "    }\n",
       "\n",
       "    .dataframe tbody tr th {\n",
       "        vertical-align: top;\n",
       "    }\n",
       "\n",
       "    .dataframe thead th {\n",
       "        text-align: right;\n",
       "    }\n",
       "</style>\n",
       "<table border=\"1\" class=\"dataframe\">\n",
       "  <thead>\n",
       "    <tr style=\"text-align: right;\">\n",
       "      <th></th>\n",
       "      <th>Gender</th>\n",
       "      <th>Age</th>\n",
       "      <th>Height</th>\n",
       "      <th>Weight</th>\n",
       "      <th>family_history_with_overweight</th>\n",
       "      <th>FAVC</th>\n",
       "      <th>FCVC</th>\n",
       "      <th>NCP</th>\n",
       "      <th>CAEC</th>\n",
       "      <th>SMOKE</th>\n",
       "      <th>CH2O</th>\n",
       "      <th>SCC</th>\n",
       "      <th>FAF</th>\n",
       "      <th>TUE</th>\n",
       "      <th>CALC</th>\n",
       "      <th>MTRANS</th>\n",
       "    </tr>\n",
       "  </thead>\n",
       "  <tbody>\n",
       "    <tr>\n",
       "      <th>count</th>\n",
       "      <td>1.688000e+03</td>\n",
       "      <td>1.688000e+03</td>\n",
       "      <td>1.688000e+03</td>\n",
       "      <td>1.688000e+03</td>\n",
       "      <td>1.688000e+03</td>\n",
       "      <td>1.688000e+03</td>\n",
       "      <td>1.688000e+03</td>\n",
       "      <td>1.688000e+03</td>\n",
       "      <td>1.688000e+03</td>\n",
       "      <td>1.688000e+03</td>\n",
       "      <td>1.688000e+03</td>\n",
       "      <td>1.688000e+03</td>\n",
       "      <td>1.688000e+03</td>\n",
       "      <td>1.688000e+03</td>\n",
       "      <td>1.688000e+03</td>\n",
       "      <td>1.688000e+03</td>\n",
       "    </tr>\n",
       "    <tr>\n",
       "      <th>mean</th>\n",
       "      <td>6.314065e-17</td>\n",
       "      <td>1.504852e-16</td>\n",
       "      <td>-4.967064e-16</td>\n",
       "      <td>-4.998634e-16</td>\n",
       "      <td>-1.473282e-17</td>\n",
       "      <td>1.347000e-16</td>\n",
       "      <td>-4.072572e-16</td>\n",
       "      <td>6.866545e-16</td>\n",
       "      <td>1.378571e-16</td>\n",
       "      <td>3.893673e-17</td>\n",
       "      <td>2.567720e-16</td>\n",
       "      <td>5.524807e-17</td>\n",
       "      <td>-1.589040e-16</td>\n",
       "      <td>1.983669e-16</td>\n",
       "      <td>-7.787346e-17</td>\n",
       "      <td>-1.041821e-16</td>\n",
       "    </tr>\n",
       "    <tr>\n",
       "      <th>std</th>\n",
       "      <td>1.000296e+00</td>\n",
       "      <td>1.000296e+00</td>\n",
       "      <td>1.000296e+00</td>\n",
       "      <td>1.000296e+00</td>\n",
       "      <td>1.000296e+00</td>\n",
       "      <td>1.000296e+00</td>\n",
       "      <td>1.000296e+00</td>\n",
       "      <td>1.000296e+00</td>\n",
       "      <td>1.000296e+00</td>\n",
       "      <td>1.000296e+00</td>\n",
       "      <td>1.000296e+00</td>\n",
       "      <td>1.000296e+00</td>\n",
       "      <td>1.000296e+00</td>\n",
       "      <td>1.000296e+00</td>\n",
       "      <td>1.000296e+00</td>\n",
       "      <td>1.000296e+00</td>\n",
       "    </tr>\n",
       "    <tr>\n",
       "      <th>min</th>\n",
       "      <td>-9.976331e-01</td>\n",
       "      <td>-1.474967e+00</td>\n",
       "      <td>-2.692580e+00</td>\n",
       "      <td>-1.819299e+00</td>\n",
       "      <td>-2.129419e+00</td>\n",
       "      <td>-2.759030e+00</td>\n",
       "      <td>-2.659811e+00</td>\n",
       "      <td>-2.150047e+00</td>\n",
       "      <td>-2.423677e+00</td>\n",
       "      <td>-1.455116e-01</td>\n",
       "      <td>-1.655005e+00</td>\n",
       "      <td>-2.215825e-01</td>\n",
       "      <td>-1.185094e+00</td>\n",
       "      <td>-1.069742e+00</td>\n",
       "      <td>-1.397473e+00</td>\n",
       "      <td>-2.603713e+00</td>\n",
       "    </tr>\n",
       "    <tr>\n",
       "      <th>25%</th>\n",
       "      <td>-9.976331e-01</td>\n",
       "      <td>-6.919806e-01</td>\n",
       "      <td>-7.709508e-01</td>\n",
       "      <td>-7.810441e-01</td>\n",
       "      <td>4.696116e-01</td>\n",
       "      <td>3.624463e-01</td>\n",
       "      <td>-7.811726e-01</td>\n",
       "      <td>-4.719466e-02</td>\n",
       "      <td>-2.917506e-01</td>\n",
       "      <td>-1.455116e-01</td>\n",
       "      <td>-6.591605e-01</td>\n",
       "      <td>-2.215825e-01</td>\n",
       "      <td>-1.051606e+00</td>\n",
       "      <td>-1.069742e+00</td>\n",
       "      <td>-1.397473e+00</td>\n",
       "      <td>-4.263201e-01</td>\n",
       "    </tr>\n",
       "    <tr>\n",
       "      <th>50%</th>\n",
       "      <td>-9.976331e-01</td>\n",
       "      <td>-2.397809e-01</td>\n",
       "      <td>2.187898e-05</td>\n",
       "      <td>-1.430424e-01</td>\n",
       "      <td>4.696116e-01</td>\n",
       "      <td>3.624463e-01</td>\n",
       "      <td>-1.381681e-01</td>\n",
       "      <td>4.083130e-01</td>\n",
       "      <td>-2.917506e-01</td>\n",
       "      <td>-1.455116e-01</td>\n",
       "      <td>-1.485667e-02</td>\n",
       "      <td>-2.215825e-01</td>\n",
       "      <td>2.017320e-03</td>\n",
       "      <td>-5.807430e-02</td>\n",
       "      <td>5.219202e-01</td>\n",
       "      <td>-4.263201e-01</td>\n",
       "    </tr>\n",
       "    <tr>\n",
       "      <th>75%</th>\n",
       "      <td>1.002372e+00</td>\n",
       "      <td>2.676076e-01</td>\n",
       "      <td>7.057043e-01</td>\n",
       "      <td>7.961633e-01</td>\n",
       "      <td>4.696116e-01</td>\n",
       "      <td>3.624463e-01</td>\n",
       "      <td>1.097466e+00</td>\n",
       "      <td>4.083130e-01</td>\n",
       "      <td>-2.917506e-01</td>\n",
       "      <td>-1.455116e-01</td>\n",
       "      <td>7.710986e-01</td>\n",
       "      <td>-2.215825e-01</td>\n",
       "      <td>7.803043e-01</td>\n",
       "      <td>5.780955e-01</td>\n",
       "      <td>5.219202e-01</td>\n",
       "      <td>-4.263201e-01</td>\n",
       "    </tr>\n",
       "    <tr>\n",
       "      <th>max</th>\n",
       "      <td>1.002372e+00</td>\n",
       "      <td>5.812162e+00</td>\n",
       "      <td>3.015736e+00</td>\n",
       "      <td>3.028093e+00</td>\n",
       "      <td>4.696116e-01</td>\n",
       "      <td>3.624463e-01</td>\n",
       "      <td>1.097466e+00</td>\n",
       "      <td>1.687493e+00</td>\n",
       "      <td>3.972103e+00</td>\n",
       "      <td>6.872305e+00</td>\n",
       "      <td>1.625291e+00</td>\n",
       "      <td>4.512991e+00</td>\n",
       "      <td>2.376240e+00</td>\n",
       "      <td>2.225933e+00</td>\n",
       "      <td>4.360706e+00</td>\n",
       "      <td>1.751073e+00</td>\n",
       "    </tr>\n",
       "  </tbody>\n",
       "</table>\n",
       "</div>"
      ],
      "text/plain": [
       "             Gender           Age        Height        Weight  \\\n",
       "count  1.688000e+03  1.688000e+03  1.688000e+03  1.688000e+03   \n",
       "mean   6.314065e-17  1.504852e-16 -4.967064e-16 -4.998634e-16   \n",
       "std    1.000296e+00  1.000296e+00  1.000296e+00  1.000296e+00   \n",
       "min   -9.976331e-01 -1.474967e+00 -2.692580e+00 -1.819299e+00   \n",
       "25%   -9.976331e-01 -6.919806e-01 -7.709508e-01 -7.810441e-01   \n",
       "50%   -9.976331e-01 -2.397809e-01  2.187898e-05 -1.430424e-01   \n",
       "75%    1.002372e+00  2.676076e-01  7.057043e-01  7.961633e-01   \n",
       "max    1.002372e+00  5.812162e+00  3.015736e+00  3.028093e+00   \n",
       "\n",
       "       family_history_with_overweight          FAVC          FCVC  \\\n",
       "count                    1.688000e+03  1.688000e+03  1.688000e+03   \n",
       "mean                    -1.473282e-17  1.347000e-16 -4.072572e-16   \n",
       "std                      1.000296e+00  1.000296e+00  1.000296e+00   \n",
       "min                     -2.129419e+00 -2.759030e+00 -2.659811e+00   \n",
       "25%                      4.696116e-01  3.624463e-01 -7.811726e-01   \n",
       "50%                      4.696116e-01  3.624463e-01 -1.381681e-01   \n",
       "75%                      4.696116e-01  3.624463e-01  1.097466e+00   \n",
       "max                      4.696116e-01  3.624463e-01  1.097466e+00   \n",
       "\n",
       "                NCP          CAEC         SMOKE          CH2O           SCC  \\\n",
       "count  1.688000e+03  1.688000e+03  1.688000e+03  1.688000e+03  1.688000e+03   \n",
       "mean   6.866545e-16  1.378571e-16  3.893673e-17  2.567720e-16  5.524807e-17   \n",
       "std    1.000296e+00  1.000296e+00  1.000296e+00  1.000296e+00  1.000296e+00   \n",
       "min   -2.150047e+00 -2.423677e+00 -1.455116e-01 -1.655005e+00 -2.215825e-01   \n",
       "25%   -4.719466e-02 -2.917506e-01 -1.455116e-01 -6.591605e-01 -2.215825e-01   \n",
       "50%    4.083130e-01 -2.917506e-01 -1.455116e-01 -1.485667e-02 -2.215825e-01   \n",
       "75%    4.083130e-01 -2.917506e-01 -1.455116e-01  7.710986e-01 -2.215825e-01   \n",
       "max    1.687493e+00  3.972103e+00  6.872305e+00  1.625291e+00  4.512991e+00   \n",
       "\n",
       "                FAF           TUE          CALC        MTRANS  \n",
       "count  1.688000e+03  1.688000e+03  1.688000e+03  1.688000e+03  \n",
       "mean  -1.589040e-16  1.983669e-16 -7.787346e-17 -1.041821e-16  \n",
       "std    1.000296e+00  1.000296e+00  1.000296e+00  1.000296e+00  \n",
       "min   -1.185094e+00 -1.069742e+00 -1.397473e+00 -2.603713e+00  \n",
       "25%   -1.051606e+00 -1.069742e+00 -1.397473e+00 -4.263201e-01  \n",
       "50%    2.017320e-03 -5.807430e-02  5.219202e-01 -4.263201e-01  \n",
       "75%    7.803043e-01  5.780955e-01  5.219202e-01 -4.263201e-01  \n",
       "max    2.376240e+00  2.225933e+00  4.360706e+00  1.751073e+00  "
      ]
     },
     "execution_count": 10,
     "metadata": {},
     "output_type": "execute_result"
    }
   ],
   "source": [
    "from sklearn.preprocessing import StandardScaler\n",
    "\n",
    "#Normalizacion datos categoricos:\n",
    "scaler_cat = StandardScaler()\n",
    "X_train.loc[:,cat_cols] = scaler_cat.fit_transform(X_train.loc[:,cat_cols].values)\n",
    "\n",
    "#Normalizacion datos numericos:\n",
    "scaler_num = StandardScaler()\n",
    "X_train.loc[:,num_cols] = scaler_num.fit_transform(X_train.loc[:,num_cols].values)\n",
    "X_train.describe()"
   ]
  },
  {
   "cell_type": "code",
   "execution_count": 11,
   "id": "e59d310d",
   "metadata": {},
   "outputs": [],
   "source": [
    "#Guardar scalers:\n",
    "if not(os.path.exists('./Scalers/')):\n",
    "    os.mkdir('./Scalers/')\n",
    "\n",
    "with open('./Scalers/scaler_cat.scaler', 'wb') as f:\n",
    "    pk.dump(scaler_cat, f)\n",
    "\n",
    "with open('./Scalers/scaler_num.scaler', 'wb') as f:\n",
    "    pk.dump(scaler_num, f)"
   ]
  },
  {
   "cell_type": "markdown",
   "id": "4f0e2ea4",
   "metadata": {},
   "source": [
    "## PCA"
   ]
  },
  {
   "cell_type": "code",
   "execution_count": 12,
   "id": "e8c14da0",
   "metadata": {},
   "outputs": [
    {
     "data": {
      "text/plain": [
       "(16, 16)"
      ]
     },
     "execution_count": 12,
     "metadata": {},
     "output_type": "execute_result"
    }
   ],
   "source": [
    "from sklearn.decomposition import PCA\n",
    "\n",
    "obs_pca = PCA().fit(X_train)\n",
    "obs_pca.components_.shape"
   ]
  },
  {
   "cell_type": "code",
   "execution_count": 13,
   "id": "e65bceed",
   "metadata": {},
   "outputs": [
    {
     "data": {
      "image/png": "[encoded data removed]",
      "text/plain": [
       "<Figure size 576x360 with 1 Axes>"
      ]
     },
     "metadata": {},
     "output_type": "display_data"
    }
   ],
   "source": [
    "fig, axs = plt.subplots(figsize=(8,5))\n",
    "\n",
    "pca_pve = obs_pca.explained_variance_ratio_\n",
    "x_axis = np.arange(1, obs_pca.components_.shape[0]+1)\n",
    "\n",
    "axs.plot(x_axis, np.cumsum(pca_pve), 'o-', label='PVE Acumulativo')\n",
    "axs.plot(x_axis, pca_pve, 'o-', label='PVE individual')\n",
    "\n",
    "axs.set_yticks(np.arange(0,1.1,.1))\n",
    "axs.set_xticks(x_axis)\n",
    "axs.set_ylabel('PVE')\n",
    "axs.set_xlabel('Componente Principal')\n",
    "\n",
    "plt.legend()\n",
    "plt.show()"
   ]
  },
  {
   "cell_type": "code",
   "execution_count": 14,
   "id": "2adce999",
   "metadata": {},
   "outputs": [
    {
     "data": {
      "text/html": [
       "<div>\n",
       "<style scoped>\n",
       "    .dataframe tbody tr th:only-of-type {\n",
       "        vertical-align: middle;\n",
       "    }\n",
       "\n",
       "    .dataframe tbody tr th {\n",
       "        vertical-align: top;\n",
       "    }\n",
       "\n",
       "    .dataframe thead th {\n",
       "        text-align: right;\n",
       "    }\n",
       "</style>\n",
       "<table border=\"1\" class=\"dataframe\">\n",
       "  <thead>\n",
       "    <tr style=\"text-align: right;\">\n",
       "      <th></th>\n",
       "      <th>Gender</th>\n",
       "      <th>Age</th>\n",
       "      <th>Height</th>\n",
       "      <th>Weight</th>\n",
       "      <th>family_history_with_overweight</th>\n",
       "      <th>FAVC</th>\n",
       "      <th>FCVC</th>\n",
       "      <th>NCP</th>\n",
       "      <th>CAEC</th>\n",
       "      <th>SMOKE</th>\n",
       "      <th>CH2O</th>\n",
       "      <th>SCC</th>\n",
       "      <th>FAF</th>\n",
       "      <th>TUE</th>\n",
       "      <th>CALC</th>\n",
       "      <th>MTRANS</th>\n",
       "    </tr>\n",
       "  </thead>\n",
       "  <tbody>\n",
       "    <tr>\n",
       "      <th>442</th>\n",
       "      <td>-0.997633</td>\n",
       "      <td>0.267608</td>\n",
       "      <td>0.215430</td>\n",
       "      <td>-0.819498</td>\n",
       "      <td>0.469612</td>\n",
       "      <td>0.362446</td>\n",
       "      <td>-0.781173</td>\n",
       "      <td>0.408313</td>\n",
       "      <td>-0.291751</td>\n",
       "      <td>-0.145512</td>\n",
       "      <td>-0.014857</td>\n",
       "      <td>-0.221583</td>\n",
       "      <td>-1.185094</td>\n",
       "      <td>0.578096</td>\n",
       "      <td>0.521920</td>\n",
       "      <td>-2.603713</td>\n",
       "    </tr>\n",
       "    <tr>\n",
       "      <th>253</th>\n",
       "      <td>1.002372</td>\n",
       "      <td>0.267608</td>\n",
       "      <td>-1.184723</td>\n",
       "      <td>-1.511668</td>\n",
       "      <td>0.469612</td>\n",
       "      <td>0.362446</td>\n",
       "      <td>-0.781173</td>\n",
       "      <td>-2.150047</td>\n",
       "      <td>-0.291751</td>\n",
       "      <td>-0.145512</td>\n",
       "      <td>-0.014857</td>\n",
       "      <td>-0.221583</td>\n",
       "      <td>-1.185094</td>\n",
       "      <td>2.225933</td>\n",
       "      <td>0.521920</td>\n",
       "      <td>-0.426320</td>\n",
       "    </tr>\n",
       "    <tr>\n",
       "      <th>554</th>\n",
       "      <td>-0.997633</td>\n",
       "      <td>-1.285160</td>\n",
       "      <td>-0.096836</td>\n",
       "      <td>-1.295197</td>\n",
       "      <td>-2.129419</td>\n",
       "      <td>0.362446</td>\n",
       "      <td>-0.781173</td>\n",
       "      <td>-0.869606</td>\n",
       "      <td>-0.291751</td>\n",
       "      <td>-0.145512</td>\n",
       "      <td>1.090332</td>\n",
       "      <td>-0.221583</td>\n",
       "      <td>-0.006352</td>\n",
       "      <td>-0.287289</td>\n",
       "      <td>0.521920</td>\n",
       "      <td>-0.426320</td>\n",
       "    </tr>\n",
       "    <tr>\n",
       "      <th>1500</th>\n",
       "      <td>-0.997633</td>\n",
       "      <td>0.026979</td>\n",
       "      <td>-0.417041</td>\n",
       "      <td>0.170496</td>\n",
       "      <td>0.469612</td>\n",
       "      <td>0.362446</td>\n",
       "      <td>-1.320627</td>\n",
       "      <td>0.408313</td>\n",
       "      <td>-0.291751</td>\n",
       "      <td>-0.145512</td>\n",
       "      <td>-1.389050</td>\n",
       "      <td>-0.221583</td>\n",
       "      <td>-0.640232</td>\n",
       "      <td>0.389471</td>\n",
       "      <td>-1.397473</td>\n",
       "      <td>1.751073</td>\n",
       "    </tr>\n",
       "    <tr>\n",
       "      <th>359</th>\n",
       "      <td>1.002372</td>\n",
       "      <td>1.376519</td>\n",
       "      <td>-1.507835</td>\n",
       "      <td>-1.473214</td>\n",
       "      <td>0.469612</td>\n",
       "      <td>-2.759030</td>\n",
       "      <td>-0.781173</td>\n",
       "      <td>0.408313</td>\n",
       "      <td>-0.291751</td>\n",
       "      <td>-0.145512</td>\n",
       "      <td>-0.014857</td>\n",
       "      <td>-0.221583</td>\n",
       "      <td>0.002017</td>\n",
       "      <td>-1.069742</td>\n",
       "      <td>0.521920</td>\n",
       "      <td>-0.426320</td>\n",
       "    </tr>\n",
       "  </tbody>\n",
       "</table>\n",
       "</div>"
      ],
      "text/plain": [
       "        Gender       Age    Height    Weight  family_history_with_overweight  \\\n",
       "442  -0.997633  0.267608  0.215430 -0.819498                        0.469612   \n",
       "253   1.002372  0.267608 -1.184723 -1.511668                        0.469612   \n",
       "554  -0.997633 -1.285160 -0.096836 -1.295197                       -2.129419   \n",
       "1500 -0.997633  0.026979 -0.417041  0.170496                        0.469612   \n",
       "359   1.002372  1.376519 -1.507835 -1.473214                        0.469612   \n",
       "\n",
       "          FAVC      FCVC       NCP      CAEC     SMOKE      CH2O       SCC  \\\n",
       "442   0.362446 -0.781173  0.408313 -0.291751 -0.145512 -0.014857 -0.221583   \n",
       "253   0.362446 -0.781173 -2.150047 -0.291751 -0.145512 -0.014857 -0.221583   \n",
       "554   0.362446 -0.781173 -0.869606 -0.291751 -0.145512  1.090332 -0.221583   \n",
       "1500  0.362446 -1.320627  0.408313 -0.291751 -0.145512 -1.389050 -0.221583   \n",
       "359  -2.759030 -0.781173  0.408313 -0.291751 -0.145512 -0.014857 -0.221583   \n",
       "\n",
       "           FAF       TUE      CALC    MTRANS  \n",
       "442  -1.185094  0.578096  0.521920 -2.603713  \n",
       "253  -1.185094  2.225933  0.521920 -0.426320  \n",
       "554  -0.006352 -0.287289  0.521920 -0.426320  \n",
       "1500 -0.640232  0.389471 -1.397473  1.751073  \n",
       "359   0.002017 -1.069742  0.521920 -0.426320  "
      ]
     },
     "execution_count": 14,
     "metadata": {},
     "output_type": "execute_result"
    }
   ],
   "source": [
    "X_train.head()"
   ]
  },
  {
   "cell_type": "code",
   "execution_count": 15,
   "id": "b7044129",
   "metadata": {},
   "outputs": [
    {
     "data": {
      "text/html": [
       "<div>\n",
       "<style scoped>\n",
       "    .dataframe tbody tr th:only-of-type {\n",
       "        vertical-align: middle;\n",
       "    }\n",
       "\n",
       "    .dataframe tbody tr th {\n",
       "        vertical-align: top;\n",
       "    }\n",
       "\n",
       "    .dataframe thead th {\n",
       "        text-align: right;\n",
       "    }\n",
       "</style>\n",
       "<table border=\"1\" class=\"dataframe\">\n",
       "  <thead>\n",
       "    <tr style=\"text-align: right;\">\n",
       "      <th></th>\n",
       "      <th>0</th>\n",
       "      <th>1</th>\n",
       "      <th>2</th>\n",
       "      <th>3</th>\n",
       "      <th>4</th>\n",
       "      <th>5</th>\n",
       "      <th>6</th>\n",
       "      <th>7</th>\n",
       "      <th>8</th>\n",
       "      <th>9</th>\n",
       "      <th>10</th>\n",
       "      <th>11</th>\n",
       "      <th>12</th>\n",
       "      <th>13</th>\n",
       "      <th>14</th>\n",
       "      <th>15</th>\n",
       "    </tr>\n",
       "  </thead>\n",
       "  <tbody>\n",
       "    <tr>\n",
       "      <th>0</th>\n",
       "      <td>-0.044756</td>\n",
       "      <td>0.931898</td>\n",
       "      <td>-0.647872</td>\n",
       "      <td>-1.461541</td>\n",
       "      <td>0.771175</td>\n",
       "      <td>0.403271</td>\n",
       "      <td>-0.159807</td>\n",
       "      <td>-0.535154</td>\n",
       "      <td>-0.428420</td>\n",
       "      <td>1.370138</td>\n",
       "      <td>0.270355</td>\n",
       "      <td>-0.203266</td>\n",
       "      <td>0.023423</td>\n",
       "      <td>0.276096</td>\n",
       "      <td>2.076397</td>\n",
       "      <td>-0.894830</td>\n",
       "    </tr>\n",
       "    <tr>\n",
       "      <th>1</th>\n",
       "      <td>1.515010</td>\n",
       "      <td>-1.002006</td>\n",
       "      <td>-0.896119</td>\n",
       "      <td>-2.513083</td>\n",
       "      <td>0.584905</td>\n",
       "      <td>0.796780</td>\n",
       "      <td>1.070197</td>\n",
       "      <td>0.889552</td>\n",
       "      <td>-0.458331</td>\n",
       "      <td>-0.795196</td>\n",
       "      <td>0.855268</td>\n",
       "      <td>1.135727</td>\n",
       "      <td>-0.289009</td>\n",
       "      <td>-0.314869</td>\n",
       "      <td>0.637485</td>\n",
       "      <td>-0.731157</td>\n",
       "    </tr>\n",
       "    <tr>\n",
       "      <th>2</th>\n",
       "      <td>1.073595</td>\n",
       "      <td>1.225528</td>\n",
       "      <td>0.521122</td>\n",
       "      <td>-1.111005</td>\n",
       "      <td>-0.260766</td>\n",
       "      <td>1.828603</td>\n",
       "      <td>-1.368693</td>\n",
       "      <td>-0.276429</td>\n",
       "      <td>-0.479369</td>\n",
       "      <td>-0.856968</td>\n",
       "      <td>0.329954</td>\n",
       "      <td>-0.845552</td>\n",
       "      <td>0.860266</td>\n",
       "      <td>-0.384113</td>\n",
       "      <td>0.068074</td>\n",
       "      <td>0.211669</td>\n",
       "    </tr>\n",
       "    <tr>\n",
       "      <th>3</th>\n",
       "      <td>-0.523199</td>\n",
       "      <td>-1.003478</td>\n",
       "      <td>1.782459</td>\n",
       "      <td>-1.529944</td>\n",
       "      <td>0.108863</td>\n",
       "      <td>-1.084376</td>\n",
       "      <td>0.346453</td>\n",
       "      <td>0.568763</td>\n",
       "      <td>0.403732</td>\n",
       "      <td>0.879879</td>\n",
       "      <td>-0.573756</td>\n",
       "      <td>-0.014428</td>\n",
       "      <td>0.356966</td>\n",
       "      <td>-0.293053</td>\n",
       "      <td>-0.596919</td>\n",
       "      <td>0.928034</td>\n",
       "    </tr>\n",
       "    <tr>\n",
       "      <th>4</th>\n",
       "      <td>1.765217</td>\n",
       "      <td>-1.307075</td>\n",
       "      <td>0.611467</td>\n",
       "      <td>0.958090</td>\n",
       "      <td>-0.899750</td>\n",
       "      <td>0.488857</td>\n",
       "      <td>0.002086</td>\n",
       "      <td>-0.592849</td>\n",
       "      <td>-2.060441</td>\n",
       "      <td>1.222090</td>\n",
       "      <td>-0.601282</td>\n",
       "      <td>1.218511</td>\n",
       "      <td>-1.222910</td>\n",
       "      <td>-0.036016</td>\n",
       "      <td>0.861142</td>\n",
       "      <td>-0.606174</td>\n",
       "    </tr>\n",
       "  </tbody>\n",
       "</table>\n",
       "</div>"
      ],
      "text/plain": [
       "         0         1         2         3         4         5         6   \\\n",
       "0 -0.044756  0.931898 -0.647872 -1.461541  0.771175  0.403271 -0.159807   \n",
       "1  1.515010 -1.002006 -0.896119 -2.513083  0.584905  0.796780  1.070197   \n",
       "2  1.073595  1.225528  0.521122 -1.111005 -0.260766  1.828603 -1.368693   \n",
       "3 -0.523199 -1.003478  1.782459 -1.529944  0.108863 -1.084376  0.346453   \n",
       "4  1.765217 -1.307075  0.611467  0.958090 -0.899750  0.488857  0.002086   \n",
       "\n",
       "         7         8         9         10        11        12        13  \\\n",
       "0 -0.535154 -0.428420  1.370138  0.270355 -0.203266  0.023423  0.276096   \n",
       "1  0.889552 -0.458331 -0.795196  0.855268  1.135727 -0.289009 -0.314869   \n",
       "2 -0.276429 -0.479369 -0.856968  0.329954 -0.845552  0.860266 -0.384113   \n",
       "3  0.568763  0.403732  0.879879 -0.573756 -0.014428  0.356966 -0.293053   \n",
       "4 -0.592849 -2.060441  1.222090 -0.601282  1.218511 -1.222910 -0.036016   \n",
       "\n",
       "         14        15  \n",
       "0  2.076397 -0.894830  \n",
       "1  0.637485 -0.731157  \n",
       "2  0.068074  0.211669  \n",
       "3 -0.596919  0.928034  \n",
       "4  0.861142 -0.606174  "
      ]
     },
     "execution_count": 15,
     "metadata": {},
     "output_type": "execute_result"
    }
   ],
   "source": [
    "pd.DataFrame(obs_pca.transform(X_train)).head()"
   ]
  },
  {
   "cell_type": "code",
   "execution_count": 16,
   "id": "13b7ecb8",
   "metadata": {},
   "outputs": [],
   "source": [
    "#Guardar modelo de PCA:\n",
    "if not(os.path.exists('./Modelos/')):\n",
    "    os.mkdir('./Modelos/')\n",
    "\n",
    "with open('./Modelos/pca_model.pk', 'wb') as f:\n",
    "    pk.dump(obs_pca, f)"
   ]
  },
  {
   "cell_type": "code",
   "execution_count": 17,
   "id": "9cb346bb",
   "metadata": {},
   "outputs": [
    {
     "data": {
      "text/plain": [
       "(1688, 16)"
      ]
     },
     "execution_count": 17,
     "metadata": {},
     "output_type": "execute_result"
    }
   ],
   "source": [
    "#usar los 16 componentes principales para primera iteracion:\n",
    "X_train = obs_pca.transform(X_train)\n",
    "X_train.shape"
   ]
  },
  {
   "cell_type": "markdown",
   "id": "69f69ed8",
   "metadata": {},
   "source": [
    "## Multinomial Logistic Regression"
   ]
  },
  {
   "cell_type": "code",
   "execution_count": 18,
   "id": "e2f17930",
   "metadata": {
    "scrolled": true
   },
   "outputs": [
    {
     "data": {
      "text/plain": [
       "12108"
      ]
     },
     "execution_count": 18,
     "metadata": {},
     "output_type": "execute_result"
    }
   ],
   "source": [
    "from sklearn.linear_model import LogisticRegression\n",
    "from sklearn.model_selection import GridSearchCV, RandomizedSearchCV\n",
    "from sklearn.metrics import f1_score\n",
    "\n",
    "params_dict = {'multi_class': ['multinomial'],\n",
    "               'penalty': ['l1', 'l2', 'elasticnet'],\n",
    "               'C': np.arange(0.1,101,.1),\n",
    "               'class_weight': ['balanced'],\n",
    "               'solver' : ['newton-cg', 'sag', 'saga', 'lbfgs']\n",
    "              }\n",
    "\n",
    "model = LogisticRegression()\n",
    "\n",
    "combinacion_total=1\n",
    "for k, v in params_dict.items():\n",
    "    combinacion_total *=len(v)\n",
    "combinacion_total"
   ]
  },
  {
   "cell_type": "code",
   "execution_count": 19,
   "id": "e4fb5f85",
   "metadata": {},
   "outputs": [
    {
     "data": {
      "text/plain": [
       "{'solver': 'lbfgs',\n",
       " 'penalty': 'l2',\n",
       " 'multi_class': 'multinomial',\n",
       " 'class_weight': 'balanced',\n",
       " 'C': 88.0}"
      ]
     },
     "execution_count": 19,
     "metadata": {},
     "output_type": "execute_result"
    }
   ],
   "source": [
    "#Random search:\n",
    "random_cv = RandomizedSearchCV(LogisticRegression(), \n",
    "                               params_dict, \n",
    "                               scoring='f1_macro', \n",
    "                               cv=10, \n",
    "                               n_iter=120,\n",
    "                               n_jobs=-1,\n",
    "                               random_state=42)\n",
    "random_cv.fit(X_train, y_train)\n",
    "random_cv.best_params_"
   ]
  },
  {
   "cell_type": "code",
   "execution_count": 20,
   "id": "ba36fdad",
   "metadata": {},
   "outputs": [
    {
     "data": {
      "text/plain": [
       "0.9757109004739336"
      ]
     },
     "execution_count": 20,
     "metadata": {},
     "output_type": "execute_result"
    }
   ],
   "source": [
    "best_random = random_cv.best_estimator_\n",
    "best_random.score(X_train, y_train)"
   ]
  },
  {
   "cell_type": "code",
   "execution_count": 21,
   "id": "0b631c6b",
   "metadata": {},
   "outputs": [
    {
     "data": {
      "text/plain": [
       "9"
      ]
     },
     "execution_count": 21,
     "metadata": {},
     "output_type": "execute_result"
    }
   ],
   "source": [
    "params_dict = {'multi_class': ['multinomial'],\n",
    "               'penalty': ['l2'],\n",
    "               'C': np.arange(50,91,5),\n",
    "               'class_weight': ['balanced'],\n",
    "               'solver' : ['lbfgs']\n",
    "              }\n",
    "combinacion_total=1\n",
    "for k, v in params_dict.items():\n",
    "    combinacion_total *=len(v)\n",
    "combinacion_total"
   ]
  },
  {
   "cell_type": "code",
   "execution_count": 22,
   "id": "f19cf170",
   "metadata": {},
   "outputs": [
    {
     "name": "stdout",
     "output_type": "stream",
     "text": [
      "Fitting 10 folds for each of 9 candidates, totalling 90 fits\n"
     ]
    },
    {
     "data": {
      "text/plain": [
       "GridSearchCV(cv=10, estimator=LogisticRegression(), n_jobs=-1,\n",
       "             param_grid={'C': array([50, 55, 60, 65, 70, 75, 80, 85, 90]),\n",
       "                         'class_weight': ['balanced'],\n",
       "                         'multi_class': ['multinomial'], 'penalty': ['l2'],\n",
       "                         'solver': ['lbfgs']},\n",
       "             scoring='f1_macro', verbose=2)"
      ]
     },
     "execution_count": 22,
     "metadata": {},
     "output_type": "execute_result"
    }
   ],
   "source": [
    "#GridSearch:\n",
    "model = LogisticRegression()\n",
    "grid_cv = GridSearchCV(estimator = model, \n",
    "                       param_grid = params_dict, \n",
    "                       scoring='f1_macro',\n",
    "                       cv = 10,\n",
    "                       verbose=2, \n",
    "                       n_jobs = -1\n",
    "                       )\n",
    "grid_cv.fit(X_train, y_train)"
   ]
  },
  {
   "cell_type": "code",
   "execution_count": 23,
   "id": "3340e156",
   "metadata": {},
   "outputs": [
    {
     "data": {
      "text/plain": [
       "({'C': 70,\n",
       "  'class_weight': 'balanced',\n",
       "  'multi_class': 'multinomial',\n",
       "  'penalty': 'l2',\n",
       "  'solver': 'lbfgs'},\n",
       " 0.9523066273157268)"
      ]
     },
     "execution_count": 23,
     "metadata": {},
     "output_type": "execute_result"
    }
   ],
   "source": [
    "grid_cv.best_params_, grid_cv.best_score_"
   ]
  },
  {
   "cell_type": "code",
   "execution_count": 24,
   "id": "500e7894",
   "metadata": {},
   "outputs": [
    {
     "data": {
      "text/plain": [
       "LogisticRegression(C=70, class_weight='balanced', multi_class='multinomial',\n",
       "                   random_state=42)"
      ]
     },
     "execution_count": 24,
     "metadata": {},
     "output_type": "execute_result"
    }
   ],
   "source": [
    "lgr_model = LogisticRegression(**grid_cv.best_params_, random_state=42)\n",
    "lgr_model.fit(X_train, y_train)"
   ]
  },
  {
   "cell_type": "code",
   "execution_count": 25,
   "id": "d42f93ba",
   "metadata": {},
   "outputs": [
    {
     "data": {
      "text/plain": [
       "0.9742305542414001"
      ]
     },
     "execution_count": 25,
     "metadata": {},
     "output_type": "execute_result"
    }
   ],
   "source": [
    "f1_score(y_train, lgr_model.predict(X_train), average='macro')"
   ]
  },
  {
   "cell_type": "code",
   "execution_count": 26,
   "id": "c2bb83ed",
   "metadata": {},
   "outputs": [
    {
     "data": {
      "text/plain": [
       "(423, 16)"
      ]
     },
     "execution_count": 26,
     "metadata": {},
     "output_type": "execute_result"
    }
   ],
   "source": [
    "#Preparar datos de prueba:\n",
    "X_test.loc[:, cat_cols] = scaler_cat.transform(X_test.loc[:,cat_cols].values)\n",
    "X_test.loc[:, num_cols] = scaler_num.transform(X_test.loc[:,num_cols].values)\n",
    "\n",
    "X_test = obs_pca.transform(X_test)\n",
    "X_test.shape"
   ]
  },
  {
   "cell_type": "code",
   "execution_count": 27,
   "id": "a8739436",
   "metadata": {},
   "outputs": [
    {
     "data": {
      "text/plain": [
       "0.9443603334698233"
      ]
     },
     "execution_count": 27,
     "metadata": {},
     "output_type": "execute_result"
    }
   ],
   "source": [
    "y_hat = lgr_model.predict(X_test)\n",
    "f1_score(y_test, y_hat, average='macro')"
   ]
  },
  {
   "cell_type": "code",
   "execution_count": 28,
   "id": "1221ae16",
   "metadata": {},
   "outputs": [
    {
     "name": "stdout",
     "output_type": "stream",
     "text": [
      "                     precision    recall  f1-score   support\n",
      "\n",
      "Insufficient_Weight       0.95      1.00      0.97        54\n",
      "      Normal_Weight       0.93      0.90      0.91        58\n",
      " Overweight_Level_I       0.93      0.86      0.89        58\n",
      "Overweight_Level_II       0.92      0.93      0.92        58\n",
      "     Obesity_Type_I       0.94      0.97      0.96        70\n",
      "    Obesity_Type_II       0.95      0.98      0.97        60\n",
      "   Obesity_Type_III       1.00      0.97      0.98        65\n",
      "\n",
      "           accuracy                           0.95       423\n",
      "          macro avg       0.94      0.94      0.94       423\n",
      "       weighted avg       0.95      0.95      0.95       423\n",
      "\n"
     ]
    },
    {
     "data": {
      "image/png": "[encoded data removed]",
      "text/plain": [
       "<Figure size 504x360 with 2 Axes>"
      ]
     },
     "metadata": {},
     "output_type": "display_data"
    }
   ],
   "source": [
    "from sklearn.metrics import confusion_matrix, ConfusionMatrixDisplay, classification_report\n",
    "\n",
    "def GraficaCM(y_test, y_hat, class_dict):\n",
    "\n",
    "    labels_classes = list(class_dict.keys())\n",
    "    \n",
    "    cm = confusion_matrix(y_test, y_hat)\n",
    "\n",
    "    print(classification_report(y_test, y_hat, target_names=labels_classes))\n",
    "\n",
    "    fig, axs = plt.subplots(figsize=(7,5))\n",
    "\n",
    "    sns.heatmap(cm, annot=True, ax=axs, cmap='magma_r')\n",
    "\n",
    "    axs.set_yticks(np.arange(len(labels_classes))+.5)\n",
    "    axs.set_xticks(np.arange(len(labels_classes))+.5)\n",
    "\n",
    "    axs.set_xticklabels(labels_classes, rotation=90)\n",
    "    axs.set_yticklabels(labels_classes, rotation=0)\n",
    "\n",
    "    axs.set_ylabel('Verdadero')\n",
    "    axs.set_xlabel('Estimado')\n",
    "\n",
    "    plt.show()\n",
    "    \n",
    "GraficaCM(y_test, y_hat, class_dict)"
   ]
  },
  {
   "cell_type": "markdown",
   "id": "b563038c",
   "metadata": {},
   "source": [
    "## Decision Trees"
   ]
  },
  {
   "cell_type": "markdown",
   "id": "f80984e2",
   "metadata": {},
   "source": [
    "## SVM"
   ]
  },
  {
   "cell_type": "code",
   "execution_count": null,
   "id": "b49d0748",
   "metadata": {},
   "outputs": [],
   "source": []
  }
 ],
 "metadata": {
  "kernelspec": {
   "display_name": "Python 3 (ipykernel)",
   "language": "python",
   "name": "python3"
  },
  "language_info": {
   "codemirror_mode": {
    "name": "ipython",
    "version": 3
   },
   "file_extension": ".py",
   "mimetype": "text/x-python",
   "name": "python",
   "nbconvert_exporter": "python",
   "pygments_lexer": "ipython3",
   "version": "3.8.0"
  }
 },
 "nbformat": 4,
 "nbformat_minor": 5
}
