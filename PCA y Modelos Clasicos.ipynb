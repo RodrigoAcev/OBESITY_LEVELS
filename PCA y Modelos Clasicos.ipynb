{
 "cells": [
  {
   "cell_type": "code",
   "execution_count": 1,
   "id": "c950bd7d",
   "metadata": {},
   "outputs": [],
   "source": [
    "import pandas as pd\n",
    "import numpy as np\n",
    "import os\n",
    "import pickle as pk\n",
    "import matplotlib.pyplot as plt\n",
    "import seaborn as sns\n",
    "\n",
    "import warnings\n",
    "\n",
    "warnings.filterwarnings('ignore')\n",
    "plt.style.use('ggplot')"
   ]
  },
  {
   "cell_type": "markdown",
   "id": "e22e7b6a",
   "metadata": {},
   "source": [
    "## Dataset:"
   ]
  },
  {
   "cell_type": "code",
   "execution_count": 2,
   "id": "f0db6935",
   "metadata": {},
   "outputs": [],
   "source": [
    "DATA_path= 'https://raw.githubusercontent.com/RodrigoAcev/OBESITY_LEVELS/master/data/ObesityDataSet_raw_and_data_sinthetic.csv'"
   ]
  },
  {
   "cell_type": "code",
   "execution_count": 3,
   "id": "b9155fa5",
   "metadata": {},
   "outputs": [
    {
     "data": {
      "text/html": [
       "<div>\n",
       "<style scoped>\n",
       "    .dataframe tbody tr th:only-of-type {\n",
       "        vertical-align: middle;\n",
       "    }\n",
       "\n",
       "    .dataframe tbody tr th {\n",
       "        vertical-align: top;\n",
       "    }\n",
       "\n",
       "    .dataframe thead th {\n",
       "        text-align: right;\n",
       "    }\n",
       "</style>\n",
       "<table border=\"1\" class=\"dataframe\">\n",
       "  <thead>\n",
       "    <tr style=\"text-align: right;\">\n",
       "      <th></th>\n",
       "      <th>Gender</th>\n",
       "      <th>Age</th>\n",
       "      <th>Height</th>\n",
       "      <th>Weight</th>\n",
       "      <th>family_history_with_overweight</th>\n",
       "      <th>FAVC</th>\n",
       "      <th>FCVC</th>\n",
       "      <th>NCP</th>\n",
       "      <th>CAEC</th>\n",
       "      <th>SMOKE</th>\n",
       "      <th>CH2O</th>\n",
       "      <th>SCC</th>\n",
       "      <th>FAF</th>\n",
       "      <th>TUE</th>\n",
       "      <th>CALC</th>\n",
       "      <th>MTRANS</th>\n",
       "      <th>NObeyesdad</th>\n",
       "    </tr>\n",
       "  </thead>\n",
       "  <tbody>\n",
       "    <tr>\n",
       "      <th>0</th>\n",
       "      <td>Female</td>\n",
       "      <td>21.0</td>\n",
       "      <td>1.62</td>\n",
       "      <td>64.0</td>\n",
       "      <td>yes</td>\n",
       "      <td>no</td>\n",
       "      <td>2.0</td>\n",
       "      <td>3.0</td>\n",
       "      <td>Sometimes</td>\n",
       "      <td>no</td>\n",
       "      <td>2.0</td>\n",
       "      <td>no</td>\n",
       "      <td>0.0</td>\n",
       "      <td>1.0</td>\n",
       "      <td>no</td>\n",
       "      <td>Public_Transportation</td>\n",
       "      <td>Normal_Weight</td>\n",
       "    </tr>\n",
       "    <tr>\n",
       "      <th>1</th>\n",
       "      <td>Female</td>\n",
       "      <td>21.0</td>\n",
       "      <td>1.52</td>\n",
       "      <td>56.0</td>\n",
       "      <td>yes</td>\n",
       "      <td>no</td>\n",
       "      <td>3.0</td>\n",
       "      <td>3.0</td>\n",
       "      <td>Sometimes</td>\n",
       "      <td>yes</td>\n",
       "      <td>3.0</td>\n",
       "      <td>yes</td>\n",
       "      <td>3.0</td>\n",
       "      <td>0.0</td>\n",
       "      <td>Sometimes</td>\n",
       "      <td>Public_Transportation</td>\n",
       "      <td>Normal_Weight</td>\n",
       "    </tr>\n",
       "    <tr>\n",
       "      <th>2</th>\n",
       "      <td>Male</td>\n",
       "      <td>23.0</td>\n",
       "      <td>1.80</td>\n",
       "      <td>77.0</td>\n",
       "      <td>yes</td>\n",
       "      <td>no</td>\n",
       "      <td>2.0</td>\n",
       "      <td>3.0</td>\n",
       "      <td>Sometimes</td>\n",
       "      <td>no</td>\n",
       "      <td>2.0</td>\n",
       "      <td>no</td>\n",
       "      <td>2.0</td>\n",
       "      <td>1.0</td>\n",
       "      <td>Frequently</td>\n",
       "      <td>Public_Transportation</td>\n",
       "      <td>Normal_Weight</td>\n",
       "    </tr>\n",
       "    <tr>\n",
       "      <th>3</th>\n",
       "      <td>Male</td>\n",
       "      <td>27.0</td>\n",
       "      <td>1.80</td>\n",
       "      <td>87.0</td>\n",
       "      <td>no</td>\n",
       "      <td>no</td>\n",
       "      <td>3.0</td>\n",
       "      <td>3.0</td>\n",
       "      <td>Sometimes</td>\n",
       "      <td>no</td>\n",
       "      <td>2.0</td>\n",
       "      <td>no</td>\n",
       "      <td>2.0</td>\n",
       "      <td>0.0</td>\n",
       "      <td>Frequently</td>\n",
       "      <td>Walking</td>\n",
       "      <td>Overweight_Level_I</td>\n",
       "    </tr>\n",
       "    <tr>\n",
       "      <th>4</th>\n",
       "      <td>Male</td>\n",
       "      <td>22.0</td>\n",
       "      <td>1.78</td>\n",
       "      <td>89.8</td>\n",
       "      <td>no</td>\n",
       "      <td>no</td>\n",
       "      <td>2.0</td>\n",
       "      <td>1.0</td>\n",
       "      <td>Sometimes</td>\n",
       "      <td>no</td>\n",
       "      <td>2.0</td>\n",
       "      <td>no</td>\n",
       "      <td>0.0</td>\n",
       "      <td>0.0</td>\n",
       "      <td>Sometimes</td>\n",
       "      <td>Public_Transportation</td>\n",
       "      <td>Overweight_Level_II</td>\n",
       "    </tr>\n",
       "  </tbody>\n",
       "</table>\n",
       "</div>"
      ],
      "text/plain": [
       "   Gender   Age  Height  Weight family_history_with_overweight FAVC  FCVC  \\\n",
       "0  Female  21.0    1.62    64.0                            yes   no   2.0   \n",
       "1  Female  21.0    1.52    56.0                            yes   no   3.0   \n",
       "2    Male  23.0    1.80    77.0                            yes   no   2.0   \n",
       "3    Male  27.0    1.80    87.0                             no   no   3.0   \n",
       "4    Male  22.0    1.78    89.8                             no   no   2.0   \n",
       "\n",
       "   NCP       CAEC SMOKE  CH2O  SCC  FAF  TUE        CALC  \\\n",
       "0  3.0  Sometimes    no   2.0   no  0.0  1.0          no   \n",
       "1  3.0  Sometimes   yes   3.0  yes  3.0  0.0   Sometimes   \n",
       "2  3.0  Sometimes    no   2.0   no  2.0  1.0  Frequently   \n",
       "3  3.0  Sometimes    no   2.0   no  2.0  0.0  Frequently   \n",
       "4  1.0  Sometimes    no   2.0   no  0.0  0.0   Sometimes   \n",
       "\n",
       "                  MTRANS           NObeyesdad  \n",
       "0  Public_Transportation        Normal_Weight  \n",
       "1  Public_Transportation        Normal_Weight  \n",
       "2  Public_Transportation        Normal_Weight  \n",
       "3                Walking   Overweight_Level_I  \n",
       "4  Public_Transportation  Overweight_Level_II  "
      ]
     },
     "execution_count": 3,
     "metadata": {},
     "output_type": "execute_result"
    }
   ],
   "source": [
    "df = pd.read_csv(DATA_path)\n",
    "df.head()"
   ]
  },
  {
   "cell_type": "markdown",
   "id": "78070f10",
   "metadata": {},
   "source": [
    "## Transformación variables categóricas:"
   ]
  },
  {
   "cell_type": "code",
   "execution_count": 4,
   "id": "3feba626",
   "metadata": {},
   "outputs": [],
   "source": [
    "#Nombre de columnas con datos categoricos y numericos:\n",
    "cat_cols = ['Gender', 'family_history_with_overweight', 'FAVC', 'CAEC', 'SMOKE',\n",
    "            'SCC', 'CALC', 'MTRANS']\n",
    "\n",
    "num_cols = ['Age', 'Height', 'Weight', 'FCVC', 'NCP', 'CH2O', 'FAF', 'TUE']"
   ]
  },
  {
   "cell_type": "code",
   "execution_count": 5,
   "id": "b1c4302f",
   "metadata": {},
   "outputs": [],
   "source": [
    "#Diccionario con clases \n",
    "class_dict = {'Insufficient_Weight': 0,\n",
    "              'Normal_Weight': 1,\n",
    "              'Overweight_Level_I': 2,\n",
    "              'Overweight_Level_II': 3,\n",
    "              'Obesity_Type_I': 4,\n",
    "              'Obesity_Type_II': 5,\n",
    "              'Obesity_Type_III': 6}\n",
    "\n",
    "inv_class = dict((v_i,k_i) for k_i, v_i in class_dict.items())\n",
    "#inv_class\n",
    "\n",
    "df['NObeyesdad'] = df['NObeyesdad'].apply(lambda x: class_dict[x])"
   ]
  },
  {
   "cell_type": "code",
   "execution_count": 6,
   "id": "0c62d166",
   "metadata": {},
   "outputs": [],
   "source": [
    "#Diccionario para transformacion de variables categoricas a numericas:\n",
    "attr_dic = {'yes':1,\n",
    "            'no':0,\n",
    "            'Sometimes':1,\n",
    "            'Frequently':2,\n",
    "            'Always':3,\n",
    "            'Male':0,\n",
    "            'Female':1,\n",
    "            'Walking':0,\n",
    "            'Bike':1,\n",
    "            'Public_Transportation':2,\n",
    "            'Motorbike':3,\n",
    "            'Automobile':4\n",
    "           }"
   ]
  },
  {
   "cell_type": "code",
   "execution_count": 7,
   "id": "b743f91e",
   "metadata": {},
   "outputs": [
    {
     "name": "stdout",
     "output_type": "stream",
     "text": [
      "<class 'pandas.core.frame.DataFrame'>\n",
      "RangeIndex: 2111 entries, 0 to 2110\n",
      "Data columns (total 17 columns):\n",
      " #   Column                          Non-Null Count  Dtype  \n",
      "---  ------                          --------------  -----  \n",
      " 0   Gender                          2111 non-null   int64  \n",
      " 1   Age                             2111 non-null   float64\n",
      " 2   Height                          2111 non-null   float64\n",
      " 3   Weight                          2111 non-null   float64\n",
      " 4   family_history_with_overweight  2111 non-null   int64  \n",
      " 5   FAVC                            2111 non-null   int64  \n",
      " 6   FCVC                            2111 non-null   float64\n",
      " 7   NCP                             2111 non-null   float64\n",
      " 8   CAEC                            2111 non-null   int64  \n",
      " 9   SMOKE                           2111 non-null   int64  \n",
      " 10  CH2O                            2111 non-null   float64\n",
      " 11  SCC                             2111 non-null   int64  \n",
      " 12  FAF                             2111 non-null   float64\n",
      " 13  TUE                             2111 non-null   float64\n",
      " 14  CALC                            2111 non-null   int64  \n",
      " 15  MTRANS                          2111 non-null   int64  \n",
      " 16  NObeyesdad                      2111 non-null   int64  \n",
      "dtypes: float64(8), int64(9)\n",
      "memory usage: 280.5 KB\n"
     ]
    }
   ],
   "source": [
    "df.replace(attr_dic, inplace=True)\n",
    "df.info()"
   ]
  },
  {
   "cell_type": "markdown",
   "id": "9ac0891f",
   "metadata": {},
   "source": [
    "## Train & Test Split"
   ]
  },
  {
   "cell_type": "code",
   "execution_count": 8,
   "id": "5c7eb815",
   "metadata": {},
   "outputs": [],
   "source": [
    "X = df.drop('NObeyesdad', axis=1).copy()\n",
    "y = df['NObeyesdad'].copy()"
   ]
  },
  {
   "cell_type": "code",
   "execution_count": 9,
   "id": "e252f042",
   "metadata": {},
   "outputs": [
    {
     "data": {
      "text/plain": [
       "((1688, 16), (423, 16))"
      ]
     },
     "execution_count": 9,
     "metadata": {},
     "output_type": "execute_result"
    }
   ],
   "source": [
    "from sklearn.model_selection import train_test_split\n",
    "\n",
    "X_train, X_test, y_train, y_test = train_test_split(X, y, test_size=.2, stratify=y, random_state=42)\n",
    "X_train.shape, X_test.shape"
   ]
  },
  {
   "cell_type": "markdown",
   "id": "b9737388",
   "metadata": {},
   "source": [
    "## Normalización de datos"
   ]
  },
  {
   "cell_type": "code",
   "execution_count": 10,
   "id": "2b35e2e3",
   "metadata": {},
   "outputs": [
    {
     "data": {
      "text/html": [
       "<div>\n",
       "<style scoped>\n",
       "    .dataframe tbody tr th:only-of-type {\n",
       "        vertical-align: middle;\n",
       "    }\n",
       "\n",
       "    .dataframe tbody tr th {\n",
       "        vertical-align: top;\n",
       "    }\n",
       "\n",
       "    .dataframe thead th {\n",
       "        text-align: right;\n",
       "    }\n",
       "</style>\n",
       "<table border=\"1\" class=\"dataframe\">\n",
       "  <thead>\n",
       "    <tr style=\"text-align: right;\">\n",
       "      <th></th>\n",
       "      <th>Gender</th>\n",
       "      <th>Age</th>\n",
       "      <th>Height</th>\n",
       "      <th>Weight</th>\n",
       "      <th>family_history_with_overweight</th>\n",
       "      <th>FAVC</th>\n",
       "      <th>FCVC</th>\n",
       "      <th>NCP</th>\n",
       "      <th>CAEC</th>\n",
       "      <th>SMOKE</th>\n",
       "      <th>CH2O</th>\n",
       "      <th>SCC</th>\n",
       "      <th>FAF</th>\n",
       "      <th>TUE</th>\n",
       "      <th>CALC</th>\n",
       "      <th>MTRANS</th>\n",
       "    </tr>\n",
       "  </thead>\n",
       "  <tbody>\n",
       "    <tr>\n",
       "      <th>count</th>\n",
       "      <td>1.688000e+03</td>\n",
       "      <td>1.688000e+03</td>\n",
       "      <td>1.688000e+03</td>\n",
       "      <td>1.688000e+03</td>\n",
       "      <td>1.688000e+03</td>\n",
       "      <td>1.688000e+03</td>\n",
       "      <td>1.688000e+03</td>\n",
       "      <td>1.688000e+03</td>\n",
       "      <td>1.688000e+03</td>\n",
       "      <td>1.688000e+03</td>\n",
       "      <td>1.688000e+03</td>\n",
       "      <td>1.688000e+03</td>\n",
       "      <td>1.688000e+03</td>\n",
       "      <td>1.688000e+03</td>\n",
       "      <td>1.688000e+03</td>\n",
       "      <td>1.688000e+03</td>\n",
       "    </tr>\n",
       "    <tr>\n",
       "      <th>mean</th>\n",
       "      <td>4.735548e-18</td>\n",
       "      <td>1.309017e-16</td>\n",
       "      <td>-4.535603e-16</td>\n",
       "      <td>-5.187399e-16</td>\n",
       "      <td>4.944044e-16</td>\n",
       "      <td>-1.580489e-16</td>\n",
       "      <td>-4.338289e-16</td>\n",
       "      <td>6.387729e-16</td>\n",
       "      <td>-1.075035e-16</td>\n",
       "      <td>5.557692e-18</td>\n",
       "      <td>1.937875e-16</td>\n",
       "      <td>-1.526557e-16</td>\n",
       "      <td>-3.848620e-16</td>\n",
       "      <td>1.514060e-16</td>\n",
       "      <td>-3.543769e-16</td>\n",
       "      <td>-1.705126e-16</td>\n",
       "    </tr>\n",
       "    <tr>\n",
       "      <th>std</th>\n",
       "      <td>1.000296e+00</td>\n",
       "      <td>1.000296e+00</td>\n",
       "      <td>1.000296e+00</td>\n",
       "      <td>1.000296e+00</td>\n",
       "      <td>1.000296e+00</td>\n",
       "      <td>1.000296e+00</td>\n",
       "      <td>1.000296e+00</td>\n",
       "      <td>1.000296e+00</td>\n",
       "      <td>1.000296e+00</td>\n",
       "      <td>1.000296e+00</td>\n",
       "      <td>1.000296e+00</td>\n",
       "      <td>1.000296e+00</td>\n",
       "      <td>1.000296e+00</td>\n",
       "      <td>1.000296e+00</td>\n",
       "      <td>1.000296e+00</td>\n",
       "      <td>1.000296e+00</td>\n",
       "    </tr>\n",
       "    <tr>\n",
       "      <th>min</th>\n",
       "      <td>-9.976331e-01</td>\n",
       "      <td>-1.474967e+00</td>\n",
       "      <td>-2.692580e+00</td>\n",
       "      <td>-1.819299e+00</td>\n",
       "      <td>-2.129419e+00</td>\n",
       "      <td>-2.759030e+00</td>\n",
       "      <td>-2.659811e+00</td>\n",
       "      <td>-2.150047e+00</td>\n",
       "      <td>-2.423677e+00</td>\n",
       "      <td>-1.455116e-01</td>\n",
       "      <td>-1.655005e+00</td>\n",
       "      <td>-2.215825e-01</td>\n",
       "      <td>-1.185094e+00</td>\n",
       "      <td>-1.069742e+00</td>\n",
       "      <td>-1.397473e+00</td>\n",
       "      <td>-2.603713e+00</td>\n",
       "    </tr>\n",
       "    <tr>\n",
       "      <th>25%</th>\n",
       "      <td>-9.976331e-01</td>\n",
       "      <td>-6.919806e-01</td>\n",
       "      <td>-7.709508e-01</td>\n",
       "      <td>-7.810441e-01</td>\n",
       "      <td>4.696116e-01</td>\n",
       "      <td>3.624463e-01</td>\n",
       "      <td>-7.811726e-01</td>\n",
       "      <td>-4.719466e-02</td>\n",
       "      <td>-2.917506e-01</td>\n",
       "      <td>-1.455116e-01</td>\n",
       "      <td>-6.591605e-01</td>\n",
       "      <td>-2.215825e-01</td>\n",
       "      <td>-1.051606e+00</td>\n",
       "      <td>-1.069742e+00</td>\n",
       "      <td>-1.397473e+00</td>\n",
       "      <td>-4.263201e-01</td>\n",
       "    </tr>\n",
       "    <tr>\n",
       "      <th>50%</th>\n",
       "      <td>-9.976331e-01</td>\n",
       "      <td>-2.397809e-01</td>\n",
       "      <td>2.187898e-05</td>\n",
       "      <td>-1.430424e-01</td>\n",
       "      <td>4.696116e-01</td>\n",
       "      <td>3.624463e-01</td>\n",
       "      <td>-1.381681e-01</td>\n",
       "      <td>4.083130e-01</td>\n",
       "      <td>-2.917506e-01</td>\n",
       "      <td>-1.455116e-01</td>\n",
       "      <td>-1.485667e-02</td>\n",
       "      <td>-2.215825e-01</td>\n",
       "      <td>2.017320e-03</td>\n",
       "      <td>-5.807430e-02</td>\n",
       "      <td>5.219202e-01</td>\n",
       "      <td>-4.263201e-01</td>\n",
       "    </tr>\n",
       "    <tr>\n",
       "      <th>75%</th>\n",
       "      <td>1.002372e+00</td>\n",
       "      <td>2.676076e-01</td>\n",
       "      <td>7.057043e-01</td>\n",
       "      <td>7.961633e-01</td>\n",
       "      <td>4.696116e-01</td>\n",
       "      <td>3.624463e-01</td>\n",
       "      <td>1.097466e+00</td>\n",
       "      <td>4.083130e-01</td>\n",
       "      <td>-2.917506e-01</td>\n",
       "      <td>-1.455116e-01</td>\n",
       "      <td>7.710986e-01</td>\n",
       "      <td>-2.215825e-01</td>\n",
       "      <td>7.803043e-01</td>\n",
       "      <td>5.780955e-01</td>\n",
       "      <td>5.219202e-01</td>\n",
       "      <td>-4.263201e-01</td>\n",
       "    </tr>\n",
       "    <tr>\n",
       "      <th>max</th>\n",
       "      <td>1.002372e+00</td>\n",
       "      <td>5.812162e+00</td>\n",
       "      <td>3.015736e+00</td>\n",
       "      <td>3.028093e+00</td>\n",
       "      <td>4.696116e-01</td>\n",
       "      <td>3.624463e-01</td>\n",
       "      <td>1.097466e+00</td>\n",
       "      <td>1.687493e+00</td>\n",
       "      <td>3.972103e+00</td>\n",
       "      <td>6.872305e+00</td>\n",
       "      <td>1.625291e+00</td>\n",
       "      <td>4.512991e+00</td>\n",
       "      <td>2.376240e+00</td>\n",
       "      <td>2.225933e+00</td>\n",
       "      <td>4.360706e+00</td>\n",
       "      <td>1.751073e+00</td>\n",
       "    </tr>\n",
       "  </tbody>\n",
       "</table>\n",
       "</div>"
      ],
      "text/plain": [
       "             Gender           Age        Height        Weight  \\\n",
       "count  1.688000e+03  1.688000e+03  1.688000e+03  1.688000e+03   \n",
       "mean   4.735548e-18  1.309017e-16 -4.535603e-16 -5.187399e-16   \n",
       "std    1.000296e+00  1.000296e+00  1.000296e+00  1.000296e+00   \n",
       "min   -9.976331e-01 -1.474967e+00 -2.692580e+00 -1.819299e+00   \n",
       "25%   -9.976331e-01 -6.919806e-01 -7.709508e-01 -7.810441e-01   \n",
       "50%   -9.976331e-01 -2.397809e-01  2.187898e-05 -1.430424e-01   \n",
       "75%    1.002372e+00  2.676076e-01  7.057043e-01  7.961633e-01   \n",
       "max    1.002372e+00  5.812162e+00  3.015736e+00  3.028093e+00   \n",
       "\n",
       "       family_history_with_overweight          FAVC          FCVC  \\\n",
       "count                    1.688000e+03  1.688000e+03  1.688000e+03   \n",
       "mean                     4.944044e-16 -1.580489e-16 -4.338289e-16   \n",
       "std                      1.000296e+00  1.000296e+00  1.000296e+00   \n",
       "min                     -2.129419e+00 -2.759030e+00 -2.659811e+00   \n",
       "25%                      4.696116e-01  3.624463e-01 -7.811726e-01   \n",
       "50%                      4.696116e-01  3.624463e-01 -1.381681e-01   \n",
       "75%                      4.696116e-01  3.624463e-01  1.097466e+00   \n",
       "max                      4.696116e-01  3.624463e-01  1.097466e+00   \n",
       "\n",
       "                NCP          CAEC         SMOKE          CH2O           SCC  \\\n",
       "count  1.688000e+03  1.688000e+03  1.688000e+03  1.688000e+03  1.688000e+03   \n",
       "mean   6.387729e-16 -1.075035e-16  5.557692e-18  1.937875e-16 -1.526557e-16   \n",
       "std    1.000296e+00  1.000296e+00  1.000296e+00  1.000296e+00  1.000296e+00   \n",
       "min   -2.150047e+00 -2.423677e+00 -1.455116e-01 -1.655005e+00 -2.215825e-01   \n",
       "25%   -4.719466e-02 -2.917506e-01 -1.455116e-01 -6.591605e-01 -2.215825e-01   \n",
       "50%    4.083130e-01 -2.917506e-01 -1.455116e-01 -1.485667e-02 -2.215825e-01   \n",
       "75%    4.083130e-01 -2.917506e-01 -1.455116e-01  7.710986e-01 -2.215825e-01   \n",
       "max    1.687493e+00  3.972103e+00  6.872305e+00  1.625291e+00  4.512991e+00   \n",
       "\n",
       "                FAF           TUE          CALC        MTRANS  \n",
       "count  1.688000e+03  1.688000e+03  1.688000e+03  1.688000e+03  \n",
       "mean  -3.848620e-16  1.514060e-16 -3.543769e-16 -1.705126e-16  \n",
       "std    1.000296e+00  1.000296e+00  1.000296e+00  1.000296e+00  \n",
       "min   -1.185094e+00 -1.069742e+00 -1.397473e+00 -2.603713e+00  \n",
       "25%   -1.051606e+00 -1.069742e+00 -1.397473e+00 -4.263201e-01  \n",
       "50%    2.017320e-03 -5.807430e-02  5.219202e-01 -4.263201e-01  \n",
       "75%    7.803043e-01  5.780955e-01  5.219202e-01 -4.263201e-01  \n",
       "max    2.376240e+00  2.225933e+00  4.360706e+00  1.751073e+00  "
      ]
     },
     "execution_count": 10,
     "metadata": {},
     "output_type": "execute_result"
    }
   ],
   "source": [
    "from sklearn.preprocessing import StandardScaler\n",
    "\n",
    "#Normalizacion datos categoricos:\n",
    "scaler_cat = StandardScaler()\n",
    "X_train.loc[:,cat_cols] = scaler_cat.fit_transform(X_train.loc[:,cat_cols].values)\n",
    "\n",
    "#Normalizacion datos numericos:\n",
    "scaler_num = StandardScaler()\n",
    "X_train.loc[:,num_cols] = scaler_num.fit_transform(X_train.loc[:,num_cols].values)\n",
    "X_train.describe()"
   ]
  },
  {
   "cell_type": "code",
   "execution_count": 11,
   "id": "e59d310d",
   "metadata": {},
   "outputs": [],
   "source": [
    "#Guardar scalers:\n",
    "if not(os.path.exists('./Scalers/')):\n",
    "    os.mkdir('./Scalers/')\n",
    "\n",
    "with open('./Scalers/scaler_cat.scaler', 'wb') as f:\n",
    "    pk.dump(scaler_cat, f)\n",
    "\n",
    "with open('./Scalers/scaler_num.scaler', 'wb') as f:\n",
    "    pk.dump(scaler_num, f)"
   ]
  },
  {
   "cell_type": "markdown",
   "id": "4f0e2ea4",
   "metadata": {},
   "source": [
    "## PCA"
   ]
  },
  {
   "cell_type": "code",
   "execution_count": 12,
   "id": "e8c14da0",
   "metadata": {},
   "outputs": [
    {
     "data": {
      "text/plain": [
       "(16, 16)"
      ]
     },
     "execution_count": 12,
     "metadata": {},
     "output_type": "execute_result"
    }
   ],
   "source": [
    "from sklearn.decomposition import PCA\n",
    "\n",
    "obs_pca = PCA().fit(X_train)\n",
    "obs_pca.components_.shape"
   ]
  },
  {
   "cell_type": "code",
   "execution_count": 13,
   "id": "e65bceed",
   "metadata": {},
   "outputs": [
    {
     "data": {
      "image/png": "[encoded data removed]",
      "text/plain": [
       "<Figure size 576x360 with 1 Axes>"
      ]
     },
     "metadata": {},
     "output_type": "display_data"
    }
   ],
   "source": [
    "fig, axs = plt.subplots(figsize=(8,5))\n",
    "\n",
    "pca_pve = obs_pca.explained_variance_ratio_\n",
    "x_axis = np.arange(1, obs_pca.components_.shape[0]+1)\n",
    "\n",
    "axs.plot(x_axis, np.cumsum(pca_pve), 'o-', label='PVE Acumulativo')\n",
    "axs.plot(x_axis, pca_pve, 'o-', label='PVE individual')\n",
    "\n",
    "axs.set_yticks(np.arange(0,1.1,.1))\n",
    "axs.set_xticks(x_axis)\n",
    "axs.set_ylabel('PVE')\n",
    "axs.set_xlabel('Componente Principal')\n",
    "\n",
    "plt.legend()\n",
    "plt.show()"
   ]
  },
  {
   "cell_type": "code",
   "execution_count": 14,
   "id": "2adce999",
   "metadata": {},
   "outputs": [
    {
     "data": {
      "text/html": [
       "<div>\n",
       "<style scoped>\n",
       "    .dataframe tbody tr th:only-of-type {\n",
       "        vertical-align: middle;\n",
       "    }\n",
       "\n",
       "    .dataframe tbody tr th {\n",
       "        vertical-align: top;\n",
       "    }\n",
       "\n",
       "    .dataframe thead th {\n",
       "        text-align: right;\n",
       "    }\n",
       "</style>\n",
       "<table border=\"1\" class=\"dataframe\">\n",
       "  <thead>\n",
       "    <tr style=\"text-align: right;\">\n",
       "      <th></th>\n",
       "      <th>Gender</th>\n",
       "      <th>Age</th>\n",
       "      <th>Height</th>\n",
       "      <th>Weight</th>\n",
       "      <th>family_history_with_overweight</th>\n",
       "      <th>FAVC</th>\n",
       "      <th>FCVC</th>\n",
       "      <th>NCP</th>\n",
       "      <th>CAEC</th>\n",
       "      <th>SMOKE</th>\n",
       "      <th>CH2O</th>\n",
       "      <th>SCC</th>\n",
       "      <th>FAF</th>\n",
       "      <th>TUE</th>\n",
       "      <th>CALC</th>\n",
       "      <th>MTRANS</th>\n",
       "    </tr>\n",
       "  </thead>\n",
       "  <tbody>\n",
       "    <tr>\n",
       "      <th>442</th>\n",
       "      <td>-0.997633</td>\n",
       "      <td>0.267608</td>\n",
       "      <td>0.215430</td>\n",
       "      <td>-0.819498</td>\n",
       "      <td>0.469612</td>\n",
       "      <td>0.362446</td>\n",
       "      <td>-0.781173</td>\n",
       "      <td>0.408313</td>\n",
       "      <td>-0.291751</td>\n",
       "      <td>-0.145512</td>\n",
       "      <td>-0.014857</td>\n",
       "      <td>-0.221583</td>\n",
       "      <td>-1.185094</td>\n",
       "      <td>0.578096</td>\n",
       "      <td>0.521920</td>\n",
       "      <td>-2.603713</td>\n",
       "    </tr>\n",
       "    <tr>\n",
       "      <th>253</th>\n",
       "      <td>1.002372</td>\n",
       "      <td>0.267608</td>\n",
       "      <td>-1.184723</td>\n",
       "      <td>-1.511668</td>\n",
       "      <td>0.469612</td>\n",
       "      <td>0.362446</td>\n",
       "      <td>-0.781173</td>\n",
       "      <td>-2.150047</td>\n",
       "      <td>-0.291751</td>\n",
       "      <td>-0.145512</td>\n",
       "      <td>-0.014857</td>\n",
       "      <td>-0.221583</td>\n",
       "      <td>-1.185094</td>\n",
       "      <td>2.225933</td>\n",
       "      <td>0.521920</td>\n",
       "      <td>-0.426320</td>\n",
       "    </tr>\n",
       "    <tr>\n",
       "      <th>554</th>\n",
       "      <td>-0.997633</td>\n",
       "      <td>-1.285160</td>\n",
       "      <td>-0.096836</td>\n",
       "      <td>-1.295197</td>\n",
       "      <td>-2.129419</td>\n",
       "      <td>0.362446</td>\n",
       "      <td>-0.781173</td>\n",
       "      <td>-0.869606</td>\n",
       "      <td>-0.291751</td>\n",
       "      <td>-0.145512</td>\n",
       "      <td>1.090332</td>\n",
       "      <td>-0.221583</td>\n",
       "      <td>-0.006352</td>\n",
       "      <td>-0.287289</td>\n",
       "      <td>0.521920</td>\n",
       "      <td>-0.426320</td>\n",
       "    </tr>\n",
       "    <tr>\n",
       "      <th>1500</th>\n",
       "      <td>-0.997633</td>\n",
       "      <td>0.026979</td>\n",
       "      <td>-0.417041</td>\n",
       "      <td>0.170496</td>\n",
       "      <td>0.469612</td>\n",
       "      <td>0.362446</td>\n",
       "      <td>-1.320627</td>\n",
       "      <td>0.408313</td>\n",
       "      <td>-0.291751</td>\n",
       "      <td>-0.145512</td>\n",
       "      <td>-1.389050</td>\n",
       "      <td>-0.221583</td>\n",
       "      <td>-0.640232</td>\n",
       "      <td>0.389471</td>\n",
       "      <td>-1.397473</td>\n",
       "      <td>1.751073</td>\n",
       "    </tr>\n",
       "    <tr>\n",
       "      <th>359</th>\n",
       "      <td>1.002372</td>\n",
       "      <td>1.376519</td>\n",
       "      <td>-1.507835</td>\n",
       "      <td>-1.473214</td>\n",
       "      <td>0.469612</td>\n",
       "      <td>-2.759030</td>\n",
       "      <td>-0.781173</td>\n",
       "      <td>0.408313</td>\n",
       "      <td>-0.291751</td>\n",
       "      <td>-0.145512</td>\n",
       "      <td>-0.014857</td>\n",
       "      <td>-0.221583</td>\n",
       "      <td>0.002017</td>\n",
       "      <td>-1.069742</td>\n",
       "      <td>0.521920</td>\n",
       "      <td>-0.426320</td>\n",
       "    </tr>\n",
       "  </tbody>\n",
       "</table>\n",
       "</div>"
      ],
      "text/plain": [
       "        Gender       Age    Height    Weight  family_history_with_overweight  \\\n",
       "442  -0.997633  0.267608  0.215430 -0.819498                        0.469612   \n",
       "253   1.002372  0.267608 -1.184723 -1.511668                        0.469612   \n",
       "554  -0.997633 -1.285160 -0.096836 -1.295197                       -2.129419   \n",
       "1500 -0.997633  0.026979 -0.417041  0.170496                        0.469612   \n",
       "359   1.002372  1.376519 -1.507835 -1.473214                        0.469612   \n",
       "\n",
       "          FAVC      FCVC       NCP      CAEC     SMOKE      CH2O       SCC  \\\n",
       "442   0.362446 -0.781173  0.408313 -0.291751 -0.145512 -0.014857 -0.221583   \n",
       "253   0.362446 -0.781173 -2.150047 -0.291751 -0.145512 -0.014857 -0.221583   \n",
       "554   0.362446 -0.781173 -0.869606 -0.291751 -0.145512  1.090332 -0.221583   \n",
       "1500  0.362446 -1.320627  0.408313 -0.291751 -0.145512 -1.389050 -0.221583   \n",
       "359  -2.759030 -0.781173  0.408313 -0.291751 -0.145512 -0.014857 -0.221583   \n",
       "\n",
       "           FAF       TUE      CALC    MTRANS  \n",
       "442  -1.185094  0.578096  0.521920 -2.603713  \n",
       "253  -1.185094  2.225933  0.521920 -0.426320  \n",
       "554  -0.006352 -0.287289  0.521920 -0.426320  \n",
       "1500 -0.640232  0.389471 -1.397473  1.751073  \n",
       "359   0.002017 -1.069742  0.521920 -0.426320  "
      ]
     },
     "execution_count": 14,
     "metadata": {},
     "output_type": "execute_result"
    }
   ],
   "source": [
    "X_train.head()"
   ]
  },
  {
   "cell_type": "code",
   "execution_count": 15,
   "id": "b7044129",
   "metadata": {},
   "outputs": [
    {
     "data": {
      "text/html": [
       "<div>\n",
       "<style scoped>\n",
       "    .dataframe tbody tr th:only-of-type {\n",
       "        vertical-align: middle;\n",
       "    }\n",
       "\n",
       "    .dataframe tbody tr th {\n",
       "        vertical-align: top;\n",
       "    }\n",
       "\n",
       "    .dataframe thead th {\n",
       "        text-align: right;\n",
       "    }\n",
       "</style>\n",
       "<table border=\"1\" class=\"dataframe\">\n",
       "  <thead>\n",
       "    <tr style=\"text-align: right;\">\n",
       "      <th></th>\n",
       "      <th>0</th>\n",
       "      <th>1</th>\n",
       "      <th>2</th>\n",
       "      <th>3</th>\n",
       "      <th>4</th>\n",
       "      <th>5</th>\n",
       "      <th>6</th>\n",
       "      <th>7</th>\n",
       "      <th>8</th>\n",
       "      <th>9</th>\n",
       "      <th>10</th>\n",
       "      <th>11</th>\n",
       "      <th>12</th>\n",
       "      <th>13</th>\n",
       "      <th>14</th>\n",
       "      <th>15</th>\n",
       "    </tr>\n",
       "  </thead>\n",
       "  <tbody>\n",
       "    <tr>\n",
       "      <th>0</th>\n",
       "      <td>-0.044756</td>\n",
       "      <td>0.931898</td>\n",
       "      <td>-0.647872</td>\n",
       "      <td>-1.461541</td>\n",
       "      <td>0.771175</td>\n",
       "      <td>0.403271</td>\n",
       "      <td>-0.159807</td>\n",
       "      <td>-0.535154</td>\n",
       "      <td>-0.428420</td>\n",
       "      <td>1.370138</td>\n",
       "      <td>0.270355</td>\n",
       "      <td>-0.203266</td>\n",
       "      <td>0.023423</td>\n",
       "      <td>0.276096</td>\n",
       "      <td>2.076397</td>\n",
       "      <td>-0.894830</td>\n",
       "    </tr>\n",
       "    <tr>\n",
       "      <th>1</th>\n",
       "      <td>1.515010</td>\n",
       "      <td>-1.002006</td>\n",
       "      <td>-0.896119</td>\n",
       "      <td>-2.513083</td>\n",
       "      <td>0.584905</td>\n",
       "      <td>0.796780</td>\n",
       "      <td>1.070197</td>\n",
       "      <td>0.889552</td>\n",
       "      <td>-0.458331</td>\n",
       "      <td>-0.795196</td>\n",
       "      <td>0.855268</td>\n",
       "      <td>1.135727</td>\n",
       "      <td>-0.289009</td>\n",
       "      <td>-0.314869</td>\n",
       "      <td>0.637485</td>\n",
       "      <td>-0.731157</td>\n",
       "    </tr>\n",
       "    <tr>\n",
       "      <th>2</th>\n",
       "      <td>1.073595</td>\n",
       "      <td>1.225528</td>\n",
       "      <td>0.521122</td>\n",
       "      <td>-1.111005</td>\n",
       "      <td>-0.260766</td>\n",
       "      <td>1.828603</td>\n",
       "      <td>-1.368693</td>\n",
       "      <td>-0.276429</td>\n",
       "      <td>-0.479369</td>\n",
       "      <td>-0.856968</td>\n",
       "      <td>0.329954</td>\n",
       "      <td>-0.845552</td>\n",
       "      <td>0.860266</td>\n",
       "      <td>-0.384113</td>\n",
       "      <td>0.068074</td>\n",
       "      <td>0.211669</td>\n",
       "    </tr>\n",
       "    <tr>\n",
       "      <th>3</th>\n",
       "      <td>-0.523199</td>\n",
       "      <td>-1.003478</td>\n",
       "      <td>1.782459</td>\n",
       "      <td>-1.529944</td>\n",
       "      <td>0.108863</td>\n",
       "      <td>-1.084376</td>\n",
       "      <td>0.346453</td>\n",
       "      <td>0.568763</td>\n",
       "      <td>0.403732</td>\n",
       "      <td>0.879879</td>\n",
       "      <td>-0.573756</td>\n",
       "      <td>-0.014428</td>\n",
       "      <td>0.356966</td>\n",
       "      <td>-0.293053</td>\n",
       "      <td>-0.596919</td>\n",
       "      <td>0.928034</td>\n",
       "    </tr>\n",
       "    <tr>\n",
       "      <th>4</th>\n",
       "      <td>1.765217</td>\n",
       "      <td>-1.307075</td>\n",
       "      <td>0.611467</td>\n",
       "      <td>0.958090</td>\n",
       "      <td>-0.899750</td>\n",
       "      <td>0.488857</td>\n",
       "      <td>0.002086</td>\n",
       "      <td>-0.592849</td>\n",
       "      <td>-2.060441</td>\n",
       "      <td>1.222090</td>\n",
       "      <td>-0.601282</td>\n",
       "      <td>1.218511</td>\n",
       "      <td>-1.222910</td>\n",
       "      <td>-0.036016</td>\n",
       "      <td>0.861142</td>\n",
       "      <td>-0.606174</td>\n",
       "    </tr>\n",
       "  </tbody>\n",
       "</table>\n",
       "</div>"
      ],
      "text/plain": [
       "         0         1         2         3         4         5         6   \\\n",
       "0 -0.044756  0.931898 -0.647872 -1.461541  0.771175  0.403271 -0.159807   \n",
       "1  1.515010 -1.002006 -0.896119 -2.513083  0.584905  0.796780  1.070197   \n",
       "2  1.073595  1.225528  0.521122 -1.111005 -0.260766  1.828603 -1.368693   \n",
       "3 -0.523199 -1.003478  1.782459 -1.529944  0.108863 -1.084376  0.346453   \n",
       "4  1.765217 -1.307075  0.611467  0.958090 -0.899750  0.488857  0.002086   \n",
       "\n",
       "         7         8         9         10        11        12        13  \\\n",
       "0 -0.535154 -0.428420  1.370138  0.270355 -0.203266  0.023423  0.276096   \n",
       "1  0.889552 -0.458331 -0.795196  0.855268  1.135727 -0.289009 -0.314869   \n",
       "2 -0.276429 -0.479369 -0.856968  0.329954 -0.845552  0.860266 -0.384113   \n",
       "3  0.568763  0.403732  0.879879 -0.573756 -0.014428  0.356966 -0.293053   \n",
       "4 -0.592849 -2.060441  1.222090 -0.601282  1.218511 -1.222910 -0.036016   \n",
       "\n",
       "         14        15  \n",
       "0  2.076397 -0.894830  \n",
       "1  0.637485 -0.731157  \n",
       "2  0.068074  0.211669  \n",
       "3 -0.596919  0.928034  \n",
       "4  0.861142 -0.606174  "
      ]
     },
     "execution_count": 15,
     "metadata": {},
     "output_type": "execute_result"
    }
   ],
   "source": [
    "pd.DataFrame(obs_pca.transform(X_train)).head()"
   ]
  },
  {
   "cell_type": "code",
   "execution_count": 16,
   "id": "13b7ecb8",
   "metadata": {},
   "outputs": [],
   "source": [
    "#Guardar modelo de PCA:\n",
    "if not(os.path.exists('./Modelos/')):\n",
    "    os.mkdir('./Modelos/')\n",
    "\n",
    "with open('./Modelos/pca_model.pk', 'wb') as f:\n",
    "    pk.dump(obs_pca, f)"
   ]
  },
  {
   "cell_type": "code",
   "execution_count": 17,
   "id": "9cb346bb",
   "metadata": {},
   "outputs": [
    {
     "data": {
      "text/plain": [
       "(1688, 16)"
      ]
     },
     "execution_count": 17,
     "metadata": {},
     "output_type": "execute_result"
    }
   ],
   "source": [
    "#usar los 16 componentes principales para primera iteracion:\n",
    "X_train = obs_pca.transform(X_train)\n",
    "X_train.shape"
   ]
  },
  {
   "cell_type": "markdown",
   "id": "69f69ed8",
   "metadata": {},
   "source": [
    "## Multinomial Logistic Regression"
   ]
  },
  {
   "cell_type": "code",
   "execution_count": 18,
   "id": "e2f17930",
   "metadata": {
    "scrolled": true
   },
   "outputs": [
    {
     "data": {
      "text/plain": [
       "12108"
      ]
     },
     "execution_count": 18,
     "metadata": {},
     "output_type": "execute_result"
    }
   ],
   "source": [
    "from sklearn.linear_model import LogisticRegression\n",
    "from sklearn.model_selection import GridSearchCV, RandomizedSearchCV\n",
    "from sklearn.metrics import f1_score\n",
    "\n",
    "params_dict = {'multi_class': ['multinomial'],\n",
    "               'penalty': ['l1', 'l2', 'elasticnet'],\n",
    "               'C': np.arange(0.1,101,.1),\n",
    "               'class_weight': ['balanced'],\n",
    "               'solver' : ['newton-cg', 'sag', 'saga', 'lbfgs']\n",
    "              }\n",
    "\n",
    "model = LogisticRegression()\n",
    "\n",
    "combinacion_total=1\n",
    "for k, v in params_dict.items():\n",
    "    combinacion_total *=len(v)\n",
    "combinacion_total"
   ]
  },
  {
   "cell_type": "code",
   "execution_count": 19,
   "id": "e4fb5f85",
   "metadata": {},
   "outputs": [
    {
     "data": {
      "text/plain": [
       "{'solver': 'lbfgs',\n",
       " 'penalty': 'l2',\n",
       " 'multi_class': 'multinomial',\n",
       " 'class_weight': 'balanced',\n",
       " 'C': 88.0}"
      ]
     },
     "execution_count": 19,
     "metadata": {},
     "output_type": "execute_result"
    }
   ],
   "source": [
    "#Random search:\n",
    "random_cv = RandomizedSearchCV(LogisticRegression(), \n",
    "                               params_dict, \n",
    "                               scoring='f1_macro', \n",
    "                               cv=10, \n",
    "                               n_iter=120,\n",
    "                               n_jobs=-1,\n",
    "                               random_state=42)\n",
    "random_cv.fit(X_train, y_train)\n",
    "random_cv.best_params_"
   ]
  },
  {
   "cell_type": "code",
   "execution_count": 20,
   "id": "ba36fdad",
   "metadata": {},
   "outputs": [
    {
     "data": {
      "text/plain": [
       "0.9757109004739336"
      ]
     },
     "execution_count": 20,
     "metadata": {},
     "output_type": "execute_result"
    }
   ],
   "source": [
    "best_random = random_cv.best_estimator_\n",
    "best_random.score(X_train, y_train)"
   ]
  },
  {
   "cell_type": "code",
   "execution_count": 21,
   "id": "0b631c6b",
   "metadata": {},
   "outputs": [
    {
     "data": {
      "text/plain": [
       "9"
      ]
     },
     "execution_count": 21,
     "metadata": {},
     "output_type": "execute_result"
    }
   ],
   "source": [
    "params_dict = {'multi_class': ['multinomial'],\n",
    "               'penalty': ['l2'],\n",
    "               'C': np.arange(50,91,5),\n",
    "               'class_weight': ['balanced'],\n",
    "               'solver' : ['lbfgs']\n",
    "              }\n",
    "combinacion_total=1\n",
    "for k, v in params_dict.items():\n",
    "    combinacion_total *=len(v)\n",
    "combinacion_total"
   ]
  },
  {
   "cell_type": "code",
   "execution_count": 22,
   "id": "f19cf170",
   "metadata": {},
   "outputs": [
    {
     "name": "stdout",
     "output_type": "stream",
     "text": [
      "Fitting 10 folds for each of 9 candidates, totalling 90 fits\n"
     ]
    },
    {
     "data": {
      "text/plain": [
       "GridSearchCV(cv=10, estimator=LogisticRegression(), n_jobs=-1,\n",
       "             param_grid={'C': array([50, 55, 60, 65, 70, 75, 80, 85, 90]),\n",
       "                         'class_weight': ['balanced'],\n",
       "                         'multi_class': ['multinomial'], 'penalty': ['l2'],\n",
       "                         'solver': ['lbfgs']},\n",
       "             scoring='f1_macro', verbose=2)"
      ]
     },
     "execution_count": 22,
     "metadata": {},
     "output_type": "execute_result"
    }
   ],
   "source": [
    "#GridSearch:\n",
    "model = LogisticRegression()\n",
    "grid_cv = GridSearchCV(estimator = model, \n",
    "                       param_grid = params_dict, \n",
    "                       scoring='f1_macro',\n",
    "                       cv = 10,\n",
    "                       verbose=2, \n",
    "                       n_jobs = -1\n",
    "                       )\n",
    "grid_cv.fit(X_train, y_train)"
   ]
  },
  {
   "cell_type": "code",
   "execution_count": 23,
   "id": "3340e156",
   "metadata": {},
   "outputs": [
    {
     "data": {
      "text/plain": [
       "({'C': 70,\n",
       "  'class_weight': 'balanced',\n",
       "  'multi_class': 'multinomial',\n",
       "  'penalty': 'l2',\n",
       "  'solver': 'lbfgs'},\n",
       " 0.9523066273157268)"
      ]
     },
     "execution_count": 23,
     "metadata": {},
     "output_type": "execute_result"
    }
   ],
   "source": [
    "grid_cv.best_params_, grid_cv.best_score_"
   ]
  },
  {
   "cell_type": "code",
   "execution_count": 24,
   "id": "500e7894",
   "metadata": {},
   "outputs": [
    {
     "data": {
      "text/plain": [
       "LogisticRegression(C=70, class_weight='balanced', multi_class='multinomial',\n",
       "                   random_state=42)"
      ]
     },
     "execution_count": 24,
     "metadata": {},
     "output_type": "execute_result"
    }
   ],
   "source": [
    "lgr_model = LogisticRegression(**grid_cv.best_params_, random_state=42)\n",
    "lgr_model.fit(X_train, y_train)"
   ]
  },
  {
   "cell_type": "code",
   "execution_count": 25,
   "id": "d42f93ba",
   "metadata": {},
   "outputs": [
    {
     "data": {
      "text/plain": [
       "0.9742305542414001"
      ]
     },
     "execution_count": 25,
     "metadata": {},
     "output_type": "execute_result"
    }
   ],
   "source": [
    "f1_score(y_train, lgr_model.predict(X_train), average='macro')"
   ]
  },
  {
   "cell_type": "code",
   "execution_count": 26,
   "id": "c2bb83ed",
   "metadata": {},
   "outputs": [
    {
     "data": {
      "text/plain": [
       "(423, 16)"
      ]
     },
     "execution_count": 26,
     "metadata": {},
     "output_type": "execute_result"
    }
   ],
   "source": [
    "#Preparar datos de prueba:\n",
    "X_test.loc[:, cat_cols] = scaler_cat.transform(X_test.loc[:,cat_cols].values)\n",
    "X_test.loc[:, num_cols] = scaler_num.transform(X_test.loc[:,num_cols].values)\n",
    "\n",
    "X_test = obs_pca.transform(X_test)\n",
    "X_test.shape"
   ]
  },
  {
   "cell_type": "code",
   "execution_count": 27,
   "id": "a8739436",
   "metadata": {},
   "outputs": [
    {
     "data": {
      "text/plain": [
       "0.9443603334698233"
      ]
     },
     "execution_count": 27,
     "metadata": {},
     "output_type": "execute_result"
    }
   ],
   "source": [
    "y_hat = lgr_model.predict(X_test)\n",
    "f1_score(y_test, y_hat, average='macro')"
   ]
  },
  {
   "cell_type": "code",
   "execution_count": 28,
   "id": "1221ae16",
   "metadata": {},
   "outputs": [
    {
     "name": "stdout",
     "output_type": "stream",
     "text": [
      "                     precision    recall  f1-score   support\n",
      "\n",
      "Insufficient_Weight       0.95      1.00      0.97        54\n",
      "      Normal_Weight       0.93      0.90      0.91        58\n",
      " Overweight_Level_I       0.93      0.86      0.89        58\n",
      "Overweight_Level_II       0.92      0.93      0.92        58\n",
      "     Obesity_Type_I       0.94      0.97      0.96        70\n",
      "    Obesity_Type_II       0.95      0.98      0.97        60\n",
      "   Obesity_Type_III       1.00      0.97      0.98        65\n",
      "\n",
      "           accuracy                           0.95       423\n",
      "          macro avg       0.94      0.94      0.94       423\n",
      "       weighted avg       0.95      0.95      0.95       423\n",
      "\n"
     ]
    },
    {
     "data": {
      "image/png": "[encoded data removed]",
      "text/plain": [
       "<Figure size 504x360 with 2 Axes>"
      ]
     },
     "metadata": {},
     "output_type": "display_data"
    }
   ],
   "source": [
    "from sklearn.metrics import confusion_matrix, ConfusionMatrixDisplay, classification_report\n",
    "\n",
    "def GraficaCM(y_test, y_hat, class_dict):\n",
    "\n",
    "    labels_classes = list(class_dict.keys())\n",
    "    \n",
    "    cm = confusion_matrix(y_test, y_hat)\n",
    "\n",
    "    print(classification_report(y_test, y_hat, target_names=labels_classes))\n",
    "\n",
    "    fig, axs = plt.subplots(figsize=(7,5))\n",
    "\n",
    "    sns.heatmap(cm, annot=True, ax=axs, cmap='magma_r')\n",
    "\n",
    "    axs.set_yticks(np.arange(len(labels_classes))+.5)\n",
    "    axs.set_xticks(np.arange(len(labels_classes))+.5)\n",
    "\n",
    "    axs.set_xticklabels(labels_classes, rotation=90)\n",
    "    axs.set_yticklabels(labels_classes, rotation=0)\n",
    "\n",
    "    axs.set_ylabel('Verdadero')\n",
    "    axs.set_xlabel('Estimado')\n",
    "\n",
    "    plt.show()\n",
    "    \n",
    "GraficaCM(y_test, y_hat, class_dict)"
   ]
  },
  {
   "cell_type": "markdown",
   "id": "f80984e2",
   "metadata": {},
   "source": [
    "## SVM"
   ]
  },
  {
   "cell_type": "code",
   "execution_count": 29,
   "id": "b49d0748",
   "metadata": {},
   "outputs": [
    {
     "data": {
      "text/plain": [
       "3027"
      ]
     },
     "execution_count": 29,
     "metadata": {},
     "output_type": "execute_result"
    }
   ],
   "source": [
    "from sklearn.svm import SVC\n",
    "\n",
    "params_dict = {'kernel':[ 'sigmoid', 'rbf', 'poly'],\n",
    "               'C': np.arange(0.1,101,.1),\n",
    "               'class_weight': ['balanced'],\n",
    "               'probability' : [True]\n",
    "              }\n",
    "\n",
    "model = SVC()\n",
    "\n",
    "combinacion_total=1\n",
    "for k, v in params_dict.items():\n",
    "    combinacion_total *=len(v)\n",
    "combinacion_total"
   ]
  },
  {
   "cell_type": "code",
   "execution_count": 30,
   "id": "a5540035",
   "metadata": {},
   "outputs": [
    {
     "data": {
      "text/plain": [
       "{'probability': True, 'kernel': 'rbf', 'class_weight': 'balanced', 'C': 43.2}"
      ]
     },
     "execution_count": 30,
     "metadata": {},
     "output_type": "execute_result"
    }
   ],
   "source": [
    "#Random search:\n",
    "random_cv = RandomizedSearchCV(model, \n",
    "                               params_dict, \n",
    "                               scoring='f1_macro', \n",
    "                               cv=10, \n",
    "                               n_iter=20,\n",
    "                               n_jobs=-1,\n",
    "                               random_state=42)\n",
    "random_cv.fit(X_train, y_train)\n",
    "random_cv.best_params_"
   ]
  },
  {
   "cell_type": "code",
   "execution_count": 31,
   "id": "6ec0b05e",
   "metadata": {},
   "outputs": [
    {
     "data": {
      "text/plain": [
       "1.0"
      ]
     },
     "execution_count": 31,
     "metadata": {},
     "output_type": "execute_result"
    }
   ],
   "source": [
    "best_random = random_cv.best_estimator_\n",
    "best_random.score(X_train, y_train)"
   ]
  },
  {
   "cell_type": "code",
   "execution_count": 32,
   "id": "e26cc98e",
   "metadata": {},
   "outputs": [
    {
     "data": {
      "text/plain": [
       "11"
      ]
     },
     "execution_count": 32,
     "metadata": {},
     "output_type": "execute_result"
    }
   ],
   "source": [
    "params_dict = {'kernel':['rbf'],\n",
    "               'C': np.arange(40,51,1),\n",
    "               'class_weight': ['balanced'],\n",
    "               'probability' : [True]\n",
    "              }\n",
    "combinacion_total=1\n",
    "for k, v in params_dict.items():\n",
    "    combinacion_total *=len(v)\n",
    "combinacion_total"
   ]
  },
  {
   "cell_type": "code",
   "execution_count": 33,
   "id": "dfb2c781",
   "metadata": {},
   "outputs": [
    {
     "name": "stdout",
     "output_type": "stream",
     "text": [
      "Fitting 10 folds for each of 11 candidates, totalling 110 fits\n"
     ]
    },
    {
     "data": {
      "text/plain": [
       "GridSearchCV(cv=10, estimator=SVC(), n_jobs=-1,\n",
       "             param_grid={'C': array([40, 41, 42, 43, 44, 45, 46, 47, 48, 49, 50]),\n",
       "                         'class_weight': ['balanced'], 'kernel': ['rbf'],\n",
       "                         'probability': [True]},\n",
       "             scoring='f1_macro', verbose=2)"
      ]
     },
     "execution_count": 33,
     "metadata": {},
     "output_type": "execute_result"
    }
   ],
   "source": [
    "#GridSearch:\n",
    "model = SVC()\n",
    "grid_cv = GridSearchCV(estimator = model, \n",
    "                       param_grid = params_dict, \n",
    "                       scoring='f1_macro',\n",
    "                       cv = 10,\n",
    "                       verbose=2, \n",
    "                       n_jobs = -1\n",
    "                       )\n",
    "grid_cv.fit(X_train, y_train)"
   ]
  },
  {
   "cell_type": "code",
   "execution_count": 34,
   "id": "543d827c",
   "metadata": {},
   "outputs": [
    {
     "data": {
      "text/plain": [
       "({'C': 41, 'class_weight': 'balanced', 'kernel': 'rbf', 'probability': True},\n",
       " 0.9135875282287875)"
      ]
     },
     "execution_count": 34,
     "metadata": {},
     "output_type": "execute_result"
    }
   ],
   "source": [
    "grid_cv.best_params_, grid_cv.best_score_"
   ]
  },
  {
   "cell_type": "code",
   "execution_count": 35,
   "id": "92b0deaf",
   "metadata": {},
   "outputs": [
    {
     "data": {
      "text/plain": [
       "SVC(C=41, class_weight='balanced', probability=True)"
      ]
     },
     "execution_count": 35,
     "metadata": {},
     "output_type": "execute_result"
    }
   ],
   "source": [
    "svm_model = SVC(**grid_cv.best_params_)\n",
    "svm_model.fit(X_train, y_train)"
   ]
  },
  {
   "cell_type": "code",
   "execution_count": 36,
   "id": "770716a6",
   "metadata": {},
   "outputs": [
    {
     "data": {
      "text/plain": [
       "0.9135414863374123"
      ]
     },
     "execution_count": 36,
     "metadata": {},
     "output_type": "execute_result"
    }
   ],
   "source": [
    "y_hat_svm = svm_model.predict(X_test)\n",
    "f1_svm = f1_score(y_test, y_hat_svm, average='macro')\n",
    "f1_svm"
   ]
  },
  {
   "cell_type": "code",
   "execution_count": 37,
   "id": "235cd2fc",
   "metadata": {},
   "outputs": [
    {
     "name": "stdout",
     "output_type": "stream",
     "text": [
      "                     precision    recall  f1-score   support\n",
      "\n",
      "Insufficient_Weight       0.93      0.94      0.94        54\n",
      "      Normal_Weight       0.80      0.81      0.80        58\n",
      " Overweight_Level_I       0.86      0.84      0.85        58\n",
      "Overweight_Level_II       0.90      0.95      0.92        58\n",
      "     Obesity_Type_I       0.93      0.93      0.93        70\n",
      "    Obesity_Type_II       0.98      0.95      0.97        60\n",
      "   Obesity_Type_III       1.00      0.97      0.98        65\n",
      "\n",
      "           accuracy                           0.91       423\n",
      "          macro avg       0.91      0.91      0.91       423\n",
      "       weighted avg       0.92      0.91      0.92       423\n",
      "\n"
     ]
    },
    {
     "data": {
      "image/png": "[encoded data removed]",
      "text/plain": [
       "<Figure size 504x360 with 2 Axes>"
      ]
     },
     "metadata": {},
     "output_type": "display_data"
    }
   ],
   "source": [
    "GraficaCM(y_test, y_hat_svm, class_dict)"
   ]
  },
  {
   "cell_type": "markdown",
   "id": "b563038c",
   "metadata": {},
   "source": [
    "## Decision Trees"
   ]
  },
  {
   "cell_type": "code",
   "execution_count": 38,
   "id": "4442054c",
   "metadata": {},
   "outputs": [
    {
     "data": {
      "text/plain": [
       "2860"
      ]
     },
     "execution_count": 38,
     "metadata": {},
     "output_type": "execute_result"
    }
   ],
   "source": [
    "from sklearn.tree import DecisionTreeClassifier\n",
    "\n",
    "params_dict = {'max_depth':np.arange(3,16),\n",
    "               'min_samples_split': np.arange(2,200,10),\n",
    "               'class_weight': ['balanced'],\n",
    "               'max_features' : list(np.arange(0.1,1.1,.1))+['sqrt']\n",
    "              }\n",
    "\n",
    "model = DecisionTreeClassifier()\n",
    "\n",
    "combinacion_total=1\n",
    "for k, v in params_dict.items():\n",
    "    combinacion_total *=len(v)\n",
    "combinacion_total"
   ]
  },
  {
   "cell_type": "code",
   "execution_count": 39,
   "id": "50205176",
   "metadata": {},
   "outputs": [
    {
     "data": {
      "text/plain": [
       "{'min_samples_split': 22,\n",
       " 'max_features': 0.9,\n",
       " 'max_depth': 9,\n",
       " 'class_weight': 'balanced'}"
      ]
     },
     "execution_count": 39,
     "metadata": {},
     "output_type": "execute_result"
    }
   ],
   "source": [
    "#Random search:\n",
    "random_cv = RandomizedSearchCV(model, \n",
    "                               params_dict, \n",
    "                               scoring='f1_macro', \n",
    "                               cv=10, \n",
    "                               n_iter=20,\n",
    "                               n_jobs=-1,\n",
    "                               random_state=42)\n",
    "random_cv.fit(X_train, y_train)\n",
    "random_cv.best_params_"
   ]
  },
  {
   "cell_type": "code",
   "execution_count": 40,
   "id": "6c44bc88",
   "metadata": {},
   "outputs": [
    {
     "data": {
      "text/plain": [
       "0.7938388625592417"
      ]
     },
     "execution_count": 40,
     "metadata": {},
     "output_type": "execute_result"
    }
   ],
   "source": [
    "best_random = random_cv.best_estimator_\n",
    "best_random.score(X_train, y_train)"
   ]
  },
  {
   "cell_type": "code",
   "execution_count": 41,
   "id": "a98595e6",
   "metadata": {},
   "outputs": [
    {
     "data": {
      "text/plain": [
       "72"
      ]
     },
     "execution_count": 41,
     "metadata": {},
     "output_type": "execute_result"
    }
   ],
   "source": [
    "params_dict = {'max_depth':np.arange(7,11),\n",
    "               'min_samples_split': np.arange(20,26),\n",
    "               'class_weight': ['balanced'],\n",
    "               'max_features' : [1,0.9,'sqrt']\n",
    "              }\n",
    "\n",
    "combinacion_total=1\n",
    "for k, v in params_dict.items():\n",
    "    combinacion_total *=len(v)\n",
    "combinacion_total"
   ]
  },
  {
   "cell_type": "code",
   "execution_count": 42,
   "id": "f4759c4e",
   "metadata": {},
   "outputs": [
    {
     "name": "stdout",
     "output_type": "stream",
     "text": [
      "Fitting 10 folds for each of 72 candidates, totalling 720 fits\n"
     ]
    },
    {
     "data": {
      "text/plain": [
       "GridSearchCV(cv=10, estimator=DecisionTreeClassifier(), n_jobs=-1,\n",
       "             param_grid={'class_weight': ['balanced'],\n",
       "                         'max_depth': array([ 7,  8,  9, 10]),\n",
       "                         'max_features': [1, 0.9, 'sqrt'],\n",
       "                         'min_samples_split': array([20, 21, 22, 23, 24, 25])},\n",
       "             scoring='f1_macro', verbose=2)"
      ]
     },
     "execution_count": 42,
     "metadata": {},
     "output_type": "execute_result"
    }
   ],
   "source": [
    "#GridSearch:\n",
    "model = DecisionTreeClassifier()\n",
    "grid_cv = GridSearchCV(estimator = model, \n",
    "                       param_grid = params_dict, \n",
    "                       scoring='f1_macro',\n",
    "                       cv = 10,\n",
    "                       verbose=2, \n",
    "                       n_jobs = -1\n",
    "                       )\n",
    "grid_cv.fit(X_train, y_train)"
   ]
  },
  {
   "cell_type": "code",
   "execution_count": 43,
   "id": "fa6ce4ec",
   "metadata": {},
   "outputs": [
    {
     "data": {
      "text/plain": [
       "({'class_weight': 'balanced',\n",
       "  'max_depth': 10,\n",
       "  'max_features': 0.9,\n",
       "  'min_samples_split': 22},\n",
       " 0.6953682714597237)"
      ]
     },
     "execution_count": 43,
     "metadata": {},
     "output_type": "execute_result"
    }
   ],
   "source": [
    "grid_cv.best_params_, grid_cv.best_score_"
   ]
  },
  {
   "cell_type": "code",
   "execution_count": 44,
   "id": "24a61fbb",
   "metadata": {},
   "outputs": [
    {
     "data": {
      "text/plain": [
       "DecisionTreeClassifier(class_weight='balanced', max_depth=10, max_features=0.9,\n",
       "                       min_samples_split=22)"
      ]
     },
     "execution_count": 44,
     "metadata": {},
     "output_type": "execute_result"
    }
   ],
   "source": [
    "dt_model = DecisionTreeClassifier(**grid_cv.best_params_)\n",
    "dt_model.fit(X_train, y_train)"
   ]
  },
  {
   "cell_type": "code",
   "execution_count": 45,
   "id": "6d5ea0a8",
   "metadata": {},
   "outputs": [
    {
     "data": {
      "text/plain": [
       "0.7391999909105047"
      ]
     },
     "execution_count": 45,
     "metadata": {},
     "output_type": "execute_result"
    }
   ],
   "source": [
    "y_hat_dt = dt_model.predict(X_test)\n",
    "f1_dt = f1_score(y_test, y_hat_dt, average='macro')\n",
    "f1_dt"
   ]
  },
  {
   "cell_type": "code",
   "execution_count": 46,
   "id": "24fb831b",
   "metadata": {},
   "outputs": [
    {
     "name": "stdout",
     "output_type": "stream",
     "text": [
      "                     precision    recall  f1-score   support\n",
      "\n",
      "Insufficient_Weight       0.83      0.70      0.76        54\n",
      "      Normal_Weight       0.58      0.55      0.57        58\n",
      " Overweight_Level_I       0.48      0.71      0.57        58\n",
      "Overweight_Level_II       0.68      0.67      0.68        58\n",
      "     Obesity_Type_I       0.78      0.67      0.72        70\n",
      "    Obesity_Type_II       0.91      0.87      0.89        60\n",
      "   Obesity_Type_III       1.00      0.97      0.98        65\n",
      "\n",
      "           accuracy                           0.74       423\n",
      "          macro avg       0.75      0.73      0.74       423\n",
      "       weighted avg       0.76      0.74      0.74       423\n",
      "\n"
     ]
    },
    {
     "data": {
      "image/png": "[encoded data removed]",
      "text/plain": [
       "<Figure size 504x360 with 2 Axes>"
      ]
     },
     "metadata": {},
     "output_type": "display_data"
    }
   ],
   "source": [
    "GraficaCM(y_test, y_hat_dt, class_dict)"
   ]
  },
  {
   "cell_type": "markdown",
   "id": "611c37ea",
   "metadata": {},
   "source": [
    "## Kneighbors"
   ]
  },
  {
   "cell_type": "code",
   "execution_count": 56,
   "id": "63f7f084",
   "metadata": {},
   "outputs": [
    {
     "data": {
      "text/plain": [
       "72"
      ]
     },
     "execution_count": 56,
     "metadata": {},
     "output_type": "execute_result"
    }
   ],
   "source": [
    "from sklearn.neighbors import KNeighborsClassifier\n",
    "\n",
    "params_dict = {'n_neighbors':np.arange(4,16),\n",
    "               'weights': ['distance', 'uniform'],\n",
    "               'algorithm': ['ball_tree', 'kd_tree', 'brute']\n",
    "              }\n",
    "\n",
    "model = KNeighborsClassifier()\n",
    "\n",
    "\n",
    "combinacion_total=1\n",
    "for k, v in params_dict.items():\n",
    "    combinacion_total *=len(v)\n",
    "combinacion_total"
   ]
  },
  {
   "cell_type": "code",
   "execution_count": 57,
   "id": "7aceaa63",
   "metadata": {},
   "outputs": [
    {
     "data": {
      "text/plain": [
       "{'weights': 'distance', 'n_neighbors': 4, 'algorithm': 'ball_tree'}"
      ]
     },
     "execution_count": 57,
     "metadata": {},
     "output_type": "execute_result"
    }
   ],
   "source": [
    "#Random search:\n",
    "random_cv = RandomizedSearchCV(model, \n",
    "                               params_dict, \n",
    "                               scoring='f1_macro', \n",
    "                               cv=10, \n",
    "                               n_iter=20,\n",
    "                               n_jobs=-1,\n",
    "                               random_state=42)\n",
    "random_cv.fit(X_train, y_train)\n",
    "random_cv.best_params_"
   ]
  },
  {
   "cell_type": "code",
   "execution_count": 58,
   "id": "c5dc627b",
   "metadata": {},
   "outputs": [
    {
     "data": {
      "text/plain": [
       "1.0"
      ]
     },
     "execution_count": 58,
     "metadata": {},
     "output_type": "execute_result"
    }
   ],
   "source": [
    "best_random = random_cv.best_estimator_\n",
    "best_random.score(X_train, y_train)"
   ]
  },
  {
   "cell_type": "code",
   "execution_count": 59,
   "id": "ac3db30f",
   "metadata": {},
   "outputs": [
    {
     "data": {
      "text/plain": [
       "3"
      ]
     },
     "execution_count": 59,
     "metadata": {},
     "output_type": "execute_result"
    }
   ],
   "source": [
    "params_dict = {'n_neighbors':np.arange(3,6),\n",
    "               'weights': ['distance'],\n",
    "               'algorithm': ['ball_tree']\n",
    "              }\n",
    "\n",
    "\n",
    "combinacion_total=1\n",
    "for k, v in params_dict.items():\n",
    "    combinacion_total *=len(v)\n",
    "combinacion_total"
   ]
  },
  {
   "cell_type": "code",
   "execution_count": 60,
   "id": "cc5fb0a1",
   "metadata": {},
   "outputs": [
    {
     "name": "stdout",
     "output_type": "stream",
     "text": [
      "Fitting 10 folds for each of 3 candidates, totalling 30 fits\n"
     ]
    },
    {
     "data": {
      "text/plain": [
       "GridSearchCV(cv=10, estimator=KNeighborsClassifier(), n_jobs=-1,\n",
       "             param_grid={'algorithm': ['ball_tree'],\n",
       "                         'n_neighbors': array([3, 4, 5]),\n",
       "                         'weights': ['distance']},\n",
       "             scoring='f1_macro', verbose=2)"
      ]
     },
     "execution_count": 60,
     "metadata": {},
     "output_type": "execute_result"
    }
   ],
   "source": [
    "#GridSearch:\n",
    "model = KNeighborsClassifier()\n",
    "grid_cv = GridSearchCV(estimator = model, \n",
    "                       param_grid = params_dict, \n",
    "                       scoring='f1_macro',\n",
    "                       cv = 10,\n",
    "                       verbose=2, \n",
    "                       n_jobs = -1\n",
    "                       )\n",
    "grid_cv.fit(X_train, y_train)"
   ]
  },
  {
   "cell_type": "code",
   "execution_count": 61,
   "id": "3698c0ab",
   "metadata": {},
   "outputs": [
    {
     "data": {
      "text/plain": [
       "({'algorithm': 'ball_tree', 'n_neighbors': 4, 'weights': 'distance'},\n",
       " 0.8115738378785708)"
      ]
     },
     "execution_count": 61,
     "metadata": {},
     "output_type": "execute_result"
    }
   ],
   "source": [
    "grid_cv.best_params_, grid_cv.best_score_"
   ]
  },
  {
   "cell_type": "code",
   "execution_count": 62,
   "id": "86158a57",
   "metadata": {},
   "outputs": [
    {
     "data": {
      "text/plain": [
       "KNeighborsClassifier(algorithm='ball_tree', n_neighbors=4, weights='distance')"
      ]
     },
     "execution_count": 62,
     "metadata": {},
     "output_type": "execute_result"
    }
   ],
   "source": [
    "kn_model = KNeighborsClassifier(**grid_cv.best_params_)\n",
    "kn_model.fit(X_train, y_train)"
   ]
  },
  {
   "cell_type": "code",
   "execution_count": 63,
   "id": "cf79f174",
   "metadata": {},
   "outputs": [
    {
     "data": {
      "text/plain": [
       "0.8418375327820012"
      ]
     },
     "execution_count": 63,
     "metadata": {},
     "output_type": "execute_result"
    }
   ],
   "source": [
    "y_hat_kn = kn_model.predict(X_test)\n",
    "f1_kn = f1_score(y_test, y_hat_kn, average='macro')\n",
    "f1_kn"
   ]
  },
  {
   "cell_type": "code",
   "execution_count": 64,
   "id": "6e4a358b",
   "metadata": {},
   "outputs": [
    {
     "name": "stdout",
     "output_type": "stream",
     "text": [
      "                     precision    recall  f1-score   support\n",
      "\n",
      "Insufficient_Weight       0.78      0.94      0.86        54\n",
      "      Normal_Weight       0.77      0.47      0.58        58\n",
      " Overweight_Level_I       0.78      0.78      0.78        58\n",
      "Overweight_Level_II       0.81      0.95      0.87        58\n",
      "     Obesity_Type_I       0.87      0.89      0.88        70\n",
      "    Obesity_Type_II       0.93      0.95      0.94        60\n",
      "   Obesity_Type_III       0.98      0.98      0.98        65\n",
      "\n",
      "           accuracy                           0.85       423\n",
      "          macro avg       0.85      0.85      0.84       423\n",
      "       weighted avg       0.85      0.85      0.85       423\n",
      "\n"
     ]
    },
    {
     "data": {
      "image/png": "[encoded data removed]",
      "text/plain": [
       "<Figure size 504x360 with 2 Axes>"
      ]
     },
     "metadata": {},
     "output_type": "display_data"
    }
   ],
   "source": [
    "GraficaCM(y_test, y_hat_kn, class_dict)"
   ]
  },
  {
   "cell_type": "markdown",
   "id": "0fce6c1d",
   "metadata": {},
   "source": [
    "## RandomForest"
   ]
  },
  {
   "cell_type": "code",
   "execution_count": 65,
   "id": "1b175831",
   "metadata": {},
   "outputs": [
    {
     "data": {
      "text/plain": [
       "195"
      ]
     },
     "execution_count": 65,
     "metadata": {},
     "output_type": "execute_result"
    }
   ],
   "source": [
    "from sklearn.ensemble import RandomForestClassifier\n",
    "\n",
    "params_dict = {'n_estimators':np.arange(100,801,50),\n",
    "            'max_depth': np.arange(3,16),\n",
    "            'max_features': ['sqrt'],\n",
    "            'class_weight':['balanced']\n",
    "            }\n",
    "\n",
    "model = RandomForestClassifier()\n",
    "\n",
    "\n",
    "combinacion_total=1\n",
    "for k, v in params_dict.items():\n",
    "    combinacion_total *=len(v)\n",
    "combinacion_total"
   ]
  },
  {
   "cell_type": "code",
   "execution_count": 66,
   "id": "44edc775",
   "metadata": {},
   "outputs": [
    {
     "data": {
      "text/plain": [
       "{'n_estimators': 250,\n",
       " 'max_features': 'sqrt',\n",
       " 'max_depth': 13,\n",
       " 'class_weight': 'balanced'}"
      ]
     },
     "execution_count": 66,
     "metadata": {},
     "output_type": "execute_result"
    }
   ],
   "source": [
    "#Random search:\n",
    "random_cv = RandomizedSearchCV(model, \n",
    "                               params_dict, \n",
    "                               scoring='f1_macro', \n",
    "                               cv=10, \n",
    "                               n_iter=10,\n",
    "                               n_jobs=-1,\n",
    "                               random_state=42)\n",
    "random_cv.fit(X_train, y_train)\n",
    "random_cv.best_params_"
   ]
  },
  {
   "cell_type": "code",
   "execution_count": 67,
   "id": "9c65af70",
   "metadata": {},
   "outputs": [
    {
     "data": {
      "text/plain": [
       "1.0"
      ]
     },
     "execution_count": 67,
     "metadata": {},
     "output_type": "execute_result"
    }
   ],
   "source": [
    "best_random = random_cv.best_estimator_\n",
    "best_random.score(X_train, y_train)"
   ]
  },
  {
   "cell_type": "code",
   "execution_count": 68,
   "id": "bda8c50f",
   "metadata": {},
   "outputs": [
    {
     "data": {
      "text/plain": [
       "20"
      ]
     },
     "execution_count": 68,
     "metadata": {},
     "output_type": "execute_result"
    }
   ],
   "source": [
    "params_dict = {'n_estimators':np.arange(200,301,25),\n",
    "            'max_depth': np.arange(10,14),\n",
    "            'max_features': ['sqrt'],\n",
    "            'class_weight':['balanced']\n",
    "            }\n",
    "\n",
    "\n",
    "combinacion_total=1\n",
    "for k, v in params_dict.items():\n",
    "    combinacion_total *=len(v)\n",
    "combinacion_total"
   ]
  },
  {
   "cell_type": "code",
   "execution_count": 69,
   "id": "40d18adf",
   "metadata": {},
   "outputs": [
    {
     "name": "stdout",
     "output_type": "stream",
     "text": [
      "Fitting 10 folds for each of 20 candidates, totalling 200 fits\n"
     ]
    },
    {
     "data": {
      "text/plain": [
       "GridSearchCV(cv=10, estimator=RandomForestClassifier(), n_jobs=-1,\n",
       "             param_grid={'class_weight': ['balanced'],\n",
       "                         'max_depth': array([10, 11, 12, 13]),\n",
       "                         'max_features': ['sqrt'],\n",
       "                         'n_estimators': array([200, 225, 250, 275, 300])},\n",
       "             scoring='f1_macro', verbose=2)"
      ]
     },
     "execution_count": 69,
     "metadata": {},
     "output_type": "execute_result"
    }
   ],
   "source": [
    "#GridSearch:\n",
    "model = RandomForestClassifier()\n",
    "grid_cv = GridSearchCV(estimator = model, \n",
    "                       param_grid = params_dict, \n",
    "                       scoring='f1_macro',\n",
    "                       cv = 10,\n",
    "                       verbose=2, \n",
    "                       n_jobs = -1\n",
    "                       )\n",
    "grid_cv.fit(X_train, y_train)"
   ]
  },
  {
   "cell_type": "code",
   "execution_count": 70,
   "id": "6cf73465",
   "metadata": {},
   "outputs": [
    {
     "data": {
      "text/plain": [
       "({'class_weight': 'balanced',\n",
       "  'max_depth': 13,\n",
       "  'max_features': 'sqrt',\n",
       "  'n_estimators': 275},\n",
       " 0.863987437503362)"
      ]
     },
     "execution_count": 70,
     "metadata": {},
     "output_type": "execute_result"
    }
   ],
   "source": [
    "grid_cv.best_params_, grid_cv.best_score_"
   ]
  },
  {
   "cell_type": "code",
   "execution_count": 71,
   "id": "8e6e6651",
   "metadata": {},
   "outputs": [
    {
     "data": {
      "text/plain": [
       "RandomForestClassifier(class_weight='balanced', max_depth=13,\n",
       "                       max_features='sqrt', n_estimators=275)"
      ]
     },
     "execution_count": 71,
     "metadata": {},
     "output_type": "execute_result"
    }
   ],
   "source": [
    "rf_model = RandomForestClassifier(**grid_cv.best_params_)\n",
    "rf_model.fit(X_train, y_train)"
   ]
  },
  {
   "cell_type": "code",
   "execution_count": 72,
   "id": "f38e5de3",
   "metadata": {},
   "outputs": [
    {
     "data": {
      "text/plain": [
       "0.838338761452038"
      ]
     },
     "execution_count": 72,
     "metadata": {},
     "output_type": "execute_result"
    }
   ],
   "source": [
    "y_hat_rf = rf_model.predict(X_test)\n",
    "f1_rf = f1_score(y_test, y_hat_rf, average='macro')\n",
    "f1_rf"
   ]
  },
  {
   "cell_type": "code",
   "execution_count": 73,
   "id": "d383112b",
   "metadata": {},
   "outputs": [
    {
     "name": "stdout",
     "output_type": "stream",
     "text": [
      "                     precision    recall  f1-score   support\n",
      "\n",
      "Insufficient_Weight       0.94      0.91      0.92        54\n",
      "      Normal_Weight       0.70      0.66      0.68        58\n",
      " Overweight_Level_I       0.67      0.71      0.69        58\n",
      "Overweight_Level_II       0.80      0.88      0.84        58\n",
      "     Obesity_Type_I       0.81      0.80      0.81        70\n",
      "    Obesity_Type_II       0.95      0.95      0.95        60\n",
      "   Obesity_Type_III       1.00      0.97      0.98        65\n",
      "\n",
      "           accuracy                           0.84       423\n",
      "          macro avg       0.84      0.84      0.84       423\n",
      "       weighted avg       0.84      0.84      0.84       423\n",
      "\n"
     ]
    },
    {
     "data": {
      "image/png": "[encoded data removed]",
      "text/plain": [
       "<Figure size 504x360 with 2 Axes>"
      ]
     },
     "metadata": {},
     "output_type": "display_data"
    }
   ],
   "source": [
    "GraficaCM(y_test, y_hat_rf, class_dict)"
   ]
  },
  {
   "cell_type": "markdown",
   "id": "fb48f310",
   "metadata": {},
   "source": [
    "## XGBoosting"
   ]
  },
  {
   "cell_type": "code",
   "execution_count": 74,
   "id": "9d8c1a3a",
   "metadata": {},
   "outputs": [
    {
     "data": {
      "text/plain": [
       "1950"
      ]
     },
     "execution_count": 74,
     "metadata": {},
     "output_type": "execute_result"
    }
   ],
   "source": [
    "from xgboost import XGBClassifier\n",
    "\n",
    "\n",
    "params_dict = {'n_estimators':np.arange(100,801,50),\n",
    "            'max_depth': np.arange(3,16),\n",
    "            'colsample_bytree': np.arange(0.1,1.1,.1)\n",
    "            }\n",
    "\n",
    "\n",
    "model = XGBClassifier()\n",
    "\n",
    "\n",
    "combinacion_total=1\n",
    "for k, v in params_dict.items():\n",
    "    combinacion_total *=len(v)\n",
    "combinacion_total"
   ]
  },
  {
   "cell_type": "code",
   "execution_count": 75,
   "id": "6403ff1d",
   "metadata": {},
   "outputs": [
    {
     "name": "stdout",
     "output_type": "stream",
     "text": [
      "[12:46:20] WARNING: D:\\bld\\xgboost-split_1637426510059\\work\\src\\learner.cc:1115: Starting in XGBoost 1.3.0, the default evaluation metric used with the objective 'multi:softprob' was changed from 'merror' to 'mlogloss'. Explicitly set eval_metric if you'd like to restore the old behavior.\n"
     ]
    },
    {
     "data": {
      "text/plain": [
       "{'n_estimators': 150, 'max_depth': 13, 'colsample_bytree': 0.6}"
      ]
     },
     "execution_count": 75,
     "metadata": {},
     "output_type": "execute_result"
    }
   ],
   "source": [
    "#Random search:\n",
    "random_cv = RandomizedSearchCV(model, \n",
    "                               params_dict, \n",
    "                               scoring='f1_macro', \n",
    "                               cv=10, \n",
    "                               n_iter=10,\n",
    "                               n_jobs=-1,\n",
    "                               random_state=42)\n",
    "random_cv.fit(X_train, y_train)\n",
    "random_cv.best_params_"
   ]
  },
  {
   "cell_type": "code",
   "execution_count": 76,
   "id": "5677148c",
   "metadata": {},
   "outputs": [
    {
     "data": {
      "text/plain": [
       "1.0"
      ]
     },
     "execution_count": 76,
     "metadata": {},
     "output_type": "execute_result"
    }
   ],
   "source": [
    "best_random = random_cv.best_estimator_\n",
    "best_random.score(X_train, y_train)"
   ]
  },
  {
   "cell_type": "code",
   "execution_count": 77,
   "id": "57a0a314",
   "metadata": {},
   "outputs": [
    {
     "data": {
      "text/plain": [
       "60"
      ]
     },
     "execution_count": 77,
     "metadata": {},
     "output_type": "execute_result"
    }
   ],
   "source": [
    "params_dict = {'n_estimators':np.arange(100,201,25),\n",
    "            'max_depth': np.arange(12,15),\n",
    "            'colsample_bytree': np.arange(0.55,0.71,.05)\n",
    "               \n",
    "            }\n",
    "\n",
    "combinacion_total=1\n",
    "for k, v in params_dict.items():\n",
    "    combinacion_total *=len(v)\n",
    "combinacion_total"
   ]
  },
  {
   "cell_type": "code",
   "execution_count": 78,
   "id": "0ac6d66e",
   "metadata": {},
   "outputs": [
    {
     "name": "stdout",
     "output_type": "stream",
     "text": [
      "Fitting 10 folds for each of 60 candidates, totalling 600 fits\n",
      "[12:51:03] WARNING: D:\\bld\\xgboost-split_1637426510059\\work\\src\\learner.cc:1115: Starting in XGBoost 1.3.0, the default evaluation metric used with the objective 'multi:softprob' was changed from 'merror' to 'mlogloss'. Explicitly set eval_metric if you'd like to restore the old behavior.\n"
     ]
    },
    {
     "data": {
      "text/plain": [
       "GridSearchCV(cv=10,\n",
       "             estimator=XGBClassifier(base_score=None, booster=None,\n",
       "                                     colsample_bylevel=None,\n",
       "                                     colsample_bynode=None,\n",
       "                                     colsample_bytree=None,\n",
       "                                     enable_categorical=False, gamma=None,\n",
       "                                     gpu_id=None, importance_type=None,\n",
       "                                     interaction_constraints=None,\n",
       "                                     learning_rate=None, max_delta_step=None,\n",
       "                                     max_depth=None, min_child_weight=None,\n",
       "                                     missing=nan, monotone_constraints=None...\n",
       "                                     num_parallel_tree=None, predictor=None,\n",
       "                                     random_state=None, reg_alpha=None,\n",
       "                                     reg_lambda=None, scale_pos_weight=None,\n",
       "                                     subsample=None, tree_method=None,\n",
       "                                     validate_parameters=None, verbosity=None),\n",
       "             n_jobs=-1,\n",
       "             param_grid={'colsample_bytree': array([0.55, 0.6 , 0.65, 0.7 ]),\n",
       "                         'max_depth': array([12, 13, 14]),\n",
       "                         'n_estimators': array([100, 125, 150, 175, 200])},\n",
       "             scoring='f1_macro', verbose=2)"
      ]
     },
     "execution_count": 78,
     "metadata": {},
     "output_type": "execute_result"
    }
   ],
   "source": [
    "#GridSearch:\n",
    "model = XGBClassifier()\n",
    "grid_cv = GridSearchCV(estimator = model, \n",
    "                       param_grid = params_dict, \n",
    "                       scoring='f1_macro',\n",
    "                       cv = 10,\n",
    "                       verbose=2, \n",
    "                       n_jobs = -1\n",
    "                       )\n",
    "grid_cv.fit(X_train, y_train)"
   ]
  },
  {
   "cell_type": "code",
   "execution_count": 79,
   "id": "ad36986f",
   "metadata": {},
   "outputs": [
    {
     "data": {
      "text/plain": [
       "({'colsample_bytree': 0.6000000000000001,\n",
       "  'max_depth': 12,\n",
       "  'n_estimators': 175},\n",
       " 0.8572471088608898)"
      ]
     },
     "execution_count": 79,
     "metadata": {},
     "output_type": "execute_result"
    }
   ],
   "source": [
    "grid_cv.best_params_, grid_cv.best_score_"
   ]
  },
  {
   "cell_type": "code",
   "execution_count": 80,
   "id": "90169f72",
   "metadata": {},
   "outputs": [
    {
     "name": "stdout",
     "output_type": "stream",
     "text": [
      "[12:51:04] WARNING: D:\\bld\\xgboost-split_1637426510059\\work\\src\\learner.cc:1115: Starting in XGBoost 1.3.0, the default evaluation metric used with the objective 'multi:softprob' was changed from 'merror' to 'mlogloss'. Explicitly set eval_metric if you'd like to restore the old behavior.\n"
     ]
    },
    {
     "data": {
      "text/plain": [
       "XGBClassifier(base_score=0.5, booster='gbtree', colsample_bylevel=1,\n",
       "              colsample_bynode=1, colsample_bytree=0.6000000000000001,\n",
       "              enable_categorical=False, gamma=0, gpu_id=-1,\n",
       "              importance_type=None, interaction_constraints='',\n",
       "              learning_rate=0.300000012, max_delta_step=0, max_depth=12,\n",
       "              min_child_weight=1, missing=nan, monotone_constraints='()',\n",
       "              n_estimators=175, n_jobs=12, num_parallel_tree=1,\n",
       "              objective='multi:softprob', predictor='auto', random_state=0,\n",
       "              reg_alpha=0, reg_lambda=1, scale_pos_weight=None, subsample=1,\n",
       "              tree_method='exact', validate_parameters=1, verbosity=None)"
      ]
     },
     "execution_count": 80,
     "metadata": {},
     "output_type": "execute_result"
    }
   ],
   "source": [
    "xgb_model = XGBClassifier(**grid_cv.best_params_)\n",
    "xgb_model.fit(X_train, y_train)"
   ]
  },
  {
   "cell_type": "code",
   "execution_count": 81,
   "id": "de116ec7",
   "metadata": {},
   "outputs": [
    {
     "data": {
      "text/plain": [
       "0.8477736166345787"
      ]
     },
     "execution_count": 81,
     "metadata": {},
     "output_type": "execute_result"
    }
   ],
   "source": [
    "y_hat_xgb = xgb_model.predict(X_test)\n",
    "f1_xgb = f1_score(y_test, y_hat_xgb, average='macro')\n",
    "f1_xgb"
   ]
  },
  {
   "cell_type": "code",
   "execution_count": 82,
   "id": "0c50c91b",
   "metadata": {},
   "outputs": [
    {
     "name": "stdout",
     "output_type": "stream",
     "text": [
      "                     precision    recall  f1-score   support\n",
      "\n",
      "Insufficient_Weight       0.88      0.91      0.89        54\n",
      "      Normal_Weight       0.74      0.74      0.74        58\n",
      " Overweight_Level_I       0.71      0.79      0.75        58\n",
      "Overweight_Level_II       0.81      0.76      0.79        58\n",
      "     Obesity_Type_I       0.84      0.81      0.83        70\n",
      "    Obesity_Type_II       0.97      0.95      0.96        60\n",
      "   Obesity_Type_III       1.00      0.97      0.98        65\n",
      "\n",
      "           accuracy                           0.85       423\n",
      "          macro avg       0.85      0.85      0.85       423\n",
      "       weighted avg       0.85      0.85      0.85       423\n",
      "\n"
     ]
    },
    {
     "data": {
      "image/png": "[encoded data removed]",
      "text/plain": [
       "<Figure size 504x360 with 2 Axes>"
      ]
     },
     "metadata": {},
     "output_type": "display_data"
    }
   ],
   "source": [
    "GraficaCM(y_test, y_hat_xgb, class_dict)"
   ]
  },
  {
   "cell_type": "markdown",
   "id": "450fcad1",
   "metadata": {},
   "source": [
    "## Resultados"
   ]
  },
  {
   "cell_type": "code",
   "execution_count": 83,
   "id": "d3f61fc5",
   "metadata": {},
   "outputs": [],
   "source": [
    "#Valores estimados:\n",
    "y_hat_log = lgr_model.predict(X_test)\n",
    "y_hat_rf = rf_model.predict(X_test)\n",
    "y_hat_svm = svm_model.predict(X_test)\n",
    "y_hat_kn = kn_model.predict(X_test)\n",
    "y_hat_dt = dt_model.predict(X_test)\n",
    "y_hat_xgb = xgb_model.predict(X_test)"
   ]
  },
  {
   "cell_type": "code",
   "execution_count": 88,
   "id": "53ff4c82",
   "metadata": {},
   "outputs": [],
   "source": [
    "from sklearn.metrics import precision_score, f1_score, recall_score\n",
    "\n",
    "#Precision:\n",
    "from sklearn.metrics import precision_score, f1_score, recall_score\n",
    "lg_pre = precision_score(y_test, y_hat_log, average='macro')\n",
    "rf_pre = precision_score(y_test, y_hat_rf, average='macro')\n",
    "svm_pre = precision_score(y_test, y_hat_svm, average='macro')\n",
    "dt_pre = precision_score(y_test, y_hat_dt, average='macro')\n",
    "kn_pre = precision_score(y_test, y_hat_kn, average='macro')\n",
    "xgb_pre = precision_score(y_test, y_hat_xgb, average='macro')\n",
    "\n",
    "#F1:\n",
    "lg_f1 = f1_score(y_test, y_hat_log, average='macro')\n",
    "rf_f1 = f1_score(y_test, y_hat_rf, average='macro')\n",
    "svm_f1 = f1_score(y_test, y_hat_svm, average='macro')\n",
    "dt_f1 = f1_score(y_test, y_hat_dt, average='macro')\n",
    "kn_f1 = f1_score(y_test, y_hat_kn, average='macro')\n",
    "xgb_f1 = f1_score(y_test, y_hat_xgb, average='macro')\n",
    "\n",
    "#Sensibilidad:\n",
    "lg_re = recall_score(y_test, y_hat_log, average='macro')\n",
    "rf_re = recall_score(y_test, y_hat_rf, average='macro')\n",
    "svm_re = recall_score(y_test, y_hat_svm, average='macro')\n",
    "dt_re = recall_score(y_test, y_hat_dt, average='macro')\n",
    "kn_re = recall_score(y_test, y_hat_kn, average='macro')\n",
    "xgb_re = recall_score(y_test, y_hat_xgb, average='macro')"
   ]
  },
  {
   "cell_type": "code",
   "execution_count": 89,
   "id": "942bfcd9",
   "metadata": {},
   "outputs": [
    {
     "data": {
      "text/html": [
       "<div>\n",
       "<style scoped>\n",
       "    .dataframe tbody tr th:only-of-type {\n",
       "        vertical-align: middle;\n",
       "    }\n",
       "\n",
       "    .dataframe tbody tr th {\n",
       "        vertical-align: top;\n",
       "    }\n",
       "\n",
       "    .dataframe thead th {\n",
       "        text-align: right;\n",
       "    }\n",
       "</style>\n",
       "<table border=\"1\" class=\"dataframe\">\n",
       "  <thead>\n",
       "    <tr style=\"text-align: right;\">\n",
       "      <th></th>\n",
       "      <th>Modelo</th>\n",
       "      <th>Precision</th>\n",
       "      <th>Recall</th>\n",
       "      <th>f1_score</th>\n",
       "    </tr>\n",
       "  </thead>\n",
       "  <tbody>\n",
       "    <tr>\n",
       "      <th>0</th>\n",
       "      <td>RandomForest</td>\n",
       "      <td>0.839516</td>\n",
       "      <td>0.838288</td>\n",
       "      <td>0.838339</td>\n",
       "    </tr>\n",
       "    <tr>\n",
       "      <th>1</th>\n",
       "      <td>LogisticRegression</td>\n",
       "      <td>0.944740</td>\n",
       "      <td>0.944807</td>\n",
       "      <td>0.944360</td>\n",
       "    </tr>\n",
       "    <tr>\n",
       "      <th>2</th>\n",
       "      <td>SVM</td>\n",
       "      <td>0.913786</td>\n",
       "      <td>0.913671</td>\n",
       "      <td>0.913541</td>\n",
       "    </tr>\n",
       "    <tr>\n",
       "      <th>3</th>\n",
       "      <td>DecisionTree</td>\n",
       "      <td>0.752869</td>\n",
       "      <td>0.734581</td>\n",
       "      <td>0.739200</td>\n",
       "    </tr>\n",
       "    <tr>\n",
       "      <th>4</th>\n",
       "      <td>XGBClassifier</td>\n",
       "      <td>0.849032</td>\n",
       "      <td>0.847718</td>\n",
       "      <td>0.847774</td>\n",
       "    </tr>\n",
       "    <tr>\n",
       "      <th>5</th>\n",
       "      <td>KNeighbors</td>\n",
       "      <td>0.847573</td>\n",
       "      <td>0.850633</td>\n",
       "      <td>0.841838</td>\n",
       "    </tr>\n",
       "  </tbody>\n",
       "</table>\n",
       "</div>"
      ],
      "text/plain": [
       "               Modelo  Precision    Recall  f1_score\n",
       "0        RandomForest   0.839516  0.838288  0.838339\n",
       "1  LogisticRegression   0.944740  0.944807  0.944360\n",
       "2                 SVM   0.913786  0.913671  0.913541\n",
       "3        DecisionTree   0.752869  0.734581  0.739200\n",
       "4       XGBClassifier   0.849032  0.847718  0.847774\n",
       "5          KNeighbors   0.847573  0.850633  0.841838"
      ]
     },
     "execution_count": 89,
     "metadata": {},
     "output_type": "execute_result"
    }
   ],
   "source": [
    "df_results = pd.DataFrame({'Modelo': ['RandomForest', 'LogisticRegression', 'SVM', 'DecisionTree', \n",
    "                                     'XGBClassifier', 'KNeighbors'],\n",
    "                          'Precision': [rf_pre, lg_pre, svm_pre,\n",
    "                                           dt_pre, xgb_pre, kn_pre],\n",
    "                          'Recall': [rf_re, lg_re, svm_re,\n",
    "                                           dt_re, xgb_re, kn_re],\n",
    "                          'f1_score': [rf_f1, lg_f1, svm_f1,\n",
    "                                           dt_f1, xgb_f1, kn_f1]})\n",
    "df_results"
   ]
  },
  {
   "cell_type": "code",
   "execution_count": 93,
   "id": "a473fd37",
   "metadata": {},
   "outputs": [
    {
     "data": {
      "text/html": [
       "<div>\n",
       "<style scoped>\n",
       "    .dataframe tbody tr th:only-of-type {\n",
       "        vertical-align: middle;\n",
       "    }\n",
       "\n",
       "    .dataframe tbody tr th {\n",
       "        vertical-align: top;\n",
       "    }\n",
       "\n",
       "    .dataframe thead th {\n",
       "        text-align: right;\n",
       "    }\n",
       "</style>\n",
       "<table border=\"1\" class=\"dataframe\">\n",
       "  <thead>\n",
       "    <tr style=\"text-align: right;\">\n",
       "      <th></th>\n",
       "      <th>Modelo</th>\n",
       "      <th>Precision</th>\n",
       "      <th>Recall</th>\n",
       "      <th>f1_score</th>\n",
       "    </tr>\n",
       "  </thead>\n",
       "  <tbody>\n",
       "    <tr>\n",
       "      <th>0</th>\n",
       "      <td>LogisticRegression</td>\n",
       "      <td>0.944740</td>\n",
       "      <td>0.944807</td>\n",
       "      <td>0.944360</td>\n",
       "    </tr>\n",
       "    <tr>\n",
       "      <th>1</th>\n",
       "      <td>SVM</td>\n",
       "      <td>0.913786</td>\n",
       "      <td>0.913671</td>\n",
       "      <td>0.913541</td>\n",
       "    </tr>\n",
       "    <tr>\n",
       "      <th>2</th>\n",
       "      <td>XGBClassifier</td>\n",
       "      <td>0.849032</td>\n",
       "      <td>0.847718</td>\n",
       "      <td>0.847774</td>\n",
       "    </tr>\n",
       "    <tr>\n",
       "      <th>3</th>\n",
       "      <td>KNeighbors</td>\n",
       "      <td>0.847573</td>\n",
       "      <td>0.850633</td>\n",
       "      <td>0.841838</td>\n",
       "    </tr>\n",
       "    <tr>\n",
       "      <th>4</th>\n",
       "      <td>RandomForest</td>\n",
       "      <td>0.839516</td>\n",
       "      <td>0.838288</td>\n",
       "      <td>0.838339</td>\n",
       "    </tr>\n",
       "    <tr>\n",
       "      <th>5</th>\n",
       "      <td>DecisionTree</td>\n",
       "      <td>0.752869</td>\n",
       "      <td>0.734581</td>\n",
       "      <td>0.739200</td>\n",
       "    </tr>\n",
       "  </tbody>\n",
       "</table>\n",
       "</div>"
      ],
      "text/plain": [
       "               Modelo  Precision    Recall  f1_score\n",
       "0  LogisticRegression   0.944740  0.944807  0.944360\n",
       "1                 SVM   0.913786  0.913671  0.913541\n",
       "2       XGBClassifier   0.849032  0.847718  0.847774\n",
       "3          KNeighbors   0.847573  0.850633  0.841838\n",
       "4        RandomForest   0.839516  0.838288  0.838339\n",
       "5        DecisionTree   0.752869  0.734581  0.739200"
      ]
     },
     "execution_count": 93,
     "metadata": {},
     "output_type": "execute_result"
    }
   ],
   "source": [
    "df_results.sort_values(['f1_score', 'Recall'], ascending=False, ignore_index=True)"
   ]
  }
 ],
 "metadata": {
  "kernelspec": {
   "display_name": "Python 3 (ipykernel)",
   "language": "python",
   "name": "python3"
  },
  "language_info": {
   "codemirror_mode": {
    "name": "ipython",
    "version": 3
   },
   "file_extension": ".py",
   "mimetype": "text/x-python",
   "name": "python",
   "nbconvert_exporter": "python",
   "pygments_lexer": "ipython3",
   "version": "3.8.0"
  }
 },
 "nbformat": 4,
 "nbformat_minor": 5
}
